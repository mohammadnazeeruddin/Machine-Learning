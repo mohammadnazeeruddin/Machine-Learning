{
 "cells": [
  {
   "cell_type": "code",
   "execution_count": 171,
   "metadata": {},
   "outputs": [],
   "source": [
    "#python packages for data analysis\n",
    "import pandas as pd\n",
    "import numpy as np\n",
    "# import pandas_profiling as pp \n",
    "# import warnings\n",
    "# arnings.filterwarnings('ignore')\n",
    "#warnings.filterwarnings(action='once')"
   ]
  },
  {
   "cell_type": "code",
   "execution_count": 253,
   "metadata": {},
   "outputs": [
    {
     "data": {
      "text/plain": [
       "Price_in_Rupees         696\n",
       "Off(%)                  696\n",
       "Ram                     696\n",
       "Rom                     696\n",
       "Expandable_GB/TB        696\n",
       "Screen_in_inch          696\n",
       "Secondary_Camera(MP)    696\n",
       "Battery_details         696\n",
       "Warranty(Year)          696\n",
       "Dual_sim_num            696\n",
       "dtype: int64"
      ]
     },
     "execution_count": 253,
     "metadata": {},
     "output_type": "execute_result"
    }
   ],
   "source": [
    "# loading data set.\n",
    "df = pd.read_csv('mob_data.csv')\n",
    "#df = df.drop_duplicates(subset=df.columns, keep='first')\n",
    "df.drop('Rating', axis=1, inplace=True)\n",
    "df.count()"
   ]
  },
  {
   "cell_type": "code",
   "execution_count": 173,
   "metadata": {
    "scrolled": false
   },
   "outputs": [],
   "source": [
    "#data profiling.\n",
    "#pp.ProfileReport(df)"
   ]
  },
  {
   "cell_type": "code",
   "execution_count": 174,
   "metadata": {
    "scrolled": true
   },
   "outputs": [
    {
     "data": {
      "text/html": [
       "<div>\n",
       "<style scoped>\n",
       "    .dataframe tbody tr th:only-of-type {\n",
       "        vertical-align: middle;\n",
       "    }\n",
       "\n",
       "    .dataframe tbody tr th {\n",
       "        vertical-align: top;\n",
       "    }\n",
       "\n",
       "    .dataframe thead th {\n",
       "        text-align: right;\n",
       "    }\n",
       "</style>\n",
       "<table border=\"1\" class=\"dataframe\">\n",
       "  <thead>\n",
       "    <tr style=\"text-align: right;\">\n",
       "      <th></th>\n",
       "      <th>Price_in_Rupees</th>\n",
       "      <th>Off(%)</th>\n",
       "      <th>Ram</th>\n",
       "      <th>Rom</th>\n",
       "      <th>Expandable_GB/TB</th>\n",
       "      <th>Screen_in_inch</th>\n",
       "      <th>Secondary_Camera(MP)</th>\n",
       "      <th>Battery_details</th>\n",
       "      <th>Warranty(Year)</th>\n",
       "      <th>Dual_sim_num</th>\n",
       "    </tr>\n",
       "  </thead>\n",
       "  <tbody>\n",
       "    <tr>\n",
       "      <th>0</th>\n",
       "      <td>5999</td>\n",
       "      <td>14</td>\n",
       "      <td>2</td>\n",
       "      <td>16</td>\n",
       "      <td>256</td>\n",
       "      <td>6.1</td>\n",
       "      <td>5</td>\n",
       "      <td>4000</td>\n",
       "      <td>1</td>\n",
       "      <td>1</td>\n",
       "    </tr>\n",
       "    <tr>\n",
       "      <th>2</th>\n",
       "      <td>8990</td>\n",
       "      <td>49</td>\n",
       "      <td>3</td>\n",
       "      <td>64</td>\n",
       "      <td>256</td>\n",
       "      <td>5.5</td>\n",
       "      <td>8</td>\n",
       "      <td>3300</td>\n",
       "      <td>1</td>\n",
       "      <td>1</td>\n",
       "    </tr>\n",
       "    <tr>\n",
       "      <th>3</th>\n",
       "      <td>10000</td>\n",
       "      <td>10</td>\n",
       "      <td>2</td>\n",
       "      <td>16</td>\n",
       "      <td>128</td>\n",
       "      <td>5.0</td>\n",
       "      <td>5</td>\n",
       "      <td>2630</td>\n",
       "      <td>1</td>\n",
       "      <td>1</td>\n",
       "    </tr>\n",
       "    <tr>\n",
       "      <th>4</th>\n",
       "      <td>10000</td>\n",
       "      <td>10</td>\n",
       "      <td>3</td>\n",
       "      <td>16</td>\n",
       "      <td>256</td>\n",
       "      <td>5.2</td>\n",
       "      <td>5</td>\n",
       "      <td>3000</td>\n",
       "      <td>1</td>\n",
       "      <td>1</td>\n",
       "    </tr>\n",
       "    <tr>\n",
       "      <th>5</th>\n",
       "      <td>9800</td>\n",
       "      <td>25</td>\n",
       "      <td>3</td>\n",
       "      <td>16</td>\n",
       "      <td>256</td>\n",
       "      <td>5.2</td>\n",
       "      <td>5</td>\n",
       "      <td>3000</td>\n",
       "      <td>1</td>\n",
       "      <td>1</td>\n",
       "    </tr>\n",
       "  </tbody>\n",
       "</table>\n",
       "</div>"
      ],
      "text/plain": [
       "   Price_in_Rupees  Off(%)  Ram  Rom  Expandable_GB/TB  Screen_in_inch  \\\n",
       "0             5999      14    2   16               256             6.1   \n",
       "2             8990      49    3   64               256             5.5   \n",
       "3            10000      10    2   16               128             5.0   \n",
       "4            10000      10    3   16               256             5.2   \n",
       "5             9800      25    3   16               256             5.2   \n",
       "\n",
       "   Secondary_Camera(MP)  Battery_details  Warranty(Year)  Dual_sim_num  \n",
       "0                     5             4000               1             1  \n",
       "2                     8             3300               1             1  \n",
       "3                     5             2630               1             1  \n",
       "4                     5             3000               1             1  \n",
       "5                     5             3000               1             1  "
      ]
     },
     "execution_count": 174,
     "metadata": {},
     "output_type": "execute_result"
    }
   ],
   "source": [
    "df.head()"
   ]
  },
  {
   "cell_type": "code",
   "execution_count": 175,
   "metadata": {
    "scrolled": true
   },
   "outputs": [],
   "source": [
    "#dir(pp)"
   ]
  },
  {
   "cell_type": "code",
   "execution_count": 176,
   "metadata": {
    "scrolled": false
   },
   "outputs": [],
   "source": [
    "# pp.describe_df(df)"
   ]
  },
  {
   "cell_type": "code",
   "execution_count": 177,
   "metadata": {},
   "outputs": [],
   "source": [
    "# import sklearn.preprocessing for label encoding."
   ]
  },
  {
   "cell_type": "code",
   "execution_count": 181,
   "metadata": {},
   "outputs": [],
   "source": [
    "from sklearn.preprocessing import LabelEncoder\n",
    "\n",
    "price_lb = LabelEncoder()\n",
    "ram_lb = LabelEncoder()\n",
    "Rom_lb = LabelEncoder()\n",
    "Expandable_lb = LabelEncoder()\n",
    "Screen_in_inch_lb = LabelEncoder()\n",
    "Secondary_Camera_lb = LabelEncoder()\n",
    "Battery_details_lb= LabelEncoder()\n",
    "Warranty_lb= LabelEncoder()\n",
    "Rating_lb= LabelEncoder()\n",
    "Dual_sim_num_lb= LabelEncoder()\n",
    "\n",
    "df['price_encoded'] = price_lb.fit_transform(df.Price_in_Rupees)\n",
    "df['Ram_encoded'] = ram_lb.fit_transform(df.Ram)\n",
    "df['Rom_encoded'] = Rom_lb.fit_transform(df.Rom)\n",
    "df['Expand_encoded'] = Expandable_lb.fit_transform(df['Expandable_GB/TB'])\n",
    "df['Screen_encoded'] = Screen_in_inch_lb.fit_transform(df.Screen_in_inch)\n",
    "df['Secondary_Camera_encoded'] = Secondary_Camera_lb.fit_transform(df['Secondary_Camera(MP)'])\n",
    "df['Battery_encoded'] = Battery_details_lb.fit_transform(df.Battery_details)\n",
    "df['Warranty_encoded'] = Warranty_lb.fit_transform(df['Warranty(Year)'])\n",
    "#df['Rating_encoded'] = Rating_lb.fit_transform(df.Rating)\n",
    "df['Dual_sim_encoded'] = Dual_sim_num_lb.fit_transform(df.Dual_sim_num)"
   ]
  },
  {
   "cell_type": "code",
   "execution_count": 182,
   "metadata": {},
   "outputs": [
    {
     "data": {
      "text/html": [
       "<div>\n",
       "<style scoped>\n",
       "    .dataframe tbody tr th:only-of-type {\n",
       "        vertical-align: middle;\n",
       "    }\n",
       "\n",
       "    .dataframe tbody tr th {\n",
       "        vertical-align: top;\n",
       "    }\n",
       "\n",
       "    .dataframe thead th {\n",
       "        text-align: right;\n",
       "    }\n",
       "</style>\n",
       "<table border=\"1\" class=\"dataframe\">\n",
       "  <thead>\n",
       "    <tr style=\"text-align: right;\">\n",
       "      <th></th>\n",
       "      <th>Price_in_Rupees</th>\n",
       "      <th>Off(%)</th>\n",
       "      <th>Ram</th>\n",
       "      <th>Rom</th>\n",
       "      <th>Expandable_GB/TB</th>\n",
       "      <th>Screen_in_inch</th>\n",
       "      <th>Secondary_Camera(MP)</th>\n",
       "      <th>Battery_details</th>\n",
       "      <th>Warranty(Year)</th>\n",
       "      <th>Dual_sim_num</th>\n",
       "      <th>price_encoded</th>\n",
       "      <th>Ram_encoded</th>\n",
       "      <th>Rom_encoded</th>\n",
       "      <th>Expand_encoded</th>\n",
       "      <th>Screen_encoded</th>\n",
       "      <th>Secondary_Camera_encoded</th>\n",
       "      <th>Battery_encoded</th>\n",
       "      <th>Warranty_encoded</th>\n",
       "      <th>Dual_sim_encoded</th>\n",
       "    </tr>\n",
       "  </thead>\n",
       "  <tbody>\n",
       "    <tr>\n",
       "      <th>0</th>\n",
       "      <td>5999</td>\n",
       "      <td>14</td>\n",
       "      <td>2</td>\n",
       "      <td>16</td>\n",
       "      <td>256</td>\n",
       "      <td>6.1</td>\n",
       "      <td>5</td>\n",
       "      <td>4000</td>\n",
       "      <td>1</td>\n",
       "      <td>1</td>\n",
       "      <td>40</td>\n",
       "      <td>1</td>\n",
       "      <td>2</td>\n",
       "      <td>6</td>\n",
       "      <td>19</td>\n",
       "      <td>3</td>\n",
       "      <td>41</td>\n",
       "      <td>0</td>\n",
       "      <td>0</td>\n",
       "    </tr>\n",
       "    <tr>\n",
       "      <th>2</th>\n",
       "      <td>8990</td>\n",
       "      <td>49</td>\n",
       "      <td>3</td>\n",
       "      <td>64</td>\n",
       "      <td>256</td>\n",
       "      <td>5.5</td>\n",
       "      <td>8</td>\n",
       "      <td>3300</td>\n",
       "      <td>1</td>\n",
       "      <td>1</td>\n",
       "      <td>71</td>\n",
       "      <td>2</td>\n",
       "      <td>5</td>\n",
       "      <td>6</td>\n",
       "      <td>9</td>\n",
       "      <td>4</td>\n",
       "      <td>31</td>\n",
       "      <td>0</td>\n",
       "      <td>0</td>\n",
       "    </tr>\n",
       "    <tr>\n",
       "      <th>3</th>\n",
       "      <td>10000</td>\n",
       "      <td>10</td>\n",
       "      <td>2</td>\n",
       "      <td>16</td>\n",
       "      <td>128</td>\n",
       "      <td>5.0</td>\n",
       "      <td>5</td>\n",
       "      <td>2630</td>\n",
       "      <td>1</td>\n",
       "      <td>1</td>\n",
       "      <td>81</td>\n",
       "      <td>1</td>\n",
       "      <td>2</td>\n",
       "      <td>5</td>\n",
       "      <td>5</td>\n",
       "      <td>3</td>\n",
       "      <td>16</td>\n",
       "      <td>0</td>\n",
       "      <td>0</td>\n",
       "    </tr>\n",
       "    <tr>\n",
       "      <th>4</th>\n",
       "      <td>10000</td>\n",
       "      <td>10</td>\n",
       "      <td>3</td>\n",
       "      <td>16</td>\n",
       "      <td>256</td>\n",
       "      <td>5.2</td>\n",
       "      <td>5</td>\n",
       "      <td>3000</td>\n",
       "      <td>1</td>\n",
       "      <td>1</td>\n",
       "      <td>81</td>\n",
       "      <td>2</td>\n",
       "      <td>2</td>\n",
       "      <td>6</td>\n",
       "      <td>6</td>\n",
       "      <td>3</td>\n",
       "      <td>22</td>\n",
       "      <td>0</td>\n",
       "      <td>0</td>\n",
       "    </tr>\n",
       "    <tr>\n",
       "      <th>5</th>\n",
       "      <td>9800</td>\n",
       "      <td>25</td>\n",
       "      <td>3</td>\n",
       "      <td>16</td>\n",
       "      <td>256</td>\n",
       "      <td>5.2</td>\n",
       "      <td>5</td>\n",
       "      <td>3000</td>\n",
       "      <td>1</td>\n",
       "      <td>1</td>\n",
       "      <td>78</td>\n",
       "      <td>2</td>\n",
       "      <td>2</td>\n",
       "      <td>6</td>\n",
       "      <td>6</td>\n",
       "      <td>3</td>\n",
       "      <td>22</td>\n",
       "      <td>0</td>\n",
       "      <td>0</td>\n",
       "    </tr>\n",
       "  </tbody>\n",
       "</table>\n",
       "</div>"
      ],
      "text/plain": [
       "   Price_in_Rupees  Off(%)  Ram  Rom  Expandable_GB/TB  Screen_in_inch  \\\n",
       "0             5999      14    2   16               256             6.1   \n",
       "2             8990      49    3   64               256             5.5   \n",
       "3            10000      10    2   16               128             5.0   \n",
       "4            10000      10    3   16               256             5.2   \n",
       "5             9800      25    3   16               256             5.2   \n",
       "\n",
       "   Secondary_Camera(MP)  Battery_details  Warranty(Year)  Dual_sim_num  \\\n",
       "0                     5             4000               1             1   \n",
       "2                     8             3300               1             1   \n",
       "3                     5             2630               1             1   \n",
       "4                     5             3000               1             1   \n",
       "5                     5             3000               1             1   \n",
       "\n",
       "   price_encoded  Ram_encoded  Rom_encoded  Expand_encoded  Screen_encoded  \\\n",
       "0             40            1            2               6              19   \n",
       "2             71            2            5               6               9   \n",
       "3             81            1            2               5               5   \n",
       "4             81            2            2               6               6   \n",
       "5             78            2            2               6               6   \n",
       "\n",
       "   Secondary_Camera_encoded  Battery_encoded  Warranty_encoded  \\\n",
       "0                         3               41                 0   \n",
       "2                         4               31                 0   \n",
       "3                         3               16                 0   \n",
       "4                         3               22                 0   \n",
       "5                         3               22                 0   \n",
       "\n",
       "   Dual_sim_encoded  \n",
       "0                 0  \n",
       "2                 0  \n",
       "3                 0  \n",
       "4                 0  \n",
       "5                 0  "
      ]
     },
     "execution_count": 182,
     "metadata": {},
     "output_type": "execute_result"
    }
   ],
   "source": [
    "df.head()"
   ]
  },
  {
   "cell_type": "code",
   "execution_count": 183,
   "metadata": {},
   "outputs": [
    {
     "data": {
      "text/plain": [
       "0    5999\n",
       "2    8990\n",
       "Name: Price_in_Rupees, dtype: int64"
      ]
     },
     "execution_count": 183,
     "metadata": {},
     "output_type": "execute_result"
    }
   ],
   "source": [
    "df.Price_in_Rupees[0:2]"
   ]
  },
  {
   "cell_type": "code",
   "execution_count": 184,
   "metadata": {},
   "outputs": [
    {
     "data": {
      "text/plain": [
       "0    40\n",
       "2    71\n",
       "Name: price_encoded, dtype: int64"
      ]
     },
     "execution_count": 184,
     "metadata": {},
     "output_type": "execute_result"
    }
   ],
   "source": [
    "df.price_encoded[0:2] # After Label Encodig"
   ]
  },
  {
   "cell_type": "code",
   "execution_count": 185,
   "metadata": {},
   "outputs": [
    {
     "data": {
      "text/html": [
       "<div>\n",
       "<style scoped>\n",
       "    .dataframe tbody tr th:only-of-type {\n",
       "        vertical-align: middle;\n",
       "    }\n",
       "\n",
       "    .dataframe tbody tr th {\n",
       "        vertical-align: top;\n",
       "    }\n",
       "\n",
       "    .dataframe thead th {\n",
       "        text-align: right;\n",
       "    }\n",
       "</style>\n",
       "<table border=\"1\" class=\"dataframe\">\n",
       "  <thead>\n",
       "    <tr style=\"text-align: right;\">\n",
       "      <th></th>\n",
       "      <th>Price_in_Rupees</th>\n",
       "      <th>Off(%)</th>\n",
       "      <th>Ram</th>\n",
       "      <th>Rom</th>\n",
       "      <th>Expandable_GB/TB</th>\n",
       "      <th>Screen_in_inch</th>\n",
       "      <th>Secondary_Camera(MP)</th>\n",
       "      <th>Battery_details</th>\n",
       "      <th>Warranty(Year)</th>\n",
       "      <th>Dual_sim_num</th>\n",
       "      <th>price_encoded</th>\n",
       "      <th>Ram_encoded</th>\n",
       "      <th>Rom_encoded</th>\n",
       "      <th>Expand_encoded</th>\n",
       "      <th>Screen_encoded</th>\n",
       "      <th>Secondary_Camera_encoded</th>\n",
       "      <th>Battery_encoded</th>\n",
       "      <th>Warranty_encoded</th>\n",
       "      <th>Dual_sim_encoded</th>\n",
       "    </tr>\n",
       "  </thead>\n",
       "  <tbody>\n",
       "    <tr>\n",
       "      <th>0</th>\n",
       "      <td>5999</td>\n",
       "      <td>14</td>\n",
       "      <td>2</td>\n",
       "      <td>16</td>\n",
       "      <td>256</td>\n",
       "      <td>6.1</td>\n",
       "      <td>5</td>\n",
       "      <td>4000</td>\n",
       "      <td>1</td>\n",
       "      <td>1</td>\n",
       "      <td>40</td>\n",
       "      <td>1</td>\n",
       "      <td>2</td>\n",
       "      <td>6</td>\n",
       "      <td>19</td>\n",
       "      <td>3</td>\n",
       "      <td>41</td>\n",
       "      <td>0</td>\n",
       "      <td>0</td>\n",
       "    </tr>\n",
       "    <tr>\n",
       "      <th>2</th>\n",
       "      <td>8990</td>\n",
       "      <td>49</td>\n",
       "      <td>3</td>\n",
       "      <td>64</td>\n",
       "      <td>256</td>\n",
       "      <td>5.5</td>\n",
       "      <td>8</td>\n",
       "      <td>3300</td>\n",
       "      <td>1</td>\n",
       "      <td>1</td>\n",
       "      <td>71</td>\n",
       "      <td>2</td>\n",
       "      <td>5</td>\n",
       "      <td>6</td>\n",
       "      <td>9</td>\n",
       "      <td>4</td>\n",
       "      <td>31</td>\n",
       "      <td>0</td>\n",
       "      <td>0</td>\n",
       "    </tr>\n",
       "    <tr>\n",
       "      <th>3</th>\n",
       "      <td>10000</td>\n",
       "      <td>10</td>\n",
       "      <td>2</td>\n",
       "      <td>16</td>\n",
       "      <td>128</td>\n",
       "      <td>5.0</td>\n",
       "      <td>5</td>\n",
       "      <td>2630</td>\n",
       "      <td>1</td>\n",
       "      <td>1</td>\n",
       "      <td>81</td>\n",
       "      <td>1</td>\n",
       "      <td>2</td>\n",
       "      <td>5</td>\n",
       "      <td>5</td>\n",
       "      <td>3</td>\n",
       "      <td>16</td>\n",
       "      <td>0</td>\n",
       "      <td>0</td>\n",
       "    </tr>\n",
       "    <tr>\n",
       "      <th>4</th>\n",
       "      <td>10000</td>\n",
       "      <td>10</td>\n",
       "      <td>3</td>\n",
       "      <td>16</td>\n",
       "      <td>256</td>\n",
       "      <td>5.2</td>\n",
       "      <td>5</td>\n",
       "      <td>3000</td>\n",
       "      <td>1</td>\n",
       "      <td>1</td>\n",
       "      <td>81</td>\n",
       "      <td>2</td>\n",
       "      <td>2</td>\n",
       "      <td>6</td>\n",
       "      <td>6</td>\n",
       "      <td>3</td>\n",
       "      <td>22</td>\n",
       "      <td>0</td>\n",
       "      <td>0</td>\n",
       "    </tr>\n",
       "    <tr>\n",
       "      <th>5</th>\n",
       "      <td>9800</td>\n",
       "      <td>25</td>\n",
       "      <td>3</td>\n",
       "      <td>16</td>\n",
       "      <td>256</td>\n",
       "      <td>5.2</td>\n",
       "      <td>5</td>\n",
       "      <td>3000</td>\n",
       "      <td>1</td>\n",
       "      <td>1</td>\n",
       "      <td>78</td>\n",
       "      <td>2</td>\n",
       "      <td>2</td>\n",
       "      <td>6</td>\n",
       "      <td>6</td>\n",
       "      <td>3</td>\n",
       "      <td>22</td>\n",
       "      <td>0</td>\n",
       "      <td>0</td>\n",
       "    </tr>\n",
       "  </tbody>\n",
       "</table>\n",
       "</div>"
      ],
      "text/plain": [
       "   Price_in_Rupees  Off(%)  Ram  Rom  Expandable_GB/TB  Screen_in_inch  \\\n",
       "0             5999      14    2   16               256             6.1   \n",
       "2             8990      49    3   64               256             5.5   \n",
       "3            10000      10    2   16               128             5.0   \n",
       "4            10000      10    3   16               256             5.2   \n",
       "5             9800      25    3   16               256             5.2   \n",
       "\n",
       "   Secondary_Camera(MP)  Battery_details  Warranty(Year)  Dual_sim_num  \\\n",
       "0                     5             4000               1             1   \n",
       "2                     8             3300               1             1   \n",
       "3                     5             2630               1             1   \n",
       "4                     5             3000               1             1   \n",
       "5                     5             3000               1             1   \n",
       "\n",
       "   price_encoded  Ram_encoded  Rom_encoded  Expand_encoded  Screen_encoded  \\\n",
       "0             40            1            2               6              19   \n",
       "2             71            2            5               6               9   \n",
       "3             81            1            2               5               5   \n",
       "4             81            2            2               6               6   \n",
       "5             78            2            2               6               6   \n",
       "\n",
       "   Secondary_Camera_encoded  Battery_encoded  Warranty_encoded  \\\n",
       "0                         3               41                 0   \n",
       "2                         4               31                 0   \n",
       "3                         3               16                 0   \n",
       "4                         3               22                 0   \n",
       "5                         3               22                 0   \n",
       "\n",
       "   Dual_sim_encoded  \n",
       "0                 0  \n",
       "2                 0  \n",
       "3                 0  \n",
       "4                 0  \n",
       "5                 0  "
      ]
     },
     "execution_count": 185,
     "metadata": {},
     "output_type": "execute_result"
    }
   ],
   "source": [
    "df.head() # All Columns After Label Encoding "
   ]
  },
  {
   "cell_type": "code",
   "execution_count": 189,
   "metadata": {},
   "outputs": [],
   "source": [
    "a = df[['Ram','Rom','Expandable_GB/TB','Screen_in_inch','Secondary_Camera(MP)',\n",
    "         'Battery_details','Warranty(Year)','Dual_sim_num']]\n",
    "b = df.Price_in_Rupees"
   ]
  },
  {
   "cell_type": "code",
   "execution_count": 190,
   "metadata": {},
   "outputs": [
    {
     "data": {
      "text/plain": [
       "(304, 8)"
      ]
     },
     "execution_count": 190,
     "metadata": {},
     "output_type": "execute_result"
    }
   ],
   "source": [
    "a.shape"
   ]
  },
  {
   "cell_type": "code",
   "execution_count": 191,
   "metadata": {},
   "outputs": [
    {
     "data": {
      "text/plain": [
       "(304,)"
      ]
     },
     "execution_count": 191,
     "metadata": {},
     "output_type": "execute_result"
    }
   ],
   "source": [
    "b.shape"
   ]
  },
  {
   "cell_type": "code",
   "execution_count": 192,
   "metadata": {},
   "outputs": [],
   "source": [
    "from sklearn.model_selection import train_test_split"
   ]
  },
  {
   "cell_type": "code",
   "execution_count": 193,
   "metadata": {},
   "outputs": [],
   "source": [
    "X_train_,X_test_,y_train_,y_test_ = train_test_split(a,b,test_size=0.20,random_state=2)"
   ]
  },
  {
   "cell_type": "code",
   "execution_count": 194,
   "metadata": {},
   "outputs": [
    {
     "data": {
      "text/plain": [
       "(61,)"
      ]
     },
     "execution_count": 194,
     "metadata": {},
     "output_type": "execute_result"
    }
   ],
   "source": [
    "y_test_.shape"
   ]
  },
  {
   "cell_type": "code",
   "execution_count": 195,
   "metadata": {},
   "outputs": [],
   "source": [
    "# one hot encoding\n",
    "# from sklearn.preprocessing import OneHotEncoder\n",
    "# price_ohe = OneHotEncoder()\n",
    "# ram_ohe = OneHotEncoder()\n",
    "# Xp = price_ohe.fit_transform(mob.price_encoded.values.reshape(-1,1)).toarray()\n",
    "# Xr = ram_ohe.fit_transform(mob.Ram_encoded.values.reshape(-1,1)).toarray()"
   ]
  },
  {
   "cell_type": "code",
   "execution_count": 196,
   "metadata": {},
   "outputs": [],
   "source": [
    "# mobOneHot = pd.DataFrame(Xp,columns = [\"price_\"+str(int(i)) for i in range(Xp.shape[1])])\n",
    "# mob = pd.concat([mob, mobOneHot], axis=1)\n",
    "\n",
    "# dfOneHot = pd.DataFrame(Xm, columns = [\"Make\"+str(int(i)) for i in range(X.shape[1])])\n",
    "# df = pd.concat([df, dfOneHot], axis=1)"
   ]
  },
  {
   "cell_type": "code",
   "execution_count": 197,
   "metadata": {},
   "outputs": [],
   "source": [
    "c=df['Price_in_Rupees']"
   ]
  },
  {
   "cell_type": "code",
   "execution_count": 198,
   "metadata": {},
   "outputs": [],
   "source": [
    "d=df['price_encoded']"
   ]
  },
  {
   "cell_type": "code",
   "execution_count": 199,
   "metadata": {},
   "outputs": [
    {
     "data": {
      "text/plain": [
       "Index(['Price_in_Rupees', 'Off(%)', 'Ram', 'Rom', 'Expandable_GB/TB',\n",
       "       'Screen_in_inch', 'Secondary_Camera(MP)', 'Battery_details',\n",
       "       'Warranty(Year)', 'Dual_sim_num', 'price_encoded', 'Ram_encoded',\n",
       "       'Rom_encoded', 'Expand_encoded', 'Screen_encoded',\n",
       "       'Secondary_Camera_encoded', 'Battery_encoded', 'Warranty_encoded',\n",
       "       'Dual_sim_encoded'],\n",
       "      dtype='object')"
      ]
     },
     "execution_count": 199,
     "metadata": {},
     "output_type": "execute_result"
    }
   ],
   "source": [
    "df.columns"
   ]
  },
  {
   "cell_type": "code",
   "execution_count": 201,
   "metadata": {},
   "outputs": [],
   "source": [
    "df=df.drop(['Price_in_Rupees','Off(%)','Rom','Ram','Expandable_GB/TB','Screen_in_inch','Secondary_Camera(MP)','Battery_details','Warranty(Year)','Dual_sim_num'],axis='columns')"
   ]
  },
  {
   "cell_type": "code",
   "execution_count": 202,
   "metadata": {},
   "outputs": [
    {
     "data": {
      "text/html": [
       "<div>\n",
       "<style scoped>\n",
       "    .dataframe tbody tr th:only-of-type {\n",
       "        vertical-align: middle;\n",
       "    }\n",
       "\n",
       "    .dataframe tbody tr th {\n",
       "        vertical-align: top;\n",
       "    }\n",
       "\n",
       "    .dataframe thead th {\n",
       "        text-align: right;\n",
       "    }\n",
       "</style>\n",
       "<table border=\"1\" class=\"dataframe\">\n",
       "  <thead>\n",
       "    <tr style=\"text-align: right;\">\n",
       "      <th></th>\n",
       "      <th>price_encoded</th>\n",
       "      <th>Ram_encoded</th>\n",
       "      <th>Rom_encoded</th>\n",
       "      <th>Expand_encoded</th>\n",
       "      <th>Screen_encoded</th>\n",
       "      <th>Secondary_Camera_encoded</th>\n",
       "      <th>Battery_encoded</th>\n",
       "      <th>Warranty_encoded</th>\n",
       "      <th>Dual_sim_encoded</th>\n",
       "    </tr>\n",
       "  </thead>\n",
       "  <tbody>\n",
       "    <tr>\n",
       "      <th>0</th>\n",
       "      <td>40</td>\n",
       "      <td>1</td>\n",
       "      <td>2</td>\n",
       "      <td>6</td>\n",
       "      <td>19</td>\n",
       "      <td>3</td>\n",
       "      <td>41</td>\n",
       "      <td>0</td>\n",
       "      <td>0</td>\n",
       "    </tr>\n",
       "    <tr>\n",
       "      <th>2</th>\n",
       "      <td>71</td>\n",
       "      <td>2</td>\n",
       "      <td>5</td>\n",
       "      <td>6</td>\n",
       "      <td>9</td>\n",
       "      <td>4</td>\n",
       "      <td>31</td>\n",
       "      <td>0</td>\n",
       "      <td>0</td>\n",
       "    </tr>\n",
       "    <tr>\n",
       "      <th>3</th>\n",
       "      <td>81</td>\n",
       "      <td>1</td>\n",
       "      <td>2</td>\n",
       "      <td>5</td>\n",
       "      <td>5</td>\n",
       "      <td>3</td>\n",
       "      <td>16</td>\n",
       "      <td>0</td>\n",
       "      <td>0</td>\n",
       "    </tr>\n",
       "    <tr>\n",
       "      <th>4</th>\n",
       "      <td>81</td>\n",
       "      <td>2</td>\n",
       "      <td>2</td>\n",
       "      <td>6</td>\n",
       "      <td>6</td>\n",
       "      <td>3</td>\n",
       "      <td>22</td>\n",
       "      <td>0</td>\n",
       "      <td>0</td>\n",
       "    </tr>\n",
       "    <tr>\n",
       "      <th>5</th>\n",
       "      <td>78</td>\n",
       "      <td>2</td>\n",
       "      <td>2</td>\n",
       "      <td>6</td>\n",
       "      <td>6</td>\n",
       "      <td>3</td>\n",
       "      <td>22</td>\n",
       "      <td>0</td>\n",
       "      <td>0</td>\n",
       "    </tr>\n",
       "  </tbody>\n",
       "</table>\n",
       "</div>"
      ],
      "text/plain": [
       "   price_encoded  Ram_encoded  Rom_encoded  Expand_encoded  Screen_encoded  \\\n",
       "0             40            1            2               6              19   \n",
       "2             71            2            5               6               9   \n",
       "3             81            1            2               5               5   \n",
       "4             81            2            2               6               6   \n",
       "5             78            2            2               6               6   \n",
       "\n",
       "   Secondary_Camera_encoded  Battery_encoded  Warranty_encoded  \\\n",
       "0                         3               41                 0   \n",
       "2                         4               31                 0   \n",
       "3                         3               16                 0   \n",
       "4                         3               22                 0   \n",
       "5                         3               22                 0   \n",
       "\n",
       "   Dual_sim_encoded  \n",
       "0                 0  \n",
       "2                 0  \n",
       "3                 0  \n",
       "4                 0  \n",
       "5                 0  "
      ]
     },
     "execution_count": 202,
     "metadata": {},
     "output_type": "execute_result"
    }
   ],
   "source": [
    "df.head()"
   ]
  },
  {
   "cell_type": "code",
   "execution_count": 203,
   "metadata": {},
   "outputs": [],
   "source": [
    "df.to_csv(\"Mobiles_dataset1.csv\")"
   ]
  },
  {
   "cell_type": "code",
   "execution_count": 206,
   "metadata": {},
   "outputs": [],
   "source": [
    "x = df[['Ram_encoded','Rom_encoded','Expand_encoded','Screen_encoded','Secondary_Camera_encoded',\n",
    "         'Battery_encoded','Warranty_encoded','Dual_sim_encoded']]"
   ]
  },
  {
   "cell_type": "code",
   "execution_count": 207,
   "metadata": {},
   "outputs": [],
   "source": [
    "y = df.price_encoded"
   ]
  },
  {
   "cell_type": "code",
   "execution_count": 208,
   "metadata": {},
   "outputs": [
    {
     "data": {
      "text/html": [
       "<div>\n",
       "<style scoped>\n",
       "    .dataframe tbody tr th:only-of-type {\n",
       "        vertical-align: middle;\n",
       "    }\n",
       "\n",
       "    .dataframe tbody tr th {\n",
       "        vertical-align: top;\n",
       "    }\n",
       "\n",
       "    .dataframe thead th {\n",
       "        text-align: right;\n",
       "    }\n",
       "</style>\n",
       "<table border=\"1\" class=\"dataframe\">\n",
       "  <thead>\n",
       "    <tr style=\"text-align: right;\">\n",
       "      <th></th>\n",
       "      <th>Ram_encoded</th>\n",
       "      <th>Rom_encoded</th>\n",
       "      <th>Expand_encoded</th>\n",
       "      <th>Screen_encoded</th>\n",
       "      <th>Secondary_Camera_encoded</th>\n",
       "      <th>Battery_encoded</th>\n",
       "      <th>Warranty_encoded</th>\n",
       "      <th>Dual_sim_encoded</th>\n",
       "    </tr>\n",
       "  </thead>\n",
       "  <tbody>\n",
       "    <tr>\n",
       "      <th>0</th>\n",
       "      <td>1</td>\n",
       "      <td>2</td>\n",
       "      <td>6</td>\n",
       "      <td>19</td>\n",
       "      <td>3</td>\n",
       "      <td>41</td>\n",
       "      <td>0</td>\n",
       "      <td>0</td>\n",
       "    </tr>\n",
       "    <tr>\n",
       "      <th>2</th>\n",
       "      <td>2</td>\n",
       "      <td>5</td>\n",
       "      <td>6</td>\n",
       "      <td>9</td>\n",
       "      <td>4</td>\n",
       "      <td>31</td>\n",
       "      <td>0</td>\n",
       "      <td>0</td>\n",
       "    </tr>\n",
       "    <tr>\n",
       "      <th>3</th>\n",
       "      <td>1</td>\n",
       "      <td>2</td>\n",
       "      <td>5</td>\n",
       "      <td>5</td>\n",
       "      <td>3</td>\n",
       "      <td>16</td>\n",
       "      <td>0</td>\n",
       "      <td>0</td>\n",
       "    </tr>\n",
       "    <tr>\n",
       "      <th>4</th>\n",
       "      <td>2</td>\n",
       "      <td>2</td>\n",
       "      <td>6</td>\n",
       "      <td>6</td>\n",
       "      <td>3</td>\n",
       "      <td>22</td>\n",
       "      <td>0</td>\n",
       "      <td>0</td>\n",
       "    </tr>\n",
       "    <tr>\n",
       "      <th>5</th>\n",
       "      <td>2</td>\n",
       "      <td>2</td>\n",
       "      <td>6</td>\n",
       "      <td>6</td>\n",
       "      <td>3</td>\n",
       "      <td>22</td>\n",
       "      <td>0</td>\n",
       "      <td>0</td>\n",
       "    </tr>\n",
       "  </tbody>\n",
       "</table>\n",
       "</div>"
      ],
      "text/plain": [
       "   Ram_encoded  Rom_encoded  Expand_encoded  Screen_encoded  \\\n",
       "0            1            2               6              19   \n",
       "2            2            5               6               9   \n",
       "3            1            2               5               5   \n",
       "4            2            2               6               6   \n",
       "5            2            2               6               6   \n",
       "\n",
       "   Secondary_Camera_encoded  Battery_encoded  Warranty_encoded  \\\n",
       "0                         3               41                 0   \n",
       "2                         4               31                 0   \n",
       "3                         3               16                 0   \n",
       "4                         3               22                 0   \n",
       "5                         3               22                 0   \n",
       "\n",
       "   Dual_sim_encoded  \n",
       "0                 0  \n",
       "2                 0  \n",
       "3                 0  \n",
       "4                 0  \n",
       "5                 0  "
      ]
     },
     "execution_count": 208,
     "metadata": {},
     "output_type": "execute_result"
    }
   ],
   "source": [
    "df.drop(['price_encoded'],axis=1).head()"
   ]
  },
  {
   "cell_type": "code",
   "execution_count": 209,
   "metadata": {},
   "outputs": [],
   "source": [
    "# seaborn  for data Visualization\n",
    "import seaborn as sns"
   ]
  },
  {
   "cell_type": "code",
   "execution_count": 210,
   "metadata": {
    "scrolled": true
   },
   "outputs": [
    {
     "data": {
      "image/png": "[encoded data removed]",
      "text/plain": [
       "<Figure size 438.5x360 with 1 Axes>"
      ]
     },
     "metadata": {
      "needs_background": "light"
     },
     "output_type": "display_data"
    }
   ],
   "source": [
    "g = sns.lmplot(x=\"Ram_encoded\", y=\"price_encoded\", hue=\"Ram_encoded\",data=df, palette=\"Set1\")"
   ]
  },
  {
   "cell_type": "code",
   "execution_count": 211,
   "metadata": {},
   "outputs": [
    {
     "data": {
      "text/plain": [
       "((304,), (304, 8))"
      ]
     },
     "execution_count": 211,
     "metadata": {},
     "output_type": "execute_result"
    }
   ],
   "source": [
    "y.shape, x.shape"
   ]
  },
  {
   "cell_type": "code",
   "execution_count": 212,
   "metadata": {},
   "outputs": [],
   "source": [
    "# By using train_test_split() method spliting 80% data for training,20% data for testing the model.\n",
    "from sklearn.model_selection import train_test_split"
   ]
  },
  {
   "cell_type": "code",
   "execution_count": 213,
   "metadata": {},
   "outputs": [],
   "source": [
    "X_train,X_test,y_train,y_test = train_test_split(x, y, test_size=0.20,random_state=2)"
   ]
  },
  {
   "cell_type": "code",
   "execution_count": 214,
   "metadata": {},
   "outputs": [
    {
     "data": {
      "text/plain": [
       "(61,)"
      ]
     },
     "execution_count": 214,
     "metadata": {},
     "output_type": "execute_result"
    }
   ],
   "source": [
    "y_test.shape"
   ]
  },
  {
   "cell_type": "code",
   "execution_count": 215,
   "metadata": {},
   "outputs": [],
   "source": [
    "# LinearRegression Algorithm :Linear Regression is one of the widely used Machine Learning Algorithms by\n",
    "#Data Scientists. It is used to make predictions on numerical data.\n",
    "from sklearn.linear_model import LinearRegression"
   ]
  },
  {
   "cell_type": "code",
   "execution_count": 216,
   "metadata": {},
   "outputs": [],
   "source": [
    "# Alogorithm object created.\n",
    "lr_model = LinearRegression()"
   ]
  },
  {
   "cell_type": "code",
   "execution_count": 217,
   "metadata": {},
   "outputs": [],
   "source": [
    "lr_model1 = lr_model.fit(X_train,y_train)"
   ]
  },
  {
   "cell_type": "code",
   "execution_count": 218,
   "metadata": {},
   "outputs": [
    {
     "data": {
      "text/plain": [
       "LinearRegression(copy_X=True, fit_intercept=True, n_jobs=None, normalize=False)"
      ]
     },
     "execution_count": 218,
     "metadata": {},
     "output_type": "execute_result"
    }
   ],
   "source": [
    "lr_model1"
   ]
  },
  {
   "cell_type": "code",
   "execution_count": 219,
   "metadata": {},
   "outputs": [],
   "source": [
    "lr_model2 = lr_model.fit(X_test,y_test)"
   ]
  },
  {
   "cell_type": "code",
   "execution_count": 220,
   "metadata": {},
   "outputs": [
    {
     "data": {
      "text/plain": [
       "LinearRegression(copy_X=True, fit_intercept=True, n_jobs=None, normalize=False)"
      ]
     },
     "execution_count": 220,
     "metadata": {},
     "output_type": "execute_result"
    }
   ],
   "source": [
    "lr_model2"
   ]
  },
  {
   "cell_type": "code",
   "execution_count": 221,
   "metadata": {},
   "outputs": [
    {
     "data": {
      "text/plain": [
       "array([ 90.21199839,  72.74792086,  45.09207544, 114.90175145,\n",
       "        71.93130239,  56.0021519 ,   0.4853931 ,  74.05788346,\n",
       "       109.05434796,  98.32651256,  81.1822113 ,  49.60073349,\n",
       "       111.87001988,  72.13199465,  79.80440058, 120.87675592,\n",
       "        75.11094593,  71.74890128,  79.80440058,  93.25403884,\n",
       "        45.0365117 ,  95.28675084,  18.72039946, 117.6740298 ,\n",
       "        63.96704874,  64.3616686 ,  12.42159316, 132.32418722,\n",
       "        76.05040277,  50.9270549 , 111.20009405,  24.98140503,\n",
       "       111.12877508,  49.40098571,  88.24587008,  90.49947088,\n",
       "       107.94137624,  75.60155355, 102.513091  ,  49.35119717,\n",
       "        74.25747121,  99.63656537, 102.88465788,  63.96704874,\n",
       "        82.61627488,  98.11650283, 125.8966562 ,  55.01309299,\n",
       "        64.29591275,  32.95315767, 115.44941516, 117.93999428,\n",
       "       102.51403548,  80.31865916,  47.02514317, 132.49782239,\n",
       "       100.06898596,  35.34904001, 127.00864333,  26.87938565,\n",
       "        26.48232897])"
      ]
     },
     "execution_count": 221,
     "metadata": {},
     "output_type": "execute_result"
    }
   ],
   "source": [
    "predicted_price1=lr_model1.predict(X_test) #predicting price on testing data.\n",
    "predicted_price1"
   ]
  },
  {
   "cell_type": "code",
   "execution_count": 222,
   "metadata": {},
   "outputs": [
    {
     "data": {
      "text/plain": [
       "array([ 46.23222088,  45.72804144, 102.51403548,  78.38699356,\n",
       "        77.47659623, 101.0349469 ,  71.61511072,  32.57763313,\n",
       "        58.13206928,  13.18032783, 117.93999428, 143.41965839,\n",
       "       130.21078868,  78.38699356,  50.9270549 ,  88.95253735,\n",
       "        22.14173565,  94.03932089, 132.93893922,  78.53246858,\n",
       "        54.42802004, 123.49900484,  80.36425858,  36.8383207 ,\n",
       "        76.01715767,  91.99229907, 133.92558169, 121.63403958,\n",
       "        78.43480189,  81.1822113 ,  98.63738576,  44.67361816,\n",
       "        66.00516748,  42.34466602,  88.10713605,  98.11650283,\n",
       "        84.5504904 ,  37.37958991,  44.67235361,  95.73230703,\n",
       "       104.02425716, 129.83321833, 104.86588056,  29.50649172,\n",
       "        99.01196582, 114.93704554,  63.96704874,  61.38671632,\n",
       "        44.99471002, 135.68634863,  26.55565365,  81.50596985,\n",
       "        16.29930412,  19.99233147,  84.98815976, 104.92767875,\n",
       "         9.32900788, 101.18124976,  99.9724502 ,  33.21359913,\n",
       "        50.9270549 ,   6.08737968,  37.37958991,  91.25109755,\n",
       "        32.88986713,  78.53246858,  32.88986713, 113.05459406,\n",
       "       106.7978193 ,  93.29963826,  47.02514317,  66.18471543,\n",
       "        94.58008357, 130.58235556,   9.32900788,  41.96157265,\n",
       "         5.1301185 , 112.7065181 ,  -3.59084437, 132.80609873,\n",
       "        88.10713605, 122.45355447, 123.43481311, 143.85902693,\n",
       "        68.24683162, 132.49593661,  85.64860491,  12.75775285,\n",
       "        58.13206928,   6.51980027,  50.75095807,  46.3210747 ,\n",
       "        26.1231163 ,  83.80084906, 100.79153204,  95.46547108,\n",
       "         6.08737968,  79.92164575,   8.05707587,  28.50139566,\n",
       "         8.8850608 , 103.08914777,  60.29440575, 101.04251573,\n",
       "        40.35191685,  56.3092973 ,  87.40541419,  80.65904965,\n",
       "        93.56659097,  18.76003917, 104.81958691,  84.23938941,\n",
       "        22.14173565,  79.80440058, 102.18517147,  92.64568146,\n",
       "        80.18620298,  68.83754288,  68.56416914,  27.50138834,\n",
       "        75.27174507,  80.31865916,  28.26000624, 119.79320014,\n",
       "        87.42016389,  82.65156896,   9.32900788,  28.98215572,\n",
       "        93.10377844,   0.4853931 ,  34.10243777, 108.20821219,\n",
       "        80.69369449,  42.34466602,  61.38945649,  79.71030178,\n",
       "       109.15790454, 111.87001988,  56.74392314,  60.84807245,\n",
       "        93.25403884,  42.72775939,   5.1301185 ,   0.83402375,\n",
       "        89.5786558 ,   3.66616758,  50.9270549 ,  42.34466602,\n",
       "       109.25773333,  98.11650283, 111.60578079,  80.31865916,\n",
       "        13.18032783,  11.75021998,  71.21554739,  70.69588209,\n",
       "        65.71856659,  50.9270549 , 128.11733925,  16.29930412,\n",
       "       132.12625552,  75.51069767,  86.40556678,  88.03475584,\n",
       "        45.4751688 ,  14.45225983,  72.80994891,  77.52854687,\n",
       "        76.05040277,  13.55189471,  69.01301836,  55.01309299,\n",
       "       117.72994127,  79.56399892,  34.59421973,  73.22837964,\n",
       "        59.0793698 ,  93.91004463, 117.19851767,  58.13206928,\n",
       "        89.5786558 ,  96.95000967,  41.91224543,  45.46364231,\n",
       "        69.17351427,  68.87032666,  55.01309299,  14.76202852,\n",
       "         6.08737968,   6.08737968,  98.1933954 ,  64.57685532,\n",
       "       123.43481311, 116.89783865, 114.1496448 ,  20.78396473,\n",
       "         8.05707587,  46.73557431,  79.34908705, 129.02923086,\n",
       "        75.61425438,  75.50772776,  99.69741908,  32.57763313,\n",
       "       112.2771107 , 107.28046831,  13.18032783,   4.30213358,\n",
       "       128.23520577, 117.13934483,  87.40541419,  94.70830224,\n",
       "        77.24528229, 120.48385828,  22.14173565,  87.40541419,\n",
       "       119.58949663,  38.84259636,  18.75580665,  58.13206928,\n",
       "        21.35668347,  18.24010072, 101.04251573, 117.10059962,\n",
       "       107.78241596, 124.00824329, 119.38880754,   8.05707587,\n",
       "        71.74890128, 135.63039706,  88.24587008, 108.3688947 ,\n",
       "        76.05040277, 121.22542668,  27.50127158, 112.2771107 ,\n",
       "        15.50516227,  86.96542478, 129.02923086, 125.15372576,\n",
       "        73.66342364,  52.9232552 , 113.39898549])"
      ]
     },
     "execution_count": 222,
     "metadata": {},
     "output_type": "execute_result"
    }
   ],
   "source": [
    "predicted_price2 = lr_model2.predict(X_train)# predicting price on Training data.\n",
    "predicted_price2"
   ]
  },
  {
   "cell_type": "code",
   "execution_count": 230,
   "metadata": {},
   "outputs": [
    {
     "name": "stdout",
     "output_type": "stream",
     "text": [
      "ACCURACY: 64.96 %\n"
     ]
    }
   ],
   "source": [
    "# Accuracy on testing data.\n",
    "accuracy = lr_model1.score(X_test,y_test)*100\n",
    "\n",
    "accuracy =  np.around(accuracy, decimals=2) # for 2float  points\n",
    "print(\"ACCURACY:\",accuracy,\"%\")"
   ]
  },
  {
   "cell_type": "code",
   "execution_count": 231,
   "metadata": {},
   "outputs": [
    {
     "name": "stdout",
     "output_type": "stream",
     "text": [
      "ACCURACY: 66.09 %\n"
     ]
    }
   ],
   "source": [
    "# Accuracy on training data.\n",
    "accuracy = lr_model2.score(X_train,y_train)*100\n",
    "\n",
    "accuracy =  np.around(accuracy, decimals=2)# for 2float  points\n",
    "print(\"ACCURACY:\",accuracy,\"%\")"
   ]
  },
  {
   "cell_type": "code",
   "execution_count": 232,
   "metadata": {},
   "outputs": [],
   "source": [
    "from sklearn.model_selection import cross_val_score"
   ]
  },
  {
   "cell_type": "code",
   "execution_count": 233,
   "metadata": {},
   "outputs": [
    {
     "data": {
      "text/plain": [
       "array([0.70332873, 0.57231501, 0.79990759, 0.5480614 , 0.43280616])"
      ]
     },
     "execution_count": 233,
     "metadata": {},
     "output_type": "execute_result"
    }
   ],
   "source": [
    "cross_val_score(lr_model,x,y, cv=5) # finding cross validation score.for Best accuracy."
   ]
  },
  {
   "cell_type": "code",
   "execution_count": 234,
   "metadata": {},
   "outputs": [],
   "source": [
    "# comparing with Actual_Mobile_price and Predicted_Mobile_price\n",
    "compar = pd.DataFrame({\"Actual_price_(encoded)\":y_test,\"predicted_price\":predicted_price1})"
   ]
  },
  {
   "cell_type": "code",
   "execution_count": 235,
   "metadata": {},
   "outputs": [],
   "source": [
    "act_and_pred2=compar.head(50)"
   ]
  },
  {
   "cell_type": "code",
   "execution_count": 236,
   "metadata": {},
   "outputs": [
    {
     "data": {
      "text/html": [
       "<div>\n",
       "<style scoped>\n",
       "    .dataframe tbody tr th:only-of-type {\n",
       "        vertical-align: middle;\n",
       "    }\n",
       "\n",
       "    .dataframe tbody tr th {\n",
       "        vertical-align: top;\n",
       "    }\n",
       "\n",
       "    .dataframe thead th {\n",
       "        text-align: right;\n",
       "    }\n",
       "</style>\n",
       "<table border=\"1\" class=\"dataframe\">\n",
       "  <thead>\n",
       "    <tr style=\"text-align: right;\">\n",
       "      <th></th>\n",
       "      <th>Actual_price_(encoded)</th>\n",
       "      <th>predicted_price</th>\n",
       "    </tr>\n",
       "  </thead>\n",
       "  <tbody>\n",
       "    <tr>\n",
       "      <th>167</th>\n",
       "      <td>72</td>\n",
       "      <td>90.211998</td>\n",
       "    </tr>\n",
       "    <tr>\n",
       "      <th>668</th>\n",
       "      <td>72</td>\n",
       "      <td>72.747921</td>\n",
       "    </tr>\n",
       "    <tr>\n",
       "      <th>155</th>\n",
       "      <td>31</td>\n",
       "      <td>45.092075</td>\n",
       "    </tr>\n",
       "  </tbody>\n",
       "</table>\n",
       "</div>"
      ],
      "text/plain": [
       "     Actual_price_(encoded)  predicted_price\n",
       "167                      72        90.211998\n",
       "668                      72        72.747921\n",
       "155                      31        45.092075"
      ]
     },
     "execution_count": 236,
     "metadata": {},
     "output_type": "execute_result"
    }
   ],
   "source": [
    "act_and_pred2.head(3)"
   ]
  },
  {
   "cell_type": "code",
   "execution_count": 237,
   "metadata": {},
   "outputs": [],
   "source": [
    "# act_and_pred2.to_csv('final_output.csv')"
   ]
  },
  {
   "cell_type": "code",
   "execution_count": 238,
   "metadata": {
    "scrolled": false
   },
   "outputs": [
    {
     "data": {
      "image/png": "[encoded data removed]",
      "text/plain": [
       "<Figure size 1080x720 with 1 Axes>"
      ]
     },
     "metadata": {
      "needs_background": "light"
     },
     "output_type": "display_data"
    }
   ],
   "source": [
    "import matplotlib.pyplot as plt\n",
    "act_and_pred2.plot(kind='bar',figsize=(15,10))\n",
    "# plt.grid(linewidth='0.5', color='green')\n",
    "# plt.grid(linewidth='0.5', color='blue')\n",
    "plt.show()"
   ]
  },
  {
   "cell_type": "code",
   "execution_count": 239,
   "metadata": {},
   "outputs": [],
   "source": [
    "# act_and_pred2.hist(bins=50, figsize=(15, 5))\n",
    "# plt.show()\n",
    "from sklearn import metrics"
   ]
  },
  {
   "cell_type": "code",
   "execution_count": 240,
   "metadata": {
    "scrolled": false
   },
   "outputs": [
    {
     "name": "stdout",
     "output_type": "stream",
     "text": [
      "Mean Absolute Error: 15.96973266263754\n",
      "Mean Squared Error: 550.0786142045346\n",
      "Root Mean Squared Error: 23.453754799701787\n"
     ]
    }
   ],
   "source": [
    "print('Mean Absolute Error:', metrics.mean_absolute_error(y_test, predicted_price1))  \n",
    "print('Mean Squared Error:', metrics.mean_squared_error(y_test, predicted_price1))  \n",
    "print('Root Mean Squared Error:', np.sqrt(metrics.mean_squared_error(y_test, predicted_price1))) "
   ]
  },
  {
   "cell_type": "code",
   "execution_count": 241,
   "metadata": {},
   "outputs": [
    {
     "data": {
      "text/plain": [
       "0.5505307859526433"
      ]
     },
     "execution_count": 241,
     "metadata": {},
     "output_type": "execute_result"
    }
   ],
   "source": [
    "metrics.mean_squared_log_error(y_test,predicted_price1)"
   ]
  },
  {
   "cell_type": "code",
   "execution_count": 242,
   "metadata": {},
   "outputs": [
    {
     "data": {
      "text/plain": [
       "11.94565204204487"
      ]
     },
     "execution_count": 242,
     "metadata": {},
     "output_type": "execute_result"
    }
   ],
   "source": [
    "metrics.median_absolute_error(y_test,predicted_price1)"
   ]
  },
  {
   "cell_type": "code",
   "execution_count": 243,
   "metadata": {},
   "outputs": [
    {
     "data": {
      "text/plain": [
       "0.6495643917265712"
      ]
     },
     "execution_count": 243,
     "metadata": {},
     "output_type": "execute_result"
    }
   ],
   "source": [
    "metrics.explained_variance_score(y_test,predicted_price1)     "
   ]
  },
  {
   "cell_type": "code",
   "execution_count": 244,
   "metadata": {},
   "outputs": [],
   "source": [
    "df_2=pd.DataFrame(act_and_pred2)"
   ]
  },
  {
   "cell_type": "code",
   "execution_count": 245,
   "metadata": {
    "scrolled": false
   },
   "outputs": [
    {
     "data": {
      "text/plain": [
       "<matplotlib.axes._subplots.AxesSubplot at 0x7f303a170be0>"
      ]
     },
     "execution_count": 245,
     "metadata": {},
     "output_type": "execute_result"
    },
    {
     "data": {
      "image/png": "[encoded data removed]",
      "text/plain": [
       "<Figure size 432x288 with 1 Axes>"
      ]
     },
     "metadata": {
      "needs_background": "light"
     },
     "output_type": "display_data"
    }
   ],
   "source": [
    "sns.scatterplot(x=\"Actual_price_(encoded)\", y=\"predicted_price\",data=df_2,palette=\"set2\")"
   ]
  },
  {
   "cell_type": "code",
   "execution_count": 246,
   "metadata": {},
   "outputs": [],
   "source": [
    "#y = m1*Ram+ m2*Rom+ m3*Expandable +m4*Screen +m5*Secondary_Camera +m6*Battery+m7*Warranty......+b"
   ]
  },
  {
   "cell_type": "code",
   "execution_count": 247,
   "metadata": {},
   "outputs": [
    {
     "data": {
      "text/plain": [
       "<seaborn.axisgrid.FacetGrid at 0x7f303a0f9b00>"
      ]
     },
     "execution_count": 247,
     "metadata": {},
     "output_type": "execute_result"
    },
    {
     "data": {
      "image/png": "[encoded data removed]",
      "text/plain": [
       "<Figure size 432x432 with 1 Axes>"
      ]
     },
     "metadata": {
      "needs_background": "light"
     },
     "output_type": "display_data"
    }
   ],
   "source": [
    "#Now that we have made our predictions, lets visualize our train and test set results by \n",
    "#building a  lmplot of the data and drawing the prediction line.\n",
    "\n",
    "sns.lmplot(x=\"Actual_price_(encoded)\", y=\"predicted_price\",data=df_2,palette=\"set1\",height=6)"
   ]
  },
  {
   "cell_type": "code",
   "execution_count": 248,
   "metadata": {},
   "outputs": [
    {
     "data": {
      "text/plain": [
       "array([6.60116619, 6.33421349, 2.74740942, 0.38309337, 3.11897629,\n",
       "       0.635966  , 0.        , 0.        ])"
      ]
     },
     "execution_count": 248,
     "metadata": {},
     "output_type": "execute_result"
    }
   ],
   "source": [
    "#finding coef for all features.\n",
    "lr_model.coef_"
   ]
  },
  {
   "cell_type": "code",
   "execution_count": 249,
   "metadata": {},
   "outputs": [
    {
     "name": "stdout",
     "output_type": "stream",
     "text": [
      "('price_encoded', 6.60116619394024)\n",
      "('Ram_encoded', 6.334213485339424)\n",
      "('Rom_encoded', 2.7474094161492255)\n",
      "('Expand_encoded', 0.38309336617313505)\n",
      "('Screen_encoded', 3.1189762921228814)\n",
      "('Secondary_Camera_encoded', 0.6359660012460431)\n",
      "('Battery_encoded', 0.0)\n",
      "('Warranty_encoded', 0.0)\n"
     ]
    }
   ],
   "source": [
    "#finding coef for each feature.\n",
    "for coef in zip(df, lr_model.coef_):\n",
    "    print(coef)"
   ]
  },
  {
   "cell_type": "code",
   "execution_count": 250,
   "metadata": {},
   "outputs": [
    {
     "data": {
      "text/plain": [
       "-17.074902059494647"
      ]
     },
     "execution_count": 250,
     "metadata": {},
     "output_type": "execute_result"
    }
   ],
   "source": [
    "lr_model.intercept_"
   ]
  },
  {
   "cell_type": "code",
   "execution_count": 251,
   "metadata": {},
   "outputs": [
    {
     "data": {
      "text/plain": [
       "78.54002519852783"
      ]
     },
     "execution_count": 251,
     "metadata": {},
     "output_type": "execute_result"
    }
   ],
   "source": [
    "9.80263447*2+ 8.49374169*5+(-2.78474221*6)+0.51293224*9+1.1177527*4+( -0.13397062*31)+  0*0+ 2.61437022*10+0*0+2.0964871285278264"
   ]
  },
  {
   "cell_type": "code",
   "execution_count": 252,
   "metadata": {
    "scrolled": true
   },
   "outputs": [
    {
     "data": {
      "text/html": [
       "<div>\n",
       "<style scoped>\n",
       "    .dataframe tbody tr th:only-of-type {\n",
       "        vertical-align: middle;\n",
       "    }\n",
       "\n",
       "    .dataframe tbody tr th {\n",
       "        vertical-align: top;\n",
       "    }\n",
       "\n",
       "    .dataframe thead th {\n",
       "        text-align: right;\n",
       "    }\n",
       "</style>\n",
       "<table border=\"1\" class=\"dataframe\">\n",
       "  <thead>\n",
       "    <tr style=\"text-align: right;\">\n",
       "      <th></th>\n",
       "      <th>price_encoded</th>\n",
       "      <th>Ram_encoded</th>\n",
       "      <th>Rom_encoded</th>\n",
       "      <th>Expand_encoded</th>\n",
       "      <th>Screen_encoded</th>\n",
       "      <th>Secondary_Camera_encoded</th>\n",
       "      <th>Battery_encoded</th>\n",
       "      <th>Warranty_encoded</th>\n",
       "      <th>Dual_sim_encoded</th>\n",
       "    </tr>\n",
       "  </thead>\n",
       "  <tbody>\n",
       "    <tr>\n",
       "      <th>0</th>\n",
       "      <td>40</td>\n",
       "      <td>1</td>\n",
       "      <td>2</td>\n",
       "      <td>6</td>\n",
       "      <td>19</td>\n",
       "      <td>3</td>\n",
       "      <td>41</td>\n",
       "      <td>0</td>\n",
       "      <td>0</td>\n",
       "    </tr>\n",
       "    <tr>\n",
       "      <th>2</th>\n",
       "      <td>71</td>\n",
       "      <td>2</td>\n",
       "      <td>5</td>\n",
       "      <td>6</td>\n",
       "      <td>9</td>\n",
       "      <td>4</td>\n",
       "      <td>31</td>\n",
       "      <td>0</td>\n",
       "      <td>0</td>\n",
       "    </tr>\n",
       "    <tr>\n",
       "      <th>3</th>\n",
       "      <td>81</td>\n",
       "      <td>1</td>\n",
       "      <td>2</td>\n",
       "      <td>5</td>\n",
       "      <td>5</td>\n",
       "      <td>3</td>\n",
       "      <td>16</td>\n",
       "      <td>0</td>\n",
       "      <td>0</td>\n",
       "    </tr>\n",
       "    <tr>\n",
       "      <th>4</th>\n",
       "      <td>81</td>\n",
       "      <td>2</td>\n",
       "      <td>2</td>\n",
       "      <td>6</td>\n",
       "      <td>6</td>\n",
       "      <td>3</td>\n",
       "      <td>22</td>\n",
       "      <td>0</td>\n",
       "      <td>0</td>\n",
       "    </tr>\n",
       "  </tbody>\n",
       "</table>\n",
       "</div>"
      ],
      "text/plain": [
       "   price_encoded  Ram_encoded  Rom_encoded  Expand_encoded  Screen_encoded  \\\n",
       "0             40            1            2               6              19   \n",
       "2             71            2            5               6               9   \n",
       "3             81            1            2               5               5   \n",
       "4             81            2            2               6               6   \n",
       "\n",
       "   Secondary_Camera_encoded  Battery_encoded  Warranty_encoded  \\\n",
       "0                         3               41                 0   \n",
       "2                         4               31                 0   \n",
       "3                         3               16                 0   \n",
       "4                         3               22                 0   \n",
       "\n",
       "   Dual_sim_encoded  \n",
       "0                 0  \n",
       "2                 0  \n",
       "3                 0  \n",
       "4                 0  "
      ]
     },
     "execution_count": 252,
     "metadata": {},
     "output_type": "execute_result"
    }
   ],
   "source": [
    "df.head(4)"
   ]
  },
  {
   "cell_type": "code",
   "execution_count": null,
   "metadata": {},
   "outputs": [],
   "source": []
  },
  {
   "cell_type": "code",
   "execution_count": null,
   "metadata": {},
   "outputs": [],
   "source": []
  },
  {
   "cell_type": "code",
   "execution_count": null,
   "metadata": {},
   "outputs": [],
   "source": []
  },
  {
   "cell_type": "code",
   "execution_count": null,
   "metadata": {},
   "outputs": [],
   "source": []
  },
  {
   "cell_type": "code",
   "execution_count": null,
   "metadata": {},
   "outputs": [],
   "source": []
  },
  {
   "cell_type": "code",
   "execution_count": null,
   "metadata": {},
   "outputs": [],
   "source": []
  }
 ],
 "metadata": {
  "kernelspec": {
   "display_name": "Python 3",
   "language": "python",
   "name": "python3"
  },
  "language_info": {
   "codemirror_mode": {
    "name": "ipython",
    "version": 3
   },
   "file_extension": ".py",
   "mimetype": "text/x-python",
   "name": "python",
   "nbconvert_exporter": "python",
   "pygments_lexer": "ipython3",
   "version": "3.6.8"
  }
 },
 "nbformat": 4,
 "nbformat_minor": 2
}
