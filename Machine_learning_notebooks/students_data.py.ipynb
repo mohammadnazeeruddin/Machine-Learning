{
 "cells": [
  {
   "cell_type": "code",
   "execution_count": 51,
   "metadata": {},
   "outputs": [
    {
     "name": "stdout",
     "output_type": "stream",
     "text": [
      "faculty with highest student count: * Raja Gopal\n"
     ]
    }
   ],
   "source": [
    "#1.Find the faculty with highest student count who got more than 90%. \n",
    "from collections import Counter\n",
    "class faculty_with_highest_student_count():\n",
    "    def __init__(self):\n",
    "        high_marks = []\n",
    "        for x in students_marks:\n",
    "            if x[2] >= 90:\n",
    "                high_marks.append(x[1])\n",
    "        counter_sub = Counter(high_marks)\n",
    "        max_count_subject = max(counter_sub.items(),key=lambda x:x[1])\n",
    "        for subject, faculty in subject_faculty:\n",
    "            if subject == max_count_subject[0]:\n",
    "                print('faculty with highest student count:','*',faculty)\n",
    "stu = faculty_with_highest_student_count()\n"
   ]
  },
  {
   "cell_type": "code",
   "execution_count": null,
   "metadata": {},
   "outputs": [],
   "source": []
  },
  {
   "cell_type": "code",
   "execution_count": null,
   "metadata": {},
   "outputs": [],
   "source": []
  }
 ],
 "metadata": {
  "kernelspec": {
   "display_name": "Python 3",
   "language": "python",
   "name": "python3"
  },
  "language_info": {
   "codemirror_mode": {
    "name": "ipython",
    "version": 3
   },
   "file_extension": ".py",
   "mimetype": "text/x-python",
   "name": "python",
   "nbconvert_exporter": "python",
   "pygments_lexer": "ipython3",
   "version": "3.6.7"
  }
 },
 "nbformat": 4,
 "nbformat_minor": 2
}
