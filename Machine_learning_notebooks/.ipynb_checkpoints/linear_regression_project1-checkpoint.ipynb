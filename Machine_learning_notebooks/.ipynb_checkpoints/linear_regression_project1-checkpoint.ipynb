{
 "cells": [
  {
   "cell_type": "code",
   "execution_count": 8,
   "metadata": {},
   "outputs": [],
   "source": [
    "#python packages for data analysis\n",
    "import pandas as pd\n",
    "import numpy as np\n",
    "# import pandas_profiling as pp \n",
    "# import warnings\n",
    "# arnings.filterwarnings('ignore')\n",
    "#warnings.filterwarnings(action='once')"
   ]
  },
  {
   "cell_type": "code",
   "execution_count": 9,
   "metadata": {},
   "outputs": [
    {
     "name": "stdout",
     "output_type": "stream",
     "text": [
      "Requirement already up-to-date: pip in /home/nazeer/.local/lib/python3.6/site-packages (19.2.3)\r\n"
     ]
    }
   ],
   "source": [
    "!pip install --upgrade pip"
   ]
  },
  {
   "cell_type": "code",
   "execution_count": 83,
   "metadata": {},
   "outputs": [
    {
     "data": {
      "text/plain": [
       "Price_in_Rupees         304\n",
       "Off(%)                  304\n",
       "Ram                     304\n",
       "Rom                     304\n",
       "Expandable_GB/TB        304\n",
       "Screen_in_inch          304\n",
       "Secondary_Camera(MP)    304\n",
       "Battery_details         304\n",
       "Warranty(Year)          304\n",
       "Rating                  304\n",
       "Dual_sim_num            304\n",
       "dtype: int64"
      ]
     },
     "execution_count": 83,
     "metadata": {},
     "output_type": "execute_result"
    }
   ],
   "source": [
    "# loading data set.\n",
    "df = pd.read_csv('mob_data.csv')\n",
    "df = df.drop_duplicates(subset=df.columns, keep='first')\n",
    "df.count()"
   ]
  },
  {
   "cell_type": "code",
   "execution_count": 84,
   "metadata": {
    "scrolled": false
   },
   "outputs": [],
   "source": [
    "#data profiling.\n",
    "#pp.ProfileReport(df)"
   ]
  },
  {
   "cell_type": "code",
   "execution_count": 85,
   "metadata": {
    "scrolled": true
   },
   "outputs": [
    {
     "data": {
      "text/html": [
       "<div>\n",
       "<style scoped>\n",
       "    .dataframe tbody tr th:only-of-type {\n",
       "        vertical-align: middle;\n",
       "    }\n",
       "\n",
       "    .dataframe tbody tr th {\n",
       "        vertical-align: top;\n",
       "    }\n",
       "\n",
       "    .dataframe thead th {\n",
       "        text-align: right;\n",
       "    }\n",
       "</style>\n",
       "<table border=\"1\" class=\"dataframe\">\n",
       "  <thead>\n",
       "    <tr style=\"text-align: right;\">\n",
       "      <th></th>\n",
       "      <th>Price_in_Rupees</th>\n",
       "      <th>Off(%)</th>\n",
       "      <th>Ram</th>\n",
       "      <th>Rom</th>\n",
       "      <th>Expandable_GB/TB</th>\n",
       "      <th>Screen_in_inch</th>\n",
       "      <th>Secondary_Camera(MP)</th>\n",
       "      <th>Battery_details</th>\n",
       "      <th>Warranty(Year)</th>\n",
       "      <th>Rating</th>\n",
       "      <th>Dual_sim_num</th>\n",
       "    </tr>\n",
       "  </thead>\n",
       "  <tbody>\n",
       "    <tr>\n",
       "      <th>0</th>\n",
       "      <td>5999</td>\n",
       "      <td>14</td>\n",
       "      <td>2</td>\n",
       "      <td>16</td>\n",
       "      <td>256</td>\n",
       "      <td>6.1</td>\n",
       "      <td>5</td>\n",
       "      <td>4000</td>\n",
       "      <td>1</td>\n",
       "      <td>4.5</td>\n",
       "      <td>1</td>\n",
       "    </tr>\n",
       "    <tr>\n",
       "      <th>2</th>\n",
       "      <td>8990</td>\n",
       "      <td>49</td>\n",
       "      <td>3</td>\n",
       "      <td>64</td>\n",
       "      <td>256</td>\n",
       "      <td>5.5</td>\n",
       "      <td>8</td>\n",
       "      <td>3300</td>\n",
       "      <td>1</td>\n",
       "      <td>4.3</td>\n",
       "      <td>1</td>\n",
       "    </tr>\n",
       "    <tr>\n",
       "      <th>3</th>\n",
       "      <td>10000</td>\n",
       "      <td>10</td>\n",
       "      <td>2</td>\n",
       "      <td>16</td>\n",
       "      <td>128</td>\n",
       "      <td>5.0</td>\n",
       "      <td>5</td>\n",
       "      <td>2630</td>\n",
       "      <td>1</td>\n",
       "      <td>4.2</td>\n",
       "      <td>1</td>\n",
       "    </tr>\n",
       "    <tr>\n",
       "      <th>4</th>\n",
       "      <td>10000</td>\n",
       "      <td>10</td>\n",
       "      <td>3</td>\n",
       "      <td>16</td>\n",
       "      <td>256</td>\n",
       "      <td>5.2</td>\n",
       "      <td>5</td>\n",
       "      <td>3000</td>\n",
       "      <td>1</td>\n",
       "      <td>4.2</td>\n",
       "      <td>1</td>\n",
       "    </tr>\n",
       "    <tr>\n",
       "      <th>5</th>\n",
       "      <td>9800</td>\n",
       "      <td>25</td>\n",
       "      <td>3</td>\n",
       "      <td>16</td>\n",
       "      <td>256</td>\n",
       "      <td>5.2</td>\n",
       "      <td>5</td>\n",
       "      <td>3000</td>\n",
       "      <td>1</td>\n",
       "      <td>4.2</td>\n",
       "      <td>1</td>\n",
       "    </tr>\n",
       "  </tbody>\n",
       "</table>\n",
       "</div>"
      ],
      "text/plain": [
       "   Price_in_Rupees  Off(%)  Ram  Rom  Expandable_GB/TB  Screen_in_inch  \\\n",
       "0             5999      14    2   16               256             6.1   \n",
       "2             8990      49    3   64               256             5.5   \n",
       "3            10000      10    2   16               128             5.0   \n",
       "4            10000      10    3   16               256             5.2   \n",
       "5             9800      25    3   16               256             5.2   \n",
       "\n",
       "   Secondary_Camera(MP)  Battery_details  Warranty(Year)  Rating  Dual_sim_num  \n",
       "0                     5             4000               1     4.5             1  \n",
       "2                     8             3300               1     4.3             1  \n",
       "3                     5             2630               1     4.2             1  \n",
       "4                     5             3000               1     4.2             1  \n",
       "5                     5             3000               1     4.2             1  "
      ]
     },
     "execution_count": 85,
     "metadata": {},
     "output_type": "execute_result"
    }
   ],
   "source": [
    "df.head()"
   ]
  },
  {
   "cell_type": "code",
   "execution_count": 86,
   "metadata": {
    "scrolled": true
   },
   "outputs": [],
   "source": [
    "#dir(pp)"
   ]
  },
  {
   "cell_type": "code",
   "execution_count": 87,
   "metadata": {
    "scrolled": false
   },
   "outputs": [],
   "source": [
    "# pp.describe_df(df)"
   ]
  },
  {
   "cell_type": "code",
   "execution_count": 88,
   "metadata": {},
   "outputs": [],
   "source": [
    "# import sklearn.preprocessing for label encoding."
   ]
  },
  {
   "cell_type": "code",
   "execution_count": 156,
   "metadata": {},
   "outputs": [
    {
     "ename": "AttributeError",
     "evalue": "'DataFrame' object has no attribute 'Price_in_Rupees'",
     "output_type": "error",
     "traceback": [
      "\u001b[0;31m---------------------------------------------------------------------------\u001b[0m",
      "\u001b[0;31mAttributeError\u001b[0m                            Traceback (most recent call last)",
      "\u001b[0;32m<ipython-input-156-7c36aea9ff4c>\u001b[0m in \u001b[0;36m<module>\u001b[0;34m\u001b[0m\n\u001b[1;32m     12\u001b[0m \u001b[0mDual_sim_num_lb\u001b[0m\u001b[0;34m=\u001b[0m \u001b[0mLabelEncoder\u001b[0m\u001b[0;34m(\u001b[0m\u001b[0;34m)\u001b[0m\u001b[0;34m\u001b[0m\u001b[0;34m\u001b[0m\u001b[0m\n\u001b[1;32m     13\u001b[0m \u001b[0;34m\u001b[0m\u001b[0m\n\u001b[0;32m---> 14\u001b[0;31m \u001b[0mdf\u001b[0m\u001b[0;34m[\u001b[0m\u001b[0;34m'price_encoded'\u001b[0m\u001b[0;34m]\u001b[0m \u001b[0;34m=\u001b[0m \u001b[0mprice_lb\u001b[0m\u001b[0;34m.\u001b[0m\u001b[0mfit_transform\u001b[0m\u001b[0;34m(\u001b[0m\u001b[0mdf\u001b[0m\u001b[0;34m.\u001b[0m\u001b[0mPrice_in_Rupees\u001b[0m\u001b[0;34m)\u001b[0m\u001b[0;34m\u001b[0m\u001b[0;34m\u001b[0m\u001b[0m\n\u001b[0m\u001b[1;32m     15\u001b[0m \u001b[0mdf\u001b[0m\u001b[0;34m[\u001b[0m\u001b[0;34m'Ram_encoded'\u001b[0m\u001b[0;34m]\u001b[0m \u001b[0;34m=\u001b[0m \u001b[0mram_lb\u001b[0m\u001b[0;34m.\u001b[0m\u001b[0mfit_transform\u001b[0m\u001b[0;34m(\u001b[0m\u001b[0mdf\u001b[0m\u001b[0;34m.\u001b[0m\u001b[0mRam\u001b[0m\u001b[0;34m)\u001b[0m\u001b[0;34m\u001b[0m\u001b[0;34m\u001b[0m\u001b[0m\n\u001b[1;32m     16\u001b[0m \u001b[0mdf\u001b[0m\u001b[0;34m[\u001b[0m\u001b[0;34m'Rom_encoded'\u001b[0m\u001b[0;34m]\u001b[0m \u001b[0;34m=\u001b[0m \u001b[0mRom_lb\u001b[0m\u001b[0;34m.\u001b[0m\u001b[0mfit_transform\u001b[0m\u001b[0;34m(\u001b[0m\u001b[0mdf\u001b[0m\u001b[0;34m.\u001b[0m\u001b[0mRom\u001b[0m\u001b[0;34m)\u001b[0m\u001b[0;34m\u001b[0m\u001b[0;34m\u001b[0m\u001b[0m\n",
      "\u001b[0;32m~/.local/lib/python3.6/site-packages/pandas/core/generic.py\u001b[0m in \u001b[0;36m__getattr__\u001b[0;34m(self, name)\u001b[0m\n\u001b[1;32m   5065\u001b[0m             \u001b[0;32mif\u001b[0m \u001b[0mself\u001b[0m\u001b[0;34m.\u001b[0m\u001b[0m_info_axis\u001b[0m\u001b[0;34m.\u001b[0m\u001b[0m_can_hold_identifiers_and_holds_name\u001b[0m\u001b[0;34m(\u001b[0m\u001b[0mname\u001b[0m\u001b[0;34m)\u001b[0m\u001b[0;34m:\u001b[0m\u001b[0;34m\u001b[0m\u001b[0;34m\u001b[0m\u001b[0m\n\u001b[1;32m   5066\u001b[0m                 \u001b[0;32mreturn\u001b[0m \u001b[0mself\u001b[0m\u001b[0;34m[\u001b[0m\u001b[0mname\u001b[0m\u001b[0;34m]\u001b[0m\u001b[0;34m\u001b[0m\u001b[0;34m\u001b[0m\u001b[0m\n\u001b[0;32m-> 5067\u001b[0;31m             \u001b[0;32mreturn\u001b[0m \u001b[0mobject\u001b[0m\u001b[0;34m.\u001b[0m\u001b[0m__getattribute__\u001b[0m\u001b[0;34m(\u001b[0m\u001b[0mself\u001b[0m\u001b[0;34m,\u001b[0m \u001b[0mname\u001b[0m\u001b[0;34m)\u001b[0m\u001b[0;34m\u001b[0m\u001b[0;34m\u001b[0m\u001b[0m\n\u001b[0m\u001b[1;32m   5068\u001b[0m \u001b[0;34m\u001b[0m\u001b[0m\n\u001b[1;32m   5069\u001b[0m     \u001b[0;32mdef\u001b[0m \u001b[0m__setattr__\u001b[0m\u001b[0;34m(\u001b[0m\u001b[0mself\u001b[0m\u001b[0;34m,\u001b[0m \u001b[0mname\u001b[0m\u001b[0;34m,\u001b[0m \u001b[0mvalue\u001b[0m\u001b[0;34m)\u001b[0m\u001b[0;34m:\u001b[0m\u001b[0;34m\u001b[0m\u001b[0;34m\u001b[0m\u001b[0m\n",
      "\u001b[0;31mAttributeError\u001b[0m: 'DataFrame' object has no attribute 'Price_in_Rupees'"
     ]
    }
   ],
   "source": [
    "from sklearn.preprocessing import LabelEncoder\n",
    "\n",
    "price_lb = LabelEncoder()\n",
    "ram_lb = LabelEncoder()\n",
    "Rom_lb = LabelEncoder()\n",
    "Expandable_lb = LabelEncoder()\n",
    "Screen_in_inch_lb = LabelEncoder()\n",
    "Secondary_Camera_lb = LabelEncoder()\n",
    "Battery_details_lb= LabelEncoder()\n",
    "Warranty_lb= LabelEncoder()\n",
    "Rating_lb= LabelEncoder()\n",
    "Dual_sim_num_lb= LabelEncoder()\n",
    "\n",
    "df['price_encoded'] = price_lb.fit_transform(df.Price_in_Rupees)\n",
    "df['Ram_encoded'] = ram_lb.fit_transform(df.Ram)\n",
    "df['Rom_encoded'] = Rom_lb.fit_transform(df.Rom)\n",
    "df['Expand_encoded'] = Expandable_lb.fit_transform(df['Expandable_GB/TB'])\n",
    "df['Screen_encoded'] = Screen_in_inch_lb.fit_transform(df.Screen_in_inch)\n",
    "df['Secondary_Camera_encoded'] = Secondary_Camera_lb.fit_transform(df['Secondary_Camera(MP)'])\n",
    "df['Battery_encoded'] = Battery_details_lb.fit_transform(df.Battery_details)\n",
    "df['Warranty_encoded'] = Warranty_lb.fit_transform(df['Warranty(Year)'])\n",
    "df['Rating_encoded'] = Rating_lb.fit_transform(df.Rating)\n",
    "df['Dual_sim_encoded'] = Dual_sim_num_lb.fit_transform(df.Dual_sim_num)"
   ]
  },
  {
   "cell_type": "code",
   "execution_count": 157,
   "metadata": {},
   "outputs": [
    {
     "data": {
      "text/html": [
       "<div>\n",
       "<style scoped>\n",
       "    .dataframe tbody tr th:only-of-type {\n",
       "        vertical-align: middle;\n",
       "    }\n",
       "\n",
       "    .dataframe tbody tr th {\n",
       "        vertical-align: top;\n",
       "    }\n",
       "\n",
       "    .dataframe thead th {\n",
       "        text-align: right;\n",
       "    }\n",
       "</style>\n",
       "<table border=\"1\" class=\"dataframe\">\n",
       "  <thead>\n",
       "    <tr style=\"text-align: right;\">\n",
       "      <th></th>\n",
       "      <th>price_encoded</th>\n",
       "      <th>Ram_encoded</th>\n",
       "      <th>Rom_encoded</th>\n",
       "      <th>Expand_encoded</th>\n",
       "      <th>Screen_encoded</th>\n",
       "      <th>Secondary_Camera_encoded</th>\n",
       "      <th>Battery_encoded</th>\n",
       "      <th>Warranty_encoded</th>\n",
       "      <th>Rating_encoded</th>\n",
       "      <th>Dual_sim_encoded</th>\n",
       "    </tr>\n",
       "  </thead>\n",
       "  <tbody>\n",
       "    <tr>\n",
       "      <th>0</th>\n",
       "      <td>40</td>\n",
       "      <td>1</td>\n",
       "      <td>2</td>\n",
       "      <td>6</td>\n",
       "      <td>19</td>\n",
       "      <td>3</td>\n",
       "      <td>41</td>\n",
       "      <td>0</td>\n",
       "      <td>12</td>\n",
       "      <td>0</td>\n",
       "    </tr>\n",
       "    <tr>\n",
       "      <th>2</th>\n",
       "      <td>71</td>\n",
       "      <td>2</td>\n",
       "      <td>5</td>\n",
       "      <td>6</td>\n",
       "      <td>9</td>\n",
       "      <td>4</td>\n",
       "      <td>31</td>\n",
       "      <td>0</td>\n",
       "      <td>10</td>\n",
       "      <td>0</td>\n",
       "    </tr>\n",
       "    <tr>\n",
       "      <th>3</th>\n",
       "      <td>81</td>\n",
       "      <td>1</td>\n",
       "      <td>2</td>\n",
       "      <td>5</td>\n",
       "      <td>5</td>\n",
       "      <td>3</td>\n",
       "      <td>16</td>\n",
       "      <td>0</td>\n",
       "      <td>9</td>\n",
       "      <td>0</td>\n",
       "    </tr>\n",
       "    <tr>\n",
       "      <th>4</th>\n",
       "      <td>81</td>\n",
       "      <td>2</td>\n",
       "      <td>2</td>\n",
       "      <td>6</td>\n",
       "      <td>6</td>\n",
       "      <td>3</td>\n",
       "      <td>22</td>\n",
       "      <td>0</td>\n",
       "      <td>9</td>\n",
       "      <td>0</td>\n",
       "    </tr>\n",
       "    <tr>\n",
       "      <th>5</th>\n",
       "      <td>78</td>\n",
       "      <td>2</td>\n",
       "      <td>2</td>\n",
       "      <td>6</td>\n",
       "      <td>6</td>\n",
       "      <td>3</td>\n",
       "      <td>22</td>\n",
       "      <td>0</td>\n",
       "      <td>9</td>\n",
       "      <td>0</td>\n",
       "    </tr>\n",
       "  </tbody>\n",
       "</table>\n",
       "</div>"
      ],
      "text/plain": [
       "   price_encoded  Ram_encoded  Rom_encoded  Expand_encoded  Screen_encoded  \\\n",
       "0             40            1            2               6              19   \n",
       "2             71            2            5               6               9   \n",
       "3             81            1            2               5               5   \n",
       "4             81            2            2               6               6   \n",
       "5             78            2            2               6               6   \n",
       "\n",
       "   Secondary_Camera_encoded  Battery_encoded  Warranty_encoded  \\\n",
       "0                         3               41                 0   \n",
       "2                         4               31                 0   \n",
       "3                         3               16                 0   \n",
       "4                         3               22                 0   \n",
       "5                         3               22                 0   \n",
       "\n",
       "   Rating_encoded  Dual_sim_encoded  \n",
       "0              12                 0  \n",
       "2              10                 0  \n",
       "3               9                 0  \n",
       "4               9                 0  \n",
       "5               9                 0  "
      ]
     },
     "execution_count": 157,
     "metadata": {},
     "output_type": "execute_result"
    }
   ],
   "source": [
    "df.head()"
   ]
  },
  {
   "cell_type": "code",
   "execution_count": 91,
   "metadata": {},
   "outputs": [
    {
     "data": {
      "text/plain": [
       "0    5999\n",
       "2    8990\n",
       "Name: Price_in_Rupees, dtype: int64"
      ]
     },
     "execution_count": 91,
     "metadata": {},
     "output_type": "execute_result"
    }
   ],
   "source": [
    "df.Price_in_Rupees[0:2]"
   ]
  },
  {
   "cell_type": "code",
   "execution_count": 92,
   "metadata": {},
   "outputs": [
    {
     "data": {
      "text/plain": [
       "0    40\n",
       "2    71\n",
       "Name: price_encoded, dtype: int64"
      ]
     },
     "execution_count": 92,
     "metadata": {},
     "output_type": "execute_result"
    }
   ],
   "source": [
    "df.price_encoded[0:2] # After Label Encodig"
   ]
  },
  {
   "cell_type": "code",
   "execution_count": 93,
   "metadata": {},
   "outputs": [
    {
     "data": {
      "text/html": [
       "<div>\n",
       "<style scoped>\n",
       "    .dataframe tbody tr th:only-of-type {\n",
       "        vertical-align: middle;\n",
       "    }\n",
       "\n",
       "    .dataframe tbody tr th {\n",
       "        vertical-align: top;\n",
       "    }\n",
       "\n",
       "    .dataframe thead th {\n",
       "        text-align: right;\n",
       "    }\n",
       "</style>\n",
       "<table border=\"1\" class=\"dataframe\">\n",
       "  <thead>\n",
       "    <tr style=\"text-align: right;\">\n",
       "      <th></th>\n",
       "      <th>Price_in_Rupees</th>\n",
       "      <th>Off(%)</th>\n",
       "      <th>Ram</th>\n",
       "      <th>Rom</th>\n",
       "      <th>Expandable_GB/TB</th>\n",
       "      <th>Screen_in_inch</th>\n",
       "      <th>Secondary_Camera(MP)</th>\n",
       "      <th>Battery_details</th>\n",
       "      <th>Warranty(Year)</th>\n",
       "      <th>Rating</th>\n",
       "      <th>...</th>\n",
       "      <th>price_encoded</th>\n",
       "      <th>Ram_encoded</th>\n",
       "      <th>Rom_encoded</th>\n",
       "      <th>Expand_encoded</th>\n",
       "      <th>Screen_encoded</th>\n",
       "      <th>Secondary_Camera_encoded</th>\n",
       "      <th>Battery_encoded</th>\n",
       "      <th>Warranty_encoded</th>\n",
       "      <th>Rating_encoded</th>\n",
       "      <th>Dual_sim_encoded</th>\n",
       "    </tr>\n",
       "  </thead>\n",
       "  <tbody>\n",
       "    <tr>\n",
       "      <th>0</th>\n",
       "      <td>5999</td>\n",
       "      <td>14</td>\n",
       "      <td>2</td>\n",
       "      <td>16</td>\n",
       "      <td>256</td>\n",
       "      <td>6.1</td>\n",
       "      <td>5</td>\n",
       "      <td>4000</td>\n",
       "      <td>1</td>\n",
       "      <td>4.5</td>\n",
       "      <td>...</td>\n",
       "      <td>40</td>\n",
       "      <td>1</td>\n",
       "      <td>2</td>\n",
       "      <td>6</td>\n",
       "      <td>19</td>\n",
       "      <td>3</td>\n",
       "      <td>41</td>\n",
       "      <td>0</td>\n",
       "      <td>12</td>\n",
       "      <td>0</td>\n",
       "    </tr>\n",
       "    <tr>\n",
       "      <th>2</th>\n",
       "      <td>8990</td>\n",
       "      <td>49</td>\n",
       "      <td>3</td>\n",
       "      <td>64</td>\n",
       "      <td>256</td>\n",
       "      <td>5.5</td>\n",
       "      <td>8</td>\n",
       "      <td>3300</td>\n",
       "      <td>1</td>\n",
       "      <td>4.3</td>\n",
       "      <td>...</td>\n",
       "      <td>71</td>\n",
       "      <td>2</td>\n",
       "      <td>5</td>\n",
       "      <td>6</td>\n",
       "      <td>9</td>\n",
       "      <td>4</td>\n",
       "      <td>31</td>\n",
       "      <td>0</td>\n",
       "      <td>10</td>\n",
       "      <td>0</td>\n",
       "    </tr>\n",
       "    <tr>\n",
       "      <th>3</th>\n",
       "      <td>10000</td>\n",
       "      <td>10</td>\n",
       "      <td>2</td>\n",
       "      <td>16</td>\n",
       "      <td>128</td>\n",
       "      <td>5.0</td>\n",
       "      <td>5</td>\n",
       "      <td>2630</td>\n",
       "      <td>1</td>\n",
       "      <td>4.2</td>\n",
       "      <td>...</td>\n",
       "      <td>81</td>\n",
       "      <td>1</td>\n",
       "      <td>2</td>\n",
       "      <td>5</td>\n",
       "      <td>5</td>\n",
       "      <td>3</td>\n",
       "      <td>16</td>\n",
       "      <td>0</td>\n",
       "      <td>9</td>\n",
       "      <td>0</td>\n",
       "    </tr>\n",
       "    <tr>\n",
       "      <th>4</th>\n",
       "      <td>10000</td>\n",
       "      <td>10</td>\n",
       "      <td>3</td>\n",
       "      <td>16</td>\n",
       "      <td>256</td>\n",
       "      <td>5.2</td>\n",
       "      <td>5</td>\n",
       "      <td>3000</td>\n",
       "      <td>1</td>\n",
       "      <td>4.2</td>\n",
       "      <td>...</td>\n",
       "      <td>81</td>\n",
       "      <td>2</td>\n",
       "      <td>2</td>\n",
       "      <td>6</td>\n",
       "      <td>6</td>\n",
       "      <td>3</td>\n",
       "      <td>22</td>\n",
       "      <td>0</td>\n",
       "      <td>9</td>\n",
       "      <td>0</td>\n",
       "    </tr>\n",
       "    <tr>\n",
       "      <th>5</th>\n",
       "      <td>9800</td>\n",
       "      <td>25</td>\n",
       "      <td>3</td>\n",
       "      <td>16</td>\n",
       "      <td>256</td>\n",
       "      <td>5.2</td>\n",
       "      <td>5</td>\n",
       "      <td>3000</td>\n",
       "      <td>1</td>\n",
       "      <td>4.2</td>\n",
       "      <td>...</td>\n",
       "      <td>78</td>\n",
       "      <td>2</td>\n",
       "      <td>2</td>\n",
       "      <td>6</td>\n",
       "      <td>6</td>\n",
       "      <td>3</td>\n",
       "      <td>22</td>\n",
       "      <td>0</td>\n",
       "      <td>9</td>\n",
       "      <td>0</td>\n",
       "    </tr>\n",
       "  </tbody>\n",
       "</table>\n",
       "<p>5 rows × 21 columns</p>\n",
       "</div>"
      ],
      "text/plain": [
       "   Price_in_Rupees  Off(%)  Ram  Rom  Expandable_GB/TB  Screen_in_inch  \\\n",
       "0             5999      14    2   16               256             6.1   \n",
       "2             8990      49    3   64               256             5.5   \n",
       "3            10000      10    2   16               128             5.0   \n",
       "4            10000      10    3   16               256             5.2   \n",
       "5             9800      25    3   16               256             5.2   \n",
       "\n",
       "   Secondary_Camera(MP)  Battery_details  Warranty(Year)  Rating  ...  \\\n",
       "0                     5             4000               1     4.5  ...   \n",
       "2                     8             3300               1     4.3  ...   \n",
       "3                     5             2630               1     4.2  ...   \n",
       "4                     5             3000               1     4.2  ...   \n",
       "5                     5             3000               1     4.2  ...   \n",
       "\n",
       "   price_encoded  Ram_encoded  Rom_encoded  Expand_encoded  Screen_encoded  \\\n",
       "0             40            1            2               6              19   \n",
       "2             71            2            5               6               9   \n",
       "3             81            1            2               5               5   \n",
       "4             81            2            2               6               6   \n",
       "5             78            2            2               6               6   \n",
       "\n",
       "   Secondary_Camera_encoded  Battery_encoded  Warranty_encoded  \\\n",
       "0                         3               41                 0   \n",
       "2                         4               31                 0   \n",
       "3                         3               16                 0   \n",
       "4                         3               22                 0   \n",
       "5                         3               22                 0   \n",
       "\n",
       "   Rating_encoded  Dual_sim_encoded  \n",
       "0              12                 0  \n",
       "2              10                 0  \n",
       "3               9                 0  \n",
       "4               9                 0  \n",
       "5               9                 0  \n",
       "\n",
       "[5 rows x 21 columns]"
      ]
     },
     "execution_count": 93,
     "metadata": {},
     "output_type": "execute_result"
    }
   ],
   "source": [
    "df.head() # All Columns After Label Encoding "
   ]
  },
  {
   "cell_type": "code",
   "execution_count": 94,
   "metadata": {},
   "outputs": [],
   "source": [
    "a = df[['Ram','Rom','Expandable_GB/TB','Screen_in_inch','Secondary_Camera(MP)',\n",
    "         'Battery_details','Warranty(Year)','Rating','Dual_sim_num']]\n",
    "b = df.Price_in_Rupees"
   ]
  },
  {
   "cell_type": "code",
   "execution_count": 95,
   "metadata": {},
   "outputs": [
    {
     "data": {
      "text/plain": [
       "(304, 9)"
      ]
     },
     "execution_count": 95,
     "metadata": {},
     "output_type": "execute_result"
    }
   ],
   "source": [
    "a.shape"
   ]
  },
  {
   "cell_type": "code",
   "execution_count": 96,
   "metadata": {},
   "outputs": [
    {
     "data": {
      "text/plain": [
       "(304,)"
      ]
     },
     "execution_count": 96,
     "metadata": {},
     "output_type": "execute_result"
    }
   ],
   "source": [
    "b.shape"
   ]
  },
  {
   "cell_type": "code",
   "execution_count": 97,
   "metadata": {},
   "outputs": [],
   "source": [
    "from sklearn.model_selection import train_test_split"
   ]
  },
  {
   "cell_type": "code",
   "execution_count": 98,
   "metadata": {},
   "outputs": [],
   "source": [
    "X_train_,X_test_,y_train_,y_test_ = train_test_split(a,b,test_size=0.20,random_state=2)"
   ]
  },
  {
   "cell_type": "code",
   "execution_count": 99,
   "metadata": {},
   "outputs": [
    {
     "data": {
      "text/plain": [
       "(61,)"
      ]
     },
     "execution_count": 99,
     "metadata": {},
     "output_type": "execute_result"
    }
   ],
   "source": [
    "y_test_.shape"
   ]
  },
  {
   "cell_type": "code",
   "execution_count": 100,
   "metadata": {},
   "outputs": [],
   "source": [
    "# one hot encoding\n",
    "# from sklearn.preprocessing import OneHotEncoder\n",
    "# price_ohe = OneHotEncoder()\n",
    "# ram_ohe = OneHotEncoder()\n",
    "# Xp = price_ohe.fit_transform(mob.price_encoded.values.reshape(-1,1)).toarray()\n",
    "# Xr = ram_ohe.fit_transform(mob.Ram_encoded.values.reshape(-1,1)).toarray()"
   ]
  },
  {
   "cell_type": "code",
   "execution_count": 101,
   "metadata": {},
   "outputs": [],
   "source": [
    "# mobOneHot = pd.DataFrame(Xp,columns = [\"price_\"+str(int(i)) for i in range(Xp.shape[1])])\n",
    "# mob = pd.concat([mob, mobOneHot], axis=1)\n",
    "\n",
    "# dfOneHot = pd.DataFrame(Xm, columns = [\"Make\"+str(int(i)) for i in range(X.shape[1])])\n",
    "# df = pd.concat([df, dfOneHot], axis=1)"
   ]
  },
  {
   "cell_type": "code",
   "execution_count": 102,
   "metadata": {},
   "outputs": [],
   "source": [
    "c=df['Price_in_Rupees']"
   ]
  },
  {
   "cell_type": "code",
   "execution_count": 103,
   "metadata": {},
   "outputs": [],
   "source": [
    "d=df['price_encoded']"
   ]
  },
  {
   "cell_type": "code",
   "execution_count": 104,
   "metadata": {},
   "outputs": [
    {
     "data": {
      "text/plain": [
       "Index(['Price_in_Rupees', 'Off(%)', 'Ram', 'Rom', 'Expandable_GB/TB',\n",
       "       'Screen_in_inch', 'Secondary_Camera(MP)', 'Battery_details',\n",
       "       'Warranty(Year)', 'Rating', 'Dual_sim_num', 'price_encoded',\n",
       "       'Ram_encoded', 'Rom_encoded', 'Expand_encoded', 'Screen_encoded',\n",
       "       'Secondary_Camera_encoded', 'Battery_encoded', 'Warranty_encoded',\n",
       "       'Rating_encoded', 'Dual_sim_encoded'],\n",
       "      dtype='object')"
      ]
     },
     "execution_count": 104,
     "metadata": {},
     "output_type": "execute_result"
    }
   ],
   "source": [
    "df.columns"
   ]
  },
  {
   "cell_type": "code",
   "execution_count": 105,
   "metadata": {},
   "outputs": [],
   "source": [
    "df=df.drop(['Price_in_Rupees','Off(%)','Rom','Ram','Expandable_GB/TB','Screen_in_inch','Secondary_Camera(MP)','Battery_details','Warranty(Year)','Rating','Dual_sim_num'],axis='columns')"
   ]
  },
  {
   "cell_type": "code",
   "execution_count": 106,
   "metadata": {},
   "outputs": [
    {
     "data": {
      "text/html": [
       "<div>\n",
       "<style scoped>\n",
       "    .dataframe tbody tr th:only-of-type {\n",
       "        vertical-align: middle;\n",
       "    }\n",
       "\n",
       "    .dataframe tbody tr th {\n",
       "        vertical-align: top;\n",
       "    }\n",
       "\n",
       "    .dataframe thead th {\n",
       "        text-align: right;\n",
       "    }\n",
       "</style>\n",
       "<table border=\"1\" class=\"dataframe\">\n",
       "  <thead>\n",
       "    <tr style=\"text-align: right;\">\n",
       "      <th></th>\n",
       "      <th>price_encoded</th>\n",
       "      <th>Ram_encoded</th>\n",
       "      <th>Rom_encoded</th>\n",
       "      <th>Expand_encoded</th>\n",
       "      <th>Screen_encoded</th>\n",
       "      <th>Secondary_Camera_encoded</th>\n",
       "      <th>Battery_encoded</th>\n",
       "      <th>Warranty_encoded</th>\n",
       "      <th>Rating_encoded</th>\n",
       "      <th>Dual_sim_encoded</th>\n",
       "    </tr>\n",
       "  </thead>\n",
       "  <tbody>\n",
       "    <tr>\n",
       "      <th>0</th>\n",
       "      <td>40</td>\n",
       "      <td>1</td>\n",
       "      <td>2</td>\n",
       "      <td>6</td>\n",
       "      <td>19</td>\n",
       "      <td>3</td>\n",
       "      <td>41</td>\n",
       "      <td>0</td>\n",
       "      <td>12</td>\n",
       "      <td>0</td>\n",
       "    </tr>\n",
       "    <tr>\n",
       "      <th>2</th>\n",
       "      <td>71</td>\n",
       "      <td>2</td>\n",
       "      <td>5</td>\n",
       "      <td>6</td>\n",
       "      <td>9</td>\n",
       "      <td>4</td>\n",
       "      <td>31</td>\n",
       "      <td>0</td>\n",
       "      <td>10</td>\n",
       "      <td>0</td>\n",
       "    </tr>\n",
       "    <tr>\n",
       "      <th>3</th>\n",
       "      <td>81</td>\n",
       "      <td>1</td>\n",
       "      <td>2</td>\n",
       "      <td>5</td>\n",
       "      <td>5</td>\n",
       "      <td>3</td>\n",
       "      <td>16</td>\n",
       "      <td>0</td>\n",
       "      <td>9</td>\n",
       "      <td>0</td>\n",
       "    </tr>\n",
       "    <tr>\n",
       "      <th>4</th>\n",
       "      <td>81</td>\n",
       "      <td>2</td>\n",
       "      <td>2</td>\n",
       "      <td>6</td>\n",
       "      <td>6</td>\n",
       "      <td>3</td>\n",
       "      <td>22</td>\n",
       "      <td>0</td>\n",
       "      <td>9</td>\n",
       "      <td>0</td>\n",
       "    </tr>\n",
       "    <tr>\n",
       "      <th>5</th>\n",
       "      <td>78</td>\n",
       "      <td>2</td>\n",
       "      <td>2</td>\n",
       "      <td>6</td>\n",
       "      <td>6</td>\n",
       "      <td>3</td>\n",
       "      <td>22</td>\n",
       "      <td>0</td>\n",
       "      <td>9</td>\n",
       "      <td>0</td>\n",
       "    </tr>\n",
       "  </tbody>\n",
       "</table>\n",
       "</div>"
      ],
      "text/plain": [
       "   price_encoded  Ram_encoded  Rom_encoded  Expand_encoded  Screen_encoded  \\\n",
       "0             40            1            2               6              19   \n",
       "2             71            2            5               6               9   \n",
       "3             81            1            2               5               5   \n",
       "4             81            2            2               6               6   \n",
       "5             78            2            2               6               6   \n",
       "\n",
       "   Secondary_Camera_encoded  Battery_encoded  Warranty_encoded  \\\n",
       "0                         3               41                 0   \n",
       "2                         4               31                 0   \n",
       "3                         3               16                 0   \n",
       "4                         3               22                 0   \n",
       "5                         3               22                 0   \n",
       "\n",
       "   Rating_encoded  Dual_sim_encoded  \n",
       "0              12                 0  \n",
       "2              10                 0  \n",
       "3               9                 0  \n",
       "4               9                 0  \n",
       "5               9                 0  "
      ]
     },
     "execution_count": 106,
     "metadata": {},
     "output_type": "execute_result"
    }
   ],
   "source": [
    "df.head()"
   ]
  },
  {
   "cell_type": "code",
   "execution_count": 107,
   "metadata": {},
   "outputs": [],
   "source": [
    "df.to_csv(\"Mobiles_dataset1.csv\")"
   ]
  },
  {
   "cell_type": "code",
   "execution_count": 108,
   "metadata": {},
   "outputs": [],
   "source": [
    "x = df[['Ram_encoded','Rom_encoded','Expand_encoded','Screen_encoded','Secondary_Camera_encoded',\n",
    "         'Battery_encoded','Warranty_encoded','Rating_encoded','Dual_sim_encoded']]"
   ]
  },
  {
   "cell_type": "code",
   "execution_count": 109,
   "metadata": {},
   "outputs": [],
   "source": [
    "y = df.price_encoded"
   ]
  },
  {
   "cell_type": "code",
   "execution_count": 110,
   "metadata": {},
   "outputs": [
    {
     "data": {
      "text/html": [
       "<div>\n",
       "<style scoped>\n",
       "    .dataframe tbody tr th:only-of-type {\n",
       "        vertical-align: middle;\n",
       "    }\n",
       "\n",
       "    .dataframe tbody tr th {\n",
       "        vertical-align: top;\n",
       "    }\n",
       "\n",
       "    .dataframe thead th {\n",
       "        text-align: right;\n",
       "    }\n",
       "</style>\n",
       "<table border=\"1\" class=\"dataframe\">\n",
       "  <thead>\n",
       "    <tr style=\"text-align: right;\">\n",
       "      <th></th>\n",
       "      <th>Ram_encoded</th>\n",
       "      <th>Rom_encoded</th>\n",
       "      <th>Expand_encoded</th>\n",
       "      <th>Screen_encoded</th>\n",
       "      <th>Secondary_Camera_encoded</th>\n",
       "      <th>Battery_encoded</th>\n",
       "      <th>Warranty_encoded</th>\n",
       "      <th>Rating_encoded</th>\n",
       "      <th>Dual_sim_encoded</th>\n",
       "    </tr>\n",
       "  </thead>\n",
       "  <tbody>\n",
       "    <tr>\n",
       "      <th>0</th>\n",
       "      <td>1</td>\n",
       "      <td>2</td>\n",
       "      <td>6</td>\n",
       "      <td>19</td>\n",
       "      <td>3</td>\n",
       "      <td>41</td>\n",
       "      <td>0</td>\n",
       "      <td>12</td>\n",
       "      <td>0</td>\n",
       "    </tr>\n",
       "    <tr>\n",
       "      <th>2</th>\n",
       "      <td>2</td>\n",
       "      <td>5</td>\n",
       "      <td>6</td>\n",
       "      <td>9</td>\n",
       "      <td>4</td>\n",
       "      <td>31</td>\n",
       "      <td>0</td>\n",
       "      <td>10</td>\n",
       "      <td>0</td>\n",
       "    </tr>\n",
       "    <tr>\n",
       "      <th>3</th>\n",
       "      <td>1</td>\n",
       "      <td>2</td>\n",
       "      <td>5</td>\n",
       "      <td>5</td>\n",
       "      <td>3</td>\n",
       "      <td>16</td>\n",
       "      <td>0</td>\n",
       "      <td>9</td>\n",
       "      <td>0</td>\n",
       "    </tr>\n",
       "    <tr>\n",
       "      <th>4</th>\n",
       "      <td>2</td>\n",
       "      <td>2</td>\n",
       "      <td>6</td>\n",
       "      <td>6</td>\n",
       "      <td>3</td>\n",
       "      <td>22</td>\n",
       "      <td>0</td>\n",
       "      <td>9</td>\n",
       "      <td>0</td>\n",
       "    </tr>\n",
       "    <tr>\n",
       "      <th>5</th>\n",
       "      <td>2</td>\n",
       "      <td>2</td>\n",
       "      <td>6</td>\n",
       "      <td>6</td>\n",
       "      <td>3</td>\n",
       "      <td>22</td>\n",
       "      <td>0</td>\n",
       "      <td>9</td>\n",
       "      <td>0</td>\n",
       "    </tr>\n",
       "  </tbody>\n",
       "</table>\n",
       "</div>"
      ],
      "text/plain": [
       "   Ram_encoded  Rom_encoded  Expand_encoded  Screen_encoded  \\\n",
       "0            1            2               6              19   \n",
       "2            2            5               6               9   \n",
       "3            1            2               5               5   \n",
       "4            2            2               6               6   \n",
       "5            2            2               6               6   \n",
       "\n",
       "   Secondary_Camera_encoded  Battery_encoded  Warranty_encoded  \\\n",
       "0                         3               41                 0   \n",
       "2                         4               31                 0   \n",
       "3                         3               16                 0   \n",
       "4                         3               22                 0   \n",
       "5                         3               22                 0   \n",
       "\n",
       "   Rating_encoded  Dual_sim_encoded  \n",
       "0              12                 0  \n",
       "2              10                 0  \n",
       "3               9                 0  \n",
       "4               9                 0  \n",
       "5               9                 0  "
      ]
     },
     "execution_count": 110,
     "metadata": {},
     "output_type": "execute_result"
    }
   ],
   "source": [
    "df.drop(['price_encoded'],axis=1).head()"
   ]
  },
  {
   "cell_type": "code",
   "execution_count": 111,
   "metadata": {},
   "outputs": [],
   "source": [
    "# seaborn  for data Visualization\n",
    "import seaborn as sns"
   ]
  },
  {
   "cell_type": "code",
   "execution_count": 112,
   "metadata": {
    "scrolled": true
   },
   "outputs": [
    {
     "data": {
      "image/png": "[encoded data removed]",
      "text/plain": [
       "<Figure size 438.5x360 with 1 Axes>"
      ]
     },
     "metadata": {
      "needs_background": "light"
     },
     "output_type": "display_data"
    }
   ],
   "source": [
    "g = sns.lmplot(x=\"Ram_encoded\", y=\"price_encoded\", hue=\"Ram_encoded\",data=df, palette=\"Set1\")"
   ]
  },
  {
   "cell_type": "code",
   "execution_count": 113,
   "metadata": {},
   "outputs": [
    {
     "data": {
      "text/plain": [
       "((304,), (304, 9))"
      ]
     },
     "execution_count": 113,
     "metadata": {},
     "output_type": "execute_result"
    }
   ],
   "source": [
    "y.shape, x.shape"
   ]
  },
  {
   "cell_type": "code",
   "execution_count": 114,
   "metadata": {},
   "outputs": [],
   "source": [
    "# By using train_test_split() method spliting 80% data for training,20% data for testing the model.\n",
    "from sklearn.model_selection import train_test_split"
   ]
  },
  {
   "cell_type": "code",
   "execution_count": 115,
   "metadata": {},
   "outputs": [],
   "source": [
    "X_train,X_test,y_train,y_test = train_test_split(x, y, test_size=0.20,random_state=2)"
   ]
  },
  {
   "cell_type": "code",
   "execution_count": 116,
   "metadata": {},
   "outputs": [
    {
     "data": {
      "text/plain": [
       "(61,)"
      ]
     },
     "execution_count": 116,
     "metadata": {},
     "output_type": "execute_result"
    }
   ],
   "source": [
    "y_test.shape"
   ]
  },
  {
   "cell_type": "code",
   "execution_count": 117,
   "metadata": {},
   "outputs": [],
   "source": [
    "# LinearRegression Algorithm :Linear Regression is one of the widely used Machine Learning Algorithms by\n",
    "#Data Scientists. It is used to make predictions on numerical data.\n",
    "from sklearn.linear_model import LinearRegression"
   ]
  },
  {
   "cell_type": "code",
   "execution_count": 118,
   "metadata": {},
   "outputs": [],
   "source": [
    "# Alogorithm object created.\n",
    "lr_model = LinearRegression()"
   ]
  },
  {
   "cell_type": "code",
   "execution_count": 119,
   "metadata": {},
   "outputs": [],
   "source": [
    "lr_model1 = lr_model.fit(X_train,y_train)"
   ]
  },
  {
   "cell_type": "code",
   "execution_count": 120,
   "metadata": {},
   "outputs": [
    {
     "data": {
      "text/plain": [
       "LinearRegression(copy_X=True, fit_intercept=True, n_jobs=None, normalize=False)"
      ]
     },
     "execution_count": 120,
     "metadata": {},
     "output_type": "execute_result"
    }
   ],
   "source": [
    "lr_model1"
   ]
  },
  {
   "cell_type": "code",
   "execution_count": 121,
   "metadata": {},
   "outputs": [],
   "source": [
    "lr_model2 = lr_model.fit(X_test,y_test)"
   ]
  },
  {
   "cell_type": "code",
   "execution_count": 122,
   "metadata": {},
   "outputs": [
    {
     "data": {
      "text/plain": [
       "LinearRegression(copy_X=True, fit_intercept=True, n_jobs=None, normalize=False)"
      ]
     },
     "execution_count": 122,
     "metadata": {},
     "output_type": "execute_result"
    }
   ],
   "source": [
    "lr_model2"
   ]
  },
  {
   "cell_type": "code",
   "execution_count": 123,
   "metadata": {},
   "outputs": [
    {
     "data": {
      "text/plain": [
       "array([ 99.86914827,  72.05675885,  42.85045244, 113.23732046,\n",
       "        67.44967695,  49.69818387,  20.59075519,  76.113134  ,\n",
       "       102.16424624, 104.86454275,  88.58906299,  56.02746619,\n",
       "       107.18489472,  66.88802709,  84.81106462, 116.27690317,\n",
       "        79.41172769,  79.52653499,  84.81106462,  91.99016141,\n",
       "        33.26303749, 105.51236329,   7.08202904, 124.08906573,\n",
       "        44.39424315,  77.48298785,   7.25685876, 150.52445817,\n",
       "        74.94403183,  47.72348151, 101.44253842,  33.21708514,\n",
       "       102.31402607,  39.13790002,  90.07429245,  63.67431725,\n",
       "        96.7769206 ,  66.29976022,  93.69269434,  30.43726072,\n",
       "        65.08475324, 110.22738405, 103.44832909,  93.93707605,\n",
       "        76.03888863, 105.40381826, 130.84038882,  72.18093863,\n",
       "        37.621646  ,  15.09895703, 120.51287733, 116.33692559,\n",
       "       107.20574888,  78.68303296,  54.15176939, 141.40067267,\n",
       "        98.4276806 ,  50.95616777, 126.35052712,  41.69693459,\n",
       "        27.64500474])"
      ]
     },
     "execution_count": 123,
     "metadata": {},
     "output_type": "execute_result"
    }
   ],
   "source": [
    "predicted_price1=lr_model1.predict(X_test) #predicting price on testing data.\n",
    "predicted_price1"
   ]
  },
  {
   "cell_type": "code",
   "execution_count": 124,
   "metadata": {},
   "outputs": [
    {
     "data": {
      "text/plain": [
       "array([ 32.13271471,  36.96172318, 107.20574888,  76.87535926,\n",
       "        97.01205068,  95.03083638, 113.27311564,  31.75394613,\n",
       "        76.67833875, -16.69914482, 116.33692559, 126.09290639,\n",
       "       139.10189038,  76.87535926,  47.72348151,  96.57266457,\n",
       "        28.50739684,  91.68546298, 148.61967069,  47.04569023,\n",
       "        41.50135107, 130.47515368,  73.76193138,  56.24788249,\n",
       "        89.45839022,  95.92484403, 138.44727848, 101.53477291,\n",
       "       106.23300583, 100.97477121, 108.3577756 ,   7.02634428,\n",
       "        63.07545586,  54.30154117,  79.54733501, 105.40381826,\n",
       "       126.5802441 ,  47.04233694,  49.14876992,  99.84182825,\n",
       "        98.56545772, 139.41485241,  98.6956938 ,  17.29524105,\n",
       "        96.76829431, 135.08845573,  93.93707605,  58.56264613,\n",
       "        38.63167718, 143.36143607,  28.17284901,  75.17990528,\n",
       "       -18.39459881,  32.4616952 ,  81.242789  , 103.03911837,\n",
       "        35.14547943, 109.57427502, 129.72235371,  50.63663332,\n",
       "        60.10918974,  16.89572237,  47.04233694,  82.67015833,\n",
       "        37.11254773,  47.04569023,  37.11254773, 128.27763099,\n",
       "       109.49185347,  93.26191395,  54.15176939,  56.911682  ,\n",
       "        99.01399118, 148.85752513,  35.14547943,  42.16863262,\n",
       "         8.80211353, 116.16654747,   7.99974622, 117.43421111,\n",
       "        85.74018912, 141.38778648, 105.82045635, 130.12336894,\n",
       "        81.47478864, 134.39803018,  51.40706566,  20.28367329,\n",
       "        76.67833875,  11.28887303,  37.81785116,  34.32958368,\n",
       "        34.63505904,  72.36020845, 113.13079391,  78.78732009,\n",
       "        16.89572237,  87.21155661,  15.95866739,  19.16293716,\n",
       "        25.98934673, 110.48664958,  46.93337069,  92.85446347,\n",
       "        56.67690265,  53.6243648 ,  64.15328476,  80.48056373,\n",
       "        88.68964496,  39.05346552, 119.32815391,  82.55018443,\n",
       "        34.70025095,  84.81106462,  70.62836723, 103.22361909,\n",
       "        84.53296052,  57.30050783,  35.16779301,  21.50347581,\n",
       "        71.94501105,  78.68303296,  41.75281172,  98.35183069,\n",
       "       103.77671735,  79.31146157,  35.14547943,  15.4585089 ,\n",
       "        65.74064382,  20.59075519,  57.69053681, 117.83142875,\n",
       "       106.58830761,  54.30154117,  64.42659066,  96.10934474,\n",
       "       128.1014105 , 107.18489472, 101.37928804,  46.08969714,\n",
       "        91.99016141,  41.66303328,   8.80211353,   6.15791928,\n",
       "        87.7057663 , -13.9183989 ,  60.10918974,  54.30154117,\n",
       "       111.12154406, 105.40381826, 107.39722686,  78.68303296,\n",
       "       -16.69914482,   4.03105957,  60.6822493 ,  86.42268658,\n",
       "        58.99596181,  60.10918974, 104.87905355, -18.39459881,\n",
       "       137.83789204,  80.77765957,  89.17849435,  86.33969117,\n",
       "        36.40479866,  14.87337545,  56.61536177,  61.22018157,\n",
       "        74.94403183,   5.44219815,  74.77633519,  72.18093863,\n",
       "       106.68145581,  62.98734376,  50.69251045,  69.82988032,\n",
       "        44.98755252, 106.00824171, 178.2272407 ,  76.67833875,\n",
       "        87.7057663 ,  93.93028048,  35.13697406,  58.7989413 ,\n",
       "       128.14923862,  78.27429338,  72.18093863, -10.67868494,\n",
       "        29.28143059,  35.4742847 ,  82.8140435 ,  51.3851338 ,\n",
       "       105.82045635, 126.10772395, 114.80658039,  19.86479157,\n",
       "        15.95866739,  47.02148279,  76.42418858, 116.68750465,\n",
       "        56.2124128 , 137.08893735,  88.67204586,  31.75394613,\n",
       "        94.23542664, 108.04211784, -16.69914482,   4.96428829,\n",
       "       112.09505676, 127.43390513,  64.15328476,  83.91476475,\n",
       "        69.26453125, 123.74627912,  28.50739684,  64.15328476,\n",
       "       122.82506738,  37.67123249,  40.96797393,  76.67833875,\n",
       "         9.02727363,  43.4197086 ,  92.85446347,  96.88075762,\n",
       "       113.94170475, 133.02876445, 137.21732971,  15.95866739,\n",
       "        79.52653499, 114.86208027,  90.07429245, 116.4533488 ,\n",
       "        74.94403183, 135.36532475,  53.32310708,  94.23542664,\n",
       "         8.83258456,  84.32221522, 116.68750465, 137.05610332,\n",
       "        77.13519033,  47.85727817, 120.05213732])"
      ]
     },
     "execution_count": 124,
     "metadata": {},
     "output_type": "execute_result"
    }
   ],
   "source": [
    "predicted_price2 = lr_model2.predict(X_train)# predicting price on Training data.\n",
    "predicted_price2"
   ]
  },
  {
   "cell_type": "code",
   "execution_count": 132,
   "metadata": {},
   "outputs": [
    {
     "name": "stdout",
     "output_type": "stream",
     "text": [
      "ACCURACY: 72.49 %\n"
     ]
    }
   ],
   "source": [
    "# Accuracy on testing data.\n",
    "accuracy = lr_model1.score(X_test,y_test)*100\n",
    "\n",
    "accuracy =  np.around(accuracy, decimals=2) # for 2float  points\n",
    "print(\"ACCURACY:\",accuracy,\"%\")"
   ]
  },
  {
   "cell_type": "code",
   "execution_count": 133,
   "metadata": {},
   "outputs": [
    {
     "name": "stdout",
     "output_type": "stream",
     "text": [
      "ACCURACY: 69.61 %\n"
     ]
    }
   ],
   "source": [
    "# Accuracy on training data.\n",
    "accuracy = lr_model2.score(X_train,y_train)*100\n",
    "\n",
    "accuracy =  np.around(accuracy, decimals=2)# for 2float  points\n",
    "print(\"ACCURACY:\",accuracy,\"%\")"
   ]
  },
  {
   "cell_type": "code",
   "execution_count": 134,
   "metadata": {},
   "outputs": [],
   "source": [
    "from sklearn.model_selection import cross_val_score"
   ]
  },
  {
   "cell_type": "code",
   "execution_count": 135,
   "metadata": {},
   "outputs": [
    {
     "data": {
      "text/plain": [
       "array([0.73545529, 0.55258556, 0.79472822, 0.58243443, 0.49494709])"
      ]
     },
     "execution_count": 135,
     "metadata": {},
     "output_type": "execute_result"
    }
   ],
   "source": [
    "cross_val_score(lr_model,x,y, cv=5) # finding cross validation score.for Best accuracy."
   ]
  },
  {
   "cell_type": "code",
   "execution_count": 136,
   "metadata": {},
   "outputs": [],
   "source": [
    "# comparing with Actual_Mobile_price and Predicted_Mobile_price\n",
    "compar = pd.DataFrame({\"Actual_price_(encoded)\":y_test,\"predicted_price\":predicted_price1})"
   ]
  },
  {
   "cell_type": "code",
   "execution_count": 137,
   "metadata": {},
   "outputs": [],
   "source": [
    "act_and_pred2=compar.head(50)"
   ]
  },
  {
   "cell_type": "code",
   "execution_count": 138,
   "metadata": {},
   "outputs": [
    {
     "data": {
      "text/html": [
       "<div>\n",
       "<style scoped>\n",
       "    .dataframe tbody tr th:only-of-type {\n",
       "        vertical-align: middle;\n",
       "    }\n",
       "\n",
       "    .dataframe tbody tr th {\n",
       "        vertical-align: top;\n",
       "    }\n",
       "\n",
       "    .dataframe thead th {\n",
       "        text-align: right;\n",
       "    }\n",
       "</style>\n",
       "<table border=\"1\" class=\"dataframe\">\n",
       "  <thead>\n",
       "    <tr style=\"text-align: right;\">\n",
       "      <th></th>\n",
       "      <th>Actual_price_(encoded)</th>\n",
       "      <th>predicted_price</th>\n",
       "    </tr>\n",
       "  </thead>\n",
       "  <tbody>\n",
       "    <tr>\n",
       "      <th>167</th>\n",
       "      <td>72</td>\n",
       "      <td>99.869148</td>\n",
       "    </tr>\n",
       "    <tr>\n",
       "      <th>668</th>\n",
       "      <td>72</td>\n",
       "      <td>72.056759</td>\n",
       "    </tr>\n",
       "    <tr>\n",
       "      <th>155</th>\n",
       "      <td>31</td>\n",
       "      <td>42.850452</td>\n",
       "    </tr>\n",
       "  </tbody>\n",
       "</table>\n",
       "</div>"
      ],
      "text/plain": [
       "     Actual_price_(encoded)  predicted_price\n",
       "167                      72        99.869148\n",
       "668                      72        72.056759\n",
       "155                      31        42.850452"
      ]
     },
     "execution_count": 138,
     "metadata": {},
     "output_type": "execute_result"
    }
   ],
   "source": [
    "act_and_pred2.head(3)"
   ]
  },
  {
   "cell_type": "code",
   "execution_count": 139,
   "metadata": {},
   "outputs": [],
   "source": [
    "# act_and_pred2.to_csv('final_output.csv')"
   ]
  },
  {
   "cell_type": "code",
   "execution_count": 140,
   "metadata": {
    "scrolled": false
   },
   "outputs": [
    {
     "data": {
      "image/png": "[encoded data removed]",
      "text/plain": [
       "<Figure size 1080x720 with 1 Axes>"
      ]
     },
     "metadata": {
      "needs_background": "light"
     },
     "output_type": "display_data"
    }
   ],
   "source": [
    "import matplotlib.pyplot as plt\n",
    "act_and_pred2.plot(kind='bar',figsize=(15,10))\n",
    "# plt.grid(linewidth='0.5', color='green')\n",
    "# plt.grid(linewidth='0.5', color='blue')\n",
    "plt.show()"
   ]
  },
  {
   "cell_type": "code",
   "execution_count": 142,
   "metadata": {},
   "outputs": [],
   "source": [
    "# act_and_pred2.hist(bins=50, figsize=(15, 5))\n",
    "# plt.show()\n",
    "from sklearn import metrics"
   ]
  },
  {
   "cell_type": "code",
   "execution_count": 143,
   "metadata": {
    "scrolled": false
   },
   "outputs": [
    {
     "name": "stdout",
     "output_type": "stream",
     "text": [
      "Mean Absolute Error: 15.202855665880156\n",
      "Mean Squared Error: 431.89988541889414\n",
      "Root Mean Squared Error: 20.782201168762036\n"
     ]
    }
   ],
   "source": [
    "print('Mean Absolute Error:', metrics.mean_absolute_error(y_test, predicted_price1))  \n",
    "print('Mean Squared Error:', metrics.mean_squared_error(y_test, predicted_price1))  \n",
    "print('Root Mean Squared Error:', np.sqrt(metrics.mean_squared_error(y_test, predicted_price1))) "
   ]
  },
  {
   "cell_type": "code",
   "execution_count": 144,
   "metadata": {},
   "outputs": [
    {
     "data": {
      "text/plain": [
       "0.408510513184818"
      ]
     },
     "execution_count": 144,
     "metadata": {},
     "output_type": "execute_result"
    }
   ],
   "source": [
    "metrics.mean_squared_log_error(y_test,predicted_price1)"
   ]
  },
  {
   "cell_type": "code",
   "execution_count": 145,
   "metadata": {},
   "outputs": [
    {
     "data": {
      "text/plain": [
       "11.85045244178886"
      ]
     },
     "execution_count": 145,
     "metadata": {},
     "output_type": "execute_result"
    }
   ],
   "source": [
    "metrics.median_absolute_error(y_test,predicted_price1)"
   ]
  },
  {
   "cell_type": "code",
   "execution_count": 146,
   "metadata": {},
   "outputs": [
    {
     "data": {
      "text/plain": [
       "0.7248518754380859"
      ]
     },
     "execution_count": 146,
     "metadata": {},
     "output_type": "execute_result"
    }
   ],
   "source": [
    "metrics.explained_variance_score(y_test,predicted_price1)     "
   ]
  },
  {
   "cell_type": "code",
   "execution_count": 147,
   "metadata": {},
   "outputs": [],
   "source": [
    "df_2=pd.DataFrame(act_and_pred2)"
   ]
  },
  {
   "cell_type": "code",
   "execution_count": 148,
   "metadata": {
    "scrolled": false
   },
   "outputs": [
    {
     "data": {
      "text/plain": [
       "<matplotlib.axes._subplots.AxesSubplot at 0x7f303a563400>"
      ]
     },
     "execution_count": 148,
     "metadata": {},
     "output_type": "execute_result"
    },
    {
     "data": {
      "image/png": "[encoded data removed]",
      "text/plain": [
       "<Figure size 432x288 with 1 Axes>"
      ]
     },
     "metadata": {
      "needs_background": "light"
     },
     "output_type": "display_data"
    }
   ],
   "source": [
    "sns.scatterplot(x=\"Actual_price_(encoded)\", y=\"predicted_price\",data=df_2,palette=\"set2\")"
   ]
  },
  {
   "cell_type": "code",
   "execution_count": 149,
   "metadata": {},
   "outputs": [],
   "source": [
    "#y = m1*Ram+ m2*Rom+ m3*Expandable +m4*Screen +m5*Secondary_Camera +m6*Battery+m7*Warranty......+b"
   ]
  },
  {
   "cell_type": "code",
   "execution_count": 150,
   "metadata": {
    "collapsed": true
   },
   "outputs": [
    {
     "data": {
      "text/plain": [
       "<seaborn.axisgrid.FacetGrid at 0x7f303a4a0be0>"
      ]
     },
     "execution_count": 150,
     "metadata": {},
     "output_type": "execute_result"
    },
    {
     "data": {
      "image/png": "[encoded data removed]",
      "text/plain": [
       "<Figure size 432x432 with 1 Axes>"
      ]
     },
     "metadata": {
      "needs_background": "light"
     },
     "output_type": "display_data"
    }
   ],
   "source": [
    "#Now that we have made our predictions, lets visualize our train and test set results by \n",
    "#building a  lmplot of the data and drawing the prediction line.\n",
    "\n",
    "sns.lmplot(x=\"Actual_price_(encoded)\", y=\"predicted_price\",data=df_2,palette=\"set1\",height=6)"
   ]
  },
  {
   "cell_type": "code",
   "execution_count": 151,
   "metadata": {},
   "outputs": [
    {
     "data": {
      "text/plain": [
       "array([ 4.36742973,  8.93969873, -5.25823462, -0.25279967,  4.49740013,\n",
       "        0.30412485,  0.        ,  6.19285411,  0.        ])"
      ]
     },
     "execution_count": 151,
     "metadata": {},
     "output_type": "execute_result"
    }
   ],
   "source": [
    "#finding coef for all features.\n",
    "lr_model.coef_"
   ]
  },
  {
   "cell_type": "code",
   "execution_count": 152,
   "metadata": {},
   "outputs": [
    {
     "name": "stdout",
     "output_type": "stream",
     "text": [
      "('price_encoded', 4.367429732881813)\n",
      "('Ram_encoded', 8.939698726411834)\n",
      "('Rom_encoded', -5.25823462012236)\n",
      "('Expand_encoded', -0.2527996687305878)\n",
      "('Screen_encoded', 4.497400126717653)\n",
      "('Secondary_Camera_encoded', 0.30412485449559146)\n",
      "('Battery_encoded', 0.0)\n",
      "('Warranty_encoded', 6.192854112339626)\n",
      "('Rating_encoded', 0.0)\n"
     ]
    }
   ],
   "source": [
    "#finding coef for each feature.\n",
    "for coef in zip(df, lr_model.coef_):\n",
    "    print(coef)"
   ]
  },
  {
   "cell_type": "code",
   "execution_count": 153,
   "metadata": {},
   "outputs": [
    {
     "data": {
      "text/plain": [
       "-21.74320386345036"
      ]
     },
     "execution_count": 153,
     "metadata": {},
     "output_type": "execute_result"
    }
   ],
   "source": [
    "lr_model.intercept_"
   ]
  },
  {
   "cell_type": "code",
   "execution_count": 154,
   "metadata": {},
   "outputs": [
    {
     "data": {
      "text/plain": [
       "78.54002519852783"
      ]
     },
     "execution_count": 154,
     "metadata": {},
     "output_type": "execute_result"
    }
   ],
   "source": [
    "9.80263447*2+ 8.49374169*5+(-2.78474221*6)+0.51293224*9+1.1177527*4+( -0.13397062*31)+  0*0+ 2.61437022*10+0*0+2.0964871285278264"
   ]
  },
  {
   "cell_type": "code",
   "execution_count": 155,
   "metadata": {
    "scrolled": true
   },
   "outputs": [
    {
     "data": {
      "text/html": [
       "<div>\n",
       "<style scoped>\n",
       "    .dataframe tbody tr th:only-of-type {\n",
       "        vertical-align: middle;\n",
       "    }\n",
       "\n",
       "    .dataframe tbody tr th {\n",
       "        vertical-align: top;\n",
       "    }\n",
       "\n",
       "    .dataframe thead th {\n",
       "        text-align: right;\n",
       "    }\n",
       "</style>\n",
       "<table border=\"1\" class=\"dataframe\">\n",
       "  <thead>\n",
       "    <tr style=\"text-align: right;\">\n",
       "      <th></th>\n",
       "      <th>price_encoded</th>\n",
       "      <th>Ram_encoded</th>\n",
       "      <th>Rom_encoded</th>\n",
       "      <th>Expand_encoded</th>\n",
       "      <th>Screen_encoded</th>\n",
       "      <th>Secondary_Camera_encoded</th>\n",
       "      <th>Battery_encoded</th>\n",
       "      <th>Warranty_encoded</th>\n",
       "      <th>Rating_encoded</th>\n",
       "      <th>Dual_sim_encoded</th>\n",
       "    </tr>\n",
       "  </thead>\n",
       "  <tbody>\n",
       "    <tr>\n",
       "      <th>0</th>\n",
       "      <td>40</td>\n",
       "      <td>1</td>\n",
       "      <td>2</td>\n",
       "      <td>6</td>\n",
       "      <td>19</td>\n",
       "      <td>3</td>\n",
       "      <td>41</td>\n",
       "      <td>0</td>\n",
       "      <td>12</td>\n",
       "      <td>0</td>\n",
       "    </tr>\n",
       "    <tr>\n",
       "      <th>2</th>\n",
       "      <td>71</td>\n",
       "      <td>2</td>\n",
       "      <td>5</td>\n",
       "      <td>6</td>\n",
       "      <td>9</td>\n",
       "      <td>4</td>\n",
       "      <td>31</td>\n",
       "      <td>0</td>\n",
       "      <td>10</td>\n",
       "      <td>0</td>\n",
       "    </tr>\n",
       "    <tr>\n",
       "      <th>3</th>\n",
       "      <td>81</td>\n",
       "      <td>1</td>\n",
       "      <td>2</td>\n",
       "      <td>5</td>\n",
       "      <td>5</td>\n",
       "      <td>3</td>\n",
       "      <td>16</td>\n",
       "      <td>0</td>\n",
       "      <td>9</td>\n",
       "      <td>0</td>\n",
       "    </tr>\n",
       "    <tr>\n",
       "      <th>4</th>\n",
       "      <td>81</td>\n",
       "      <td>2</td>\n",
       "      <td>2</td>\n",
       "      <td>6</td>\n",
       "      <td>6</td>\n",
       "      <td>3</td>\n",
       "      <td>22</td>\n",
       "      <td>0</td>\n",
       "      <td>9</td>\n",
       "      <td>0</td>\n",
       "    </tr>\n",
       "  </tbody>\n",
       "</table>\n",
       "</div>"
      ],
      "text/plain": [
       "   price_encoded  Ram_encoded  Rom_encoded  Expand_encoded  Screen_encoded  \\\n",
       "0             40            1            2               6              19   \n",
       "2             71            2            5               6               9   \n",
       "3             81            1            2               5               5   \n",
       "4             81            2            2               6               6   \n",
       "\n",
       "   Secondary_Camera_encoded  Battery_encoded  Warranty_encoded  \\\n",
       "0                         3               41                 0   \n",
       "2                         4               31                 0   \n",
       "3                         3               16                 0   \n",
       "4                         3               22                 0   \n",
       "\n",
       "   Rating_encoded  Dual_sim_encoded  \n",
       "0              12                 0  \n",
       "2              10                 0  \n",
       "3               9                 0  \n",
       "4               9                 0  "
      ]
     },
     "execution_count": 155,
     "metadata": {},
     "output_type": "execute_result"
    }
   ],
   "source": [
    "df.head(4)"
   ]
  },
  {
   "cell_type": "code",
   "execution_count": null,
   "metadata": {},
   "outputs": [],
   "source": []
  },
  {
   "cell_type": "code",
   "execution_count": null,
   "metadata": {},
   "outputs": [],
   "source": []
  },
  {
   "cell_type": "code",
   "execution_count": null,
   "metadata": {},
   "outputs": [],
   "source": []
  },
  {
   "cell_type": "code",
   "execution_count": null,
   "metadata": {},
   "outputs": [],
   "source": []
  }
 ],
 "metadata": {
  "kernelspec": {
   "display_name": "Python 3",
   "language": "python",
   "name": "python3"
  },
  "language_info": {
   "codemirror_mode": {
    "name": "ipython",
    "version": 3
   },
   "file_extension": ".py",
   "mimetype": "text/x-python",
   "name": "python",
   "nbconvert_exporter": "python",
   "pygments_lexer": "ipython3",
   "version": "3.6.8"
  }
 },
 "nbformat": 4,
 "nbformat_minor": 2
}
