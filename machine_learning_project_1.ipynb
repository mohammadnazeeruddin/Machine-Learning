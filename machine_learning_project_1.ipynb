{
 "cells": [
  {
   "cell_type": "code",
   "execution_count": 7,
   "metadata": {},
   "outputs": [],
   "source": [
    "import pandas as pd \n",
    "import numpy as np\n",
    "import matplotlib.pyplot as plt\n",
    "%matplotlib inline "
   ]
  },
  {
   "cell_type": "code",
   "execution_count": 8,
   "metadata": {},
   "outputs": [],
   "source": [
    "# Reading csv file using pandas.\n",
    "mobiles_data = pd.read_csv('Flipkart_mobiles_data700.csv')"
   ]
  },
  {
   "cell_type": "code",
   "execution_count": 9,
   "metadata": {},
   "outputs": [
    {
     "data": {
      "text/html": [
       "<div>\n",
       "<style scoped>\n",
       "    .dataframe tbody tr th:only-of-type {\n",
       "        vertical-align: middle;\n",
       "    }\n",
       "\n",
       "    .dataframe tbody tr th {\n",
       "        vertical-align: top;\n",
       "    }\n",
       "\n",
       "    .dataframe thead th {\n",
       "        text-align: right;\n",
       "    }\n",
       "</style>\n",
       "<table border=\"1\" class=\"dataframe\">\n",
       "  <thead>\n",
       "    <tr style=\"text-align: right;\">\n",
       "      <th></th>\n",
       "      <th>Mobiles</th>\n",
       "      <th>Colors</th>\n",
       "      <th>Price in Rupees</th>\n",
       "      <th>Off(%)</th>\n",
       "      <th>Ram</th>\n",
       "      <th>Rom</th>\n",
       "      <th>Expandable_GB/TB</th>\n",
       "      <th>Dual_sim</th>\n",
       "      <th>Screen_in_inch</th>\n",
       "      <th>Display</th>\n",
       "      <th>Secondary_Camera(MP)</th>\n",
       "      <th>Primary_Camera(MP)</th>\n",
       "      <th>Battery_details</th>\n",
       "      <th>Warranty(Year)</th>\n",
       "      <th>Rating</th>\n",
       "    </tr>\n",
       "  </thead>\n",
       "  <tbody>\n",
       "    <tr>\n",
       "      <th>0</th>\n",
       "      <td>RealmeC2</td>\n",
       "      <td>DiamondBlack</td>\n",
       "      <td>5999</td>\n",
       "      <td>14</td>\n",
       "      <td>2 GB</td>\n",
       "      <td>16 GB</td>\n",
       "      <td>256 GB</td>\n",
       "      <td>yes</td>\n",
       "      <td>6.1</td>\n",
       "      <td>HD</td>\n",
       "      <td>5</td>\n",
       "      <td>13 + 2</td>\n",
       "      <td>4000</td>\n",
       "      <td>1</td>\n",
       "      <td>4.5</td>\n",
       "    </tr>\n",
       "    <tr>\n",
       "      <th>1</th>\n",
       "      <td>RealmeC2</td>\n",
       "      <td>DiamondBlue</td>\n",
       "      <td>5999</td>\n",
       "      <td>14</td>\n",
       "      <td>2 GB</td>\n",
       "      <td>16 GB</td>\n",
       "      <td>256 GB</td>\n",
       "      <td>yes</td>\n",
       "      <td>6.1</td>\n",
       "      <td>HD</td>\n",
       "      <td>5</td>\n",
       "      <td>13 + 2</td>\n",
       "      <td>4000</td>\n",
       "      <td>1</td>\n",
       "      <td>4.5</td>\n",
       "    </tr>\n",
       "    <tr>\n",
       "      <th>2</th>\n",
       "      <td>SamsungGalaxyOnNxt</td>\n",
       "      <td>Gold</td>\n",
       "      <td>8990</td>\n",
       "      <td>49</td>\n",
       "      <td>3 GB</td>\n",
       "      <td>64 GB</td>\n",
       "      <td>256 GB</td>\n",
       "      <td>yes</td>\n",
       "      <td>5.5</td>\n",
       "      <td>FullHDDisplay</td>\n",
       "      <td>8</td>\n",
       "      <td>13</td>\n",
       "      <td>3300</td>\n",
       "      <td>1</td>\n",
       "      <td>4.3</td>\n",
       "    </tr>\n",
       "    <tr>\n",
       "      <th>3</th>\n",
       "      <td>OPPOA37f</td>\n",
       "      <td>Grey</td>\n",
       "      <td>10000</td>\n",
       "      <td>10</td>\n",
       "      <td>2 GB</td>\n",
       "      <td>16 GB</td>\n",
       "      <td>128 GB</td>\n",
       "      <td>yes</td>\n",
       "      <td>5.0</td>\n",
       "      <td>HDDisplay</td>\n",
       "      <td>5</td>\n",
       "      <td>8</td>\n",
       "      <td>2630</td>\n",
       "      <td>1</td>\n",
       "      <td>4.2</td>\n",
       "    </tr>\n",
       "    <tr>\n",
       "      <th>4</th>\n",
       "      <td>OPPOA71</td>\n",
       "      <td>Gold</td>\n",
       "      <td>10000</td>\n",
       "      <td>10</td>\n",
       "      <td>3 GB</td>\n",
       "      <td>16 GB</td>\n",
       "      <td>256 GB</td>\n",
       "      <td>yes</td>\n",
       "      <td>5.2</td>\n",
       "      <td>HDDisplay</td>\n",
       "      <td>5</td>\n",
       "      <td>13</td>\n",
       "      <td>3000</td>\n",
       "      <td>1</td>\n",
       "      <td>4.2</td>\n",
       "    </tr>\n",
       "  </tbody>\n",
       "</table>\n",
       "</div>"
      ],
      "text/plain": [
       "              Mobiles        Colors  Price in Rupees  Off(%)     Ram  \\\n",
       "0            RealmeC2  DiamondBlack             5999      14  2 GB     \n",
       "1            RealmeC2   DiamondBlue             5999      14  2 GB     \n",
       "2  SamsungGalaxyOnNxt          Gold             8990      49  3 GB     \n",
       "3            OPPOA37f          Grey            10000      10  2 GB     \n",
       "4             OPPOA71          Gold            10000      10  3 GB     \n",
       "\n",
       "        Rom Expandable_GB/TB Dual_sim  Screen_in_inch        Display  \\\n",
       "0   16 GB             256 GB      yes             6.1             HD   \n",
       "1   16 GB             256 GB      yes             6.1             HD   \n",
       "2   64 GB             256 GB      yes             5.5  FullHDDisplay   \n",
       "3   16 GB             128 GB      yes             5.0      HDDisplay   \n",
       "4   16 GB             256 GB      yes             5.2      HDDisplay   \n",
       "\n",
       "   Secondary_Camera(MP) Primary_Camera(MP)  Battery_details  Warranty(Year)  \\\n",
       "0                     5            13 + 2              4000               1   \n",
       "1                     5            13 + 2              4000               1   \n",
       "2                     8                 13             3300               1   \n",
       "3                     5                  8             2630               1   \n",
       "4                     5                 13             3000               1   \n",
       "\n",
       "   Rating  \n",
       "0     4.5  \n",
       "1     4.5  \n",
       "2     4.3  \n",
       "3     4.2  \n",
       "4     4.2  "
      ]
     },
     "execution_count": 9,
     "metadata": {},
     "output_type": "execute_result"
    }
   ],
   "source": [
    "# data of all mobiles.\n",
    "mobiles_data.head() "
   ]
  },
  {
   "cell_type": "code",
   "execution_count": 10,
   "metadata": {},
   "outputs": [
    {
     "data": {
      "text/html": [
       "<div>\n",
       "<style scoped>\n",
       "    .dataframe tbody tr th:only-of-type {\n",
       "        vertical-align: middle;\n",
       "    }\n",
       "\n",
       "    .dataframe tbody tr th {\n",
       "        vertical-align: top;\n",
       "    }\n",
       "\n",
       "    .dataframe thead th {\n",
       "        text-align: right;\n",
       "    }\n",
       "</style>\n",
       "<table border=\"1\" class=\"dataframe\">\n",
       "  <thead>\n",
       "    <tr style=\"text-align: right;\">\n",
       "      <th></th>\n",
       "      <th>Mobiles</th>\n",
       "      <th>Colors</th>\n",
       "      <th>Price in Rupees</th>\n",
       "      <th>Off(%)</th>\n",
       "      <th>Ram</th>\n",
       "      <th>Rom</th>\n",
       "      <th>Expandable_GB/TB</th>\n",
       "      <th>Dual_sim</th>\n",
       "      <th>Screen_in_inch</th>\n",
       "      <th>Display</th>\n",
       "      <th>Secondary_Camera(MP)</th>\n",
       "      <th>Primary_Camera(MP)</th>\n",
       "      <th>Battery_details</th>\n",
       "      <th>Warranty(Year)</th>\n",
       "      <th>Rating</th>\n",
       "    </tr>\n",
       "  </thead>\n",
       "  <tbody>\n",
       "    <tr>\n",
       "      <th>691</th>\n",
       "      <td>HuaweiP9</td>\n",
       "      <td>PrestigeGold</td>\n",
       "      <td>39999</td>\n",
       "      <td>28</td>\n",
       "      <td>3 GB</td>\n",
       "      <td>32 GB</td>\n",
       "      <td>128 GB</td>\n",
       "      <td>yes</td>\n",
       "      <td>5.2</td>\n",
       "      <td>FullHDDisplay</td>\n",
       "      <td>8</td>\n",
       "      <td>12 + 12</td>\n",
       "      <td>3000</td>\n",
       "      <td>1</td>\n",
       "      <td>4.5</td>\n",
       "    </tr>\n",
       "    <tr>\n",
       "      <th>692</th>\n",
       "      <td>HuaweiP9</td>\n",
       "      <td>MysticSilver</td>\n",
       "      <td>39999</td>\n",
       "      <td>28</td>\n",
       "      <td>3 GB</td>\n",
       "      <td>32 GB</td>\n",
       "      <td>128 GB</td>\n",
       "      <td>yes</td>\n",
       "      <td>5.2</td>\n",
       "      <td>FullHDDisplay</td>\n",
       "      <td>8</td>\n",
       "      <td>12 + 12</td>\n",
       "      <td>3000</td>\n",
       "      <td>1</td>\n",
       "      <td>4.5</td>\n",
       "    </tr>\n",
       "    <tr>\n",
       "      <th>693</th>\n",
       "      <td>OPPOR17Pro</td>\n",
       "      <td>RadiantMist</td>\n",
       "      <td>29990</td>\n",
       "      <td>40</td>\n",
       "      <td>8 GB</td>\n",
       "      <td>128 GB</td>\n",
       "      <td>256GB</td>\n",
       "      <td>yes</td>\n",
       "      <td>6.4</td>\n",
       "      <td>NaN</td>\n",
       "      <td>25</td>\n",
       "      <td>12 + 20</td>\n",
       "      <td>3700</td>\n",
       "      <td>1</td>\n",
       "      <td>4.4</td>\n",
       "    </tr>\n",
       "    <tr>\n",
       "      <th>694</th>\n",
       "      <td>SamsungGalaxyNote8</td>\n",
       "      <td>MidnightBlack</td>\n",
       "      <td>36990</td>\n",
       "      <td>50</td>\n",
       "      <td>6 GB</td>\n",
       "      <td>64 GB</td>\n",
       "      <td>256 GB</td>\n",
       "      <td>yes</td>\n",
       "      <td>6.3</td>\n",
       "      <td>QuadHD</td>\n",
       "      <td>8</td>\n",
       "      <td>12 + 12</td>\n",
       "      <td>3300</td>\n",
       "      <td>0</td>\n",
       "      <td>4.6</td>\n",
       "    </tr>\n",
       "    <tr>\n",
       "      <th>695</th>\n",
       "      <td>SamsungGalaxyNote8</td>\n",
       "      <td>MapleGold</td>\n",
       "      <td>36990</td>\n",
       "      <td>50</td>\n",
       "      <td>6 GB</td>\n",
       "      <td>64 GB</td>\n",
       "      <td>256 GB</td>\n",
       "      <td>yes</td>\n",
       "      <td>6.3</td>\n",
       "      <td>QuadHD</td>\n",
       "      <td>8</td>\n",
       "      <td>12 + 12</td>\n",
       "      <td>3300</td>\n",
       "      <td>0</td>\n",
       "      <td>4.6</td>\n",
       "    </tr>\n",
       "  </tbody>\n",
       "</table>\n",
       "</div>"
      ],
      "text/plain": [
       "                Mobiles         Colors  Price in Rupees  Off(%)     Ram  \\\n",
       "691            HuaweiP9   PrestigeGold            39999      28  3 GB     \n",
       "692            HuaweiP9   MysticSilver            39999      28  3 GB     \n",
       "693          OPPOR17Pro    RadiantMist            29990      40  8 GB     \n",
       "694  SamsungGalaxyNote8  MidnightBlack            36990      50  6 GB     \n",
       "695  SamsungGalaxyNote8      MapleGold            36990      50  6 GB     \n",
       "\n",
       "           Rom Expandable_GB/TB Dual_sim  Screen_in_inch        Display  \\\n",
       "691    32 GB             128 GB      yes             5.2  FullHDDisplay   \n",
       "692    32 GB             128 GB      yes             5.2  FullHDDisplay   \n",
       "693   128 GB              256GB      yes             6.4            NaN   \n",
       "694    64 GB             256 GB      yes             6.3         QuadHD   \n",
       "695    64 GB             256 GB      yes             6.3         QuadHD   \n",
       "\n",
       "     Secondary_Camera(MP) Primary_Camera(MP)  Battery_details  Warranty(Year)  \\\n",
       "691                     8           12 + 12              3000               1   \n",
       "692                     8           12 + 12              3000               1   \n",
       "693                    25           12 + 20              3700               1   \n",
       "694                     8           12 + 12              3300               0   \n",
       "695                     8           12 + 12              3300               0   \n",
       "\n",
       "     Rating  \n",
       "691     4.5  \n",
       "692     4.5  \n",
       "693     4.4  \n",
       "694     4.6  \n",
       "695     4.6  "
      ]
     },
     "execution_count": 10,
     "metadata": {},
     "output_type": "execute_result"
    }
   ],
   "source": [
    "# we have 695 mobiles data.\n",
    "mobiles_data.tail()"
   ]
  },
  {
   "cell_type": "code",
   "execution_count": 11,
   "metadata": {},
   "outputs": [],
   "source": [
    "# now we need to drop mobiles,colors & Display columns using pandas.\n",
    "mobiles_data.drop(['Mobiles','Colors','Display','Off(%)','Rating','Primary_Camera(MP)'], axis='columns', inplace=True)"
   ]
  },
  {
   "cell_type": "code",
   "execution_count": 12,
   "metadata": {},
   "outputs": [
    {
     "data": {
      "text/html": [
       "<div>\n",
       "<style scoped>\n",
       "    .dataframe tbody tr th:only-of-type {\n",
       "        vertical-align: middle;\n",
       "    }\n",
       "\n",
       "    .dataframe tbody tr th {\n",
       "        vertical-align: top;\n",
       "    }\n",
       "\n",
       "    .dataframe thead th {\n",
       "        text-align: right;\n",
       "    }\n",
       "</style>\n",
       "<table border=\"1\" class=\"dataframe\">\n",
       "  <thead>\n",
       "    <tr style=\"text-align: right;\">\n",
       "      <th></th>\n",
       "      <th>Price in Rupees</th>\n",
       "      <th>Ram</th>\n",
       "      <th>Rom</th>\n",
       "      <th>Expandable_GB/TB</th>\n",
       "      <th>Dual_sim</th>\n",
       "      <th>Screen_in_inch</th>\n",
       "      <th>Secondary_Camera(MP)</th>\n",
       "      <th>Battery_details</th>\n",
       "      <th>Warranty(Year)</th>\n",
       "    </tr>\n",
       "  </thead>\n",
       "  <tbody>\n",
       "    <tr>\n",
       "      <th>0</th>\n",
       "      <td>5999</td>\n",
       "      <td>2 GB</td>\n",
       "      <td>16 GB</td>\n",
       "      <td>256 GB</td>\n",
       "      <td>yes</td>\n",
       "      <td>6.1</td>\n",
       "      <td>5</td>\n",
       "      <td>4000</td>\n",
       "      <td>1</td>\n",
       "    </tr>\n",
       "    <tr>\n",
       "      <th>1</th>\n",
       "      <td>5999</td>\n",
       "      <td>2 GB</td>\n",
       "      <td>16 GB</td>\n",
       "      <td>256 GB</td>\n",
       "      <td>yes</td>\n",
       "      <td>6.1</td>\n",
       "      <td>5</td>\n",
       "      <td>4000</td>\n",
       "      <td>1</td>\n",
       "    </tr>\n",
       "    <tr>\n",
       "      <th>2</th>\n",
       "      <td>8990</td>\n",
       "      <td>3 GB</td>\n",
       "      <td>64 GB</td>\n",
       "      <td>256 GB</td>\n",
       "      <td>yes</td>\n",
       "      <td>5.5</td>\n",
       "      <td>8</td>\n",
       "      <td>3300</td>\n",
       "      <td>1</td>\n",
       "    </tr>\n",
       "    <tr>\n",
       "      <th>3</th>\n",
       "      <td>10000</td>\n",
       "      <td>2 GB</td>\n",
       "      <td>16 GB</td>\n",
       "      <td>128 GB</td>\n",
       "      <td>yes</td>\n",
       "      <td>5.0</td>\n",
       "      <td>5</td>\n",
       "      <td>2630</td>\n",
       "      <td>1</td>\n",
       "    </tr>\n",
       "    <tr>\n",
       "      <th>4</th>\n",
       "      <td>10000</td>\n",
       "      <td>3 GB</td>\n",
       "      <td>16 GB</td>\n",
       "      <td>256 GB</td>\n",
       "      <td>yes</td>\n",
       "      <td>5.2</td>\n",
       "      <td>5</td>\n",
       "      <td>3000</td>\n",
       "      <td>1</td>\n",
       "    </tr>\n",
       "  </tbody>\n",
       "</table>\n",
       "</div>"
      ],
      "text/plain": [
       "   Price in Rupees     Ram       Rom Expandable_GB/TB Dual_sim  \\\n",
       "0             5999  2 GB     16 GB             256 GB      yes   \n",
       "1             5999  2 GB     16 GB             256 GB      yes   \n",
       "2             8990  3 GB     64 GB             256 GB      yes   \n",
       "3            10000  2 GB     16 GB             128 GB      yes   \n",
       "4            10000  3 GB     16 GB             256 GB      yes   \n",
       "\n",
       "   Screen_in_inch  Secondary_Camera(MP)  Battery_details  Warranty(Year)  \n",
       "0             6.1                     5             4000               1  \n",
       "1             6.1                     5             4000               1  \n",
       "2             5.5                     8             3300               1  \n",
       "3             5.0                     5             2630               1  \n",
       "4             5.2                     5             3000               1  "
      ]
     },
     "execution_count": 12,
     "metadata": {},
     "output_type": "execute_result"
    }
   ],
   "source": [
    "# dropped four columns\n",
    "mobiles_data.head()"
   ]
  },
  {
   "cell_type": "code",
   "execution_count": 13,
   "metadata": {},
   "outputs": [
    {
     "data": {
      "text/plain": [
       "Index(['Price in Rupees', 'Ram', 'Rom', 'Expandable_GB/TB', 'Dual_sim',\n",
       "       'Screen_in_inch', 'Secondary_Camera(MP)', 'Battery_details',\n",
       "       'Warranty(Year)'],\n",
       "      dtype='object')"
      ]
     },
     "execution_count": 13,
     "metadata": {},
     "output_type": "execute_result"
    }
   ],
   "source": [
    "mobiles_data.columns"
   ]
  },
  {
   "cell_type": "code",
   "execution_count": 14,
   "metadata": {},
   "outputs": [
    {
     "data": {
      "text/plain": [
       "9"
      ]
     },
     "execution_count": 14,
     "metadata": {},
     "output_type": "execute_result"
    }
   ],
   "source": [
    "len(mobiles_data.columns)"
   ]
  },
  {
   "cell_type": "code",
   "execution_count": 15,
   "metadata": {},
   "outputs": [],
   "source": [
    "import re\n",
    "# mobiles_data['Ram']=mobiles_data['Ram'].str.extract('(\\d+)').head()\n",
    "mobiles_data['Ram'] = mobiles_data['Ram'].apply(lambda x: re.search(r'\\d+', x).group())\n"
   ]
  },
  {
   "cell_type": "code",
   "execution_count": 16,
   "metadata": {},
   "outputs": [],
   "source": [
    "mobiles_data['Expandable_GB/TB'] = mobiles_data['Expandable_GB/TB'].apply(lambda y: re.search(r'\\d+', y).group())"
   ]
  },
  {
   "cell_type": "code",
   "execution_count": 17,
   "metadata": {},
   "outputs": [],
   "source": [
    "mobiles_data['Rom'] = mobiles_data['Rom'].str.replace('GB','')"
   ]
  },
  {
   "cell_type": "code",
   "execution_count": 18,
   "metadata": {},
   "outputs": [],
   "source": [
    "mobiles_data['Dual_sim'] = mobiles_data['Dual_sim'].str.replace('yes','1')"
   ]
  },
  {
   "cell_type": "code",
   "execution_count": 19,
   "metadata": {},
   "outputs": [
    {
     "data": {
      "text/html": [
       "<div>\n",
       "<style scoped>\n",
       "    .dataframe tbody tr th:only-of-type {\n",
       "        vertical-align: middle;\n",
       "    }\n",
       "\n",
       "    .dataframe tbody tr th {\n",
       "        vertical-align: top;\n",
       "    }\n",
       "\n",
       "    .dataframe thead th {\n",
       "        text-align: right;\n",
       "    }\n",
       "</style>\n",
       "<table border=\"1\" class=\"dataframe\">\n",
       "  <thead>\n",
       "    <tr style=\"text-align: right;\">\n",
       "      <th></th>\n",
       "      <th>Rom</th>\n",
       "    </tr>\n",
       "  </thead>\n",
       "  <tbody>\n",
       "    <tr>\n",
       "      <th>0</th>\n",
       "      <td>16</td>\n",
       "    </tr>\n",
       "    <tr>\n",
       "      <th>1</th>\n",
       "      <td>16</td>\n",
       "    </tr>\n",
       "    <tr>\n",
       "      <th>2</th>\n",
       "      <td>64</td>\n",
       "    </tr>\n",
       "    <tr>\n",
       "      <th>3</th>\n",
       "      <td>16</td>\n",
       "    </tr>\n",
       "    <tr>\n",
       "      <th>4</th>\n",
       "      <td>16</td>\n",
       "    </tr>\n",
       "  </tbody>\n",
       "</table>\n",
       "</div>"
      ],
      "text/plain": [
       "      Rom\n",
       "0   16   \n",
       "1   16   \n",
       "2   64   \n",
       "3   16   \n",
       "4   16   "
      ]
     },
     "execution_count": 19,
     "metadata": {},
     "output_type": "execute_result"
    }
   ],
   "source": [
    "# to find nan vaules\n",
    "mobiles_data.loc[:, mobiles_data.isnull().any()].head()"
   ]
  },
  {
   "cell_type": "code",
   "execution_count": 20,
   "metadata": {},
   "outputs": [],
   "source": [
    "import math"
   ]
  },
  {
   "cell_type": "code",
   "execution_count": 21,
   "metadata": {},
   "outputs": [],
   "source": [
    "Rom_median=math.floor(mobiles_data.Rom.mode())"
   ]
  },
  {
   "cell_type": "code",
   "execution_count": 22,
   "metadata": {},
   "outputs": [
    {
     "data": {
      "text/plain": [
       "64"
      ]
     },
     "execution_count": 22,
     "metadata": {},
     "output_type": "execute_result"
    }
   ],
   "source": [
    "Rom_median"
   ]
  },
  {
   "cell_type": "code",
   "execution_count": 23,
   "metadata": {},
   "outputs": [],
   "source": [
    "mobiles_data['Rom'] = mobiles_data.Rom.fillna(Rom_median)"
   ]
  },
  {
   "cell_type": "code",
   "execution_count": 24,
   "metadata": {},
   "outputs": [
    {
     "data": {
      "text/html": [
       "<div>\n",
       "<style scoped>\n",
       "    .dataframe tbody tr th:only-of-type {\n",
       "        vertical-align: middle;\n",
       "    }\n",
       "\n",
       "    .dataframe tbody tr th {\n",
       "        vertical-align: top;\n",
       "    }\n",
       "\n",
       "    .dataframe thead th {\n",
       "        text-align: right;\n",
       "    }\n",
       "</style>\n",
       "<table border=\"1\" class=\"dataframe\">\n",
       "  <thead>\n",
       "    <tr style=\"text-align: right;\">\n",
       "      <th></th>\n",
       "      <th>Price in Rupees</th>\n",
       "      <th>Ram</th>\n",
       "      <th>Rom</th>\n",
       "      <th>Expandable_GB/TB</th>\n",
       "      <th>Dual_sim</th>\n",
       "      <th>Screen_in_inch</th>\n",
       "      <th>Secondary_Camera(MP)</th>\n",
       "      <th>Battery_details</th>\n",
       "      <th>Warranty(Year)</th>\n",
       "    </tr>\n",
       "  </thead>\n",
       "  <tbody>\n",
       "    <tr>\n",
       "      <th>0</th>\n",
       "      <td>5999</td>\n",
       "      <td>2</td>\n",
       "      <td>16</td>\n",
       "      <td>256</td>\n",
       "      <td>1</td>\n",
       "      <td>6.10</td>\n",
       "      <td>5</td>\n",
       "      <td>4000</td>\n",
       "      <td>1</td>\n",
       "    </tr>\n",
       "    <tr>\n",
       "      <th>1</th>\n",
       "      <td>5999</td>\n",
       "      <td>2</td>\n",
       "      <td>16</td>\n",
       "      <td>256</td>\n",
       "      <td>1</td>\n",
       "      <td>6.10</td>\n",
       "      <td>5</td>\n",
       "      <td>4000</td>\n",
       "      <td>1</td>\n",
       "    </tr>\n",
       "    <tr>\n",
       "      <th>2</th>\n",
       "      <td>8990</td>\n",
       "      <td>3</td>\n",
       "      <td>64</td>\n",
       "      <td>256</td>\n",
       "      <td>1</td>\n",
       "      <td>5.50</td>\n",
       "      <td>8</td>\n",
       "      <td>3300</td>\n",
       "      <td>1</td>\n",
       "    </tr>\n",
       "    <tr>\n",
       "      <th>3</th>\n",
       "      <td>10000</td>\n",
       "      <td>2</td>\n",
       "      <td>16</td>\n",
       "      <td>128</td>\n",
       "      <td>1</td>\n",
       "      <td>5.00</td>\n",
       "      <td>5</td>\n",
       "      <td>2630</td>\n",
       "      <td>1</td>\n",
       "    </tr>\n",
       "    <tr>\n",
       "      <th>4</th>\n",
       "      <td>10000</td>\n",
       "      <td>3</td>\n",
       "      <td>16</td>\n",
       "      <td>256</td>\n",
       "      <td>1</td>\n",
       "      <td>5.20</td>\n",
       "      <td>5</td>\n",
       "      <td>3000</td>\n",
       "      <td>1</td>\n",
       "    </tr>\n",
       "    <tr>\n",
       "      <th>5</th>\n",
       "      <td>9800</td>\n",
       "      <td>3</td>\n",
       "      <td>16</td>\n",
       "      <td>256</td>\n",
       "      <td>1</td>\n",
       "      <td>5.20</td>\n",
       "      <td>5</td>\n",
       "      <td>3000</td>\n",
       "      <td>1</td>\n",
       "    </tr>\n",
       "    <tr>\n",
       "      <th>6</th>\n",
       "      <td>9799</td>\n",
       "      <td>3</td>\n",
       "      <td>16</td>\n",
       "      <td>256</td>\n",
       "      <td>1</td>\n",
       "      <td>5.20</td>\n",
       "      <td>5</td>\n",
       "      <td>3000</td>\n",
       "      <td>1</td>\n",
       "    </tr>\n",
       "    <tr>\n",
       "      <th>7</th>\n",
       "      <td>10000</td>\n",
       "      <td>1</td>\n",
       "      <td>16</td>\n",
       "      <td>32</td>\n",
       "      <td>1</td>\n",
       "      <td>5.00</td>\n",
       "      <td>5</td>\n",
       "      <td>2420</td>\n",
       "      <td>0</td>\n",
       "    </tr>\n",
       "    <tr>\n",
       "      <th>8</th>\n",
       "      <td>7990</td>\n",
       "      <td>2</td>\n",
       "      <td>32</td>\n",
       "      <td>256</td>\n",
       "      <td>1</td>\n",
       "      <td>6.10</td>\n",
       "      <td>5</td>\n",
       "      <td>4000</td>\n",
       "      <td>1</td>\n",
       "    </tr>\n",
       "    <tr>\n",
       "      <th>9</th>\n",
       "      <td>10990</td>\n",
       "      <td>4</td>\n",
       "      <td>64</td>\n",
       "      <td>256</td>\n",
       "      <td>1</td>\n",
       "      <td>6.20</td>\n",
       "      <td>8</td>\n",
       "      <td>4230</td>\n",
       "      <td>1</td>\n",
       "    </tr>\n",
       "    <tr>\n",
       "      <th>10</th>\n",
       "      <td>10990</td>\n",
       "      <td>4</td>\n",
       "      <td>64</td>\n",
       "      <td>256</td>\n",
       "      <td>1</td>\n",
       "      <td>6.20</td>\n",
       "      <td>8</td>\n",
       "      <td>4230</td>\n",
       "      <td>1</td>\n",
       "    </tr>\n",
       "    <tr>\n",
       "      <th>11</th>\n",
       "      <td>14990</td>\n",
       "      <td>4</td>\n",
       "      <td>64</td>\n",
       "      <td>256</td>\n",
       "      <td>1</td>\n",
       "      <td>6.41</td>\n",
       "      <td>25</td>\n",
       "      <td>3600</td>\n",
       "      <td>1</td>\n",
       "    </tr>\n",
       "    <tr>\n",
       "      <th>12</th>\n",
       "      <td>14990</td>\n",
       "      <td>4</td>\n",
       "      <td>64</td>\n",
       "      <td>256</td>\n",
       "      <td>1</td>\n",
       "      <td>6.41</td>\n",
       "      <td>25</td>\n",
       "      <td>3600</td>\n",
       "      <td>1</td>\n",
       "    </tr>\n",
       "    <tr>\n",
       "      <th>13</th>\n",
       "      <td>8990</td>\n",
       "      <td>3</td>\n",
       "      <td>64</td>\n",
       "      <td>256</td>\n",
       "      <td>1</td>\n",
       "      <td>5.50</td>\n",
       "      <td>8</td>\n",
       "      <td>3300</td>\n",
       "      <td>1</td>\n",
       "    </tr>\n",
       "    <tr>\n",
       "      <th>14</th>\n",
       "      <td>13999</td>\n",
       "      <td>4</td>\n",
       "      <td>64</td>\n",
       "      <td>256</td>\n",
       "      <td>1</td>\n",
       "      <td>6.30</td>\n",
       "      <td>13</td>\n",
       "      <td>4000</td>\n",
       "      <td>1</td>\n",
       "    </tr>\n",
       "    <tr>\n",
       "      <th>15</th>\n",
       "      <td>13999</td>\n",
       "      <td>4</td>\n",
       "      <td>64</td>\n",
       "      <td>256</td>\n",
       "      <td>1</td>\n",
       "      <td>6.30</td>\n",
       "      <td>13</td>\n",
       "      <td>4000</td>\n",
       "      <td>1</td>\n",
       "    </tr>\n",
       "    <tr>\n",
       "      <th>16</th>\n",
       "      <td>16999</td>\n",
       "      <td>6</td>\n",
       "      <td>128</td>\n",
       "      <td>256</td>\n",
       "      <td>1</td>\n",
       "      <td>6.30</td>\n",
       "      <td>13</td>\n",
       "      <td>4000</td>\n",
       "      <td>1</td>\n",
       "    </tr>\n",
       "    <tr>\n",
       "      <th>17</th>\n",
       "      <td>16999</td>\n",
       "      <td>6</td>\n",
       "      <td>128</td>\n",
       "      <td>256</td>\n",
       "      <td>1</td>\n",
       "      <td>6.30</td>\n",
       "      <td>13</td>\n",
       "      <td>4000</td>\n",
       "      <td>1</td>\n",
       "    </tr>\n",
       "    <tr>\n",
       "      <th>18</th>\n",
       "      <td>10999</td>\n",
       "      <td>4</td>\n",
       "      <td>64</td>\n",
       "      <td>256</td>\n",
       "      <td>1</td>\n",
       "      <td>6.22</td>\n",
       "      <td>13</td>\n",
       "      <td>4230</td>\n",
       "      <td>1</td>\n",
       "    </tr>\n",
       "    <tr>\n",
       "      <th>19</th>\n",
       "      <td>9999</td>\n",
       "      <td>3</td>\n",
       "      <td>64</td>\n",
       "      <td>256</td>\n",
       "      <td>1</td>\n",
       "      <td>6.22</td>\n",
       "      <td>13</td>\n",
       "      <td>4230</td>\n",
       "      <td>1</td>\n",
       "    </tr>\n",
       "  </tbody>\n",
       "</table>\n",
       "</div>"
      ],
      "text/plain": [
       "    Price in Rupees Ram      Rom Expandable_GB/TB Dual_sim  Screen_in_inch  \\\n",
       "0              5999   2    16                 256        1            6.10   \n",
       "1              5999   2    16                 256        1            6.10   \n",
       "2              8990   3    64                 256        1            5.50   \n",
       "3             10000   2    16                 128        1            5.00   \n",
       "4             10000   3    16                 256        1            5.20   \n",
       "5              9800   3    16                 256        1            5.20   \n",
       "6              9799   3    16                 256        1            5.20   \n",
       "7             10000   1    16                  32        1            5.00   \n",
       "8              7990   2    32                 256        1            6.10   \n",
       "9             10990   4    64                 256        1            6.20   \n",
       "10            10990   4    64                 256        1            6.20   \n",
       "11            14990   4    64                 256        1            6.41   \n",
       "12            14990   4    64                 256        1            6.41   \n",
       "13             8990   3    64                 256        1            5.50   \n",
       "14            13999   4    64                 256        1            6.30   \n",
       "15            13999   4    64                 256        1            6.30   \n",
       "16            16999   6   128                 256        1            6.30   \n",
       "17            16999   6   128                 256        1            6.30   \n",
       "18            10999   4    64                 256        1            6.22   \n",
       "19             9999   3    64                 256        1            6.22   \n",
       "\n",
       "    Secondary_Camera(MP)  Battery_details  Warranty(Year)  \n",
       "0                      5             4000               1  \n",
       "1                      5             4000               1  \n",
       "2                      8             3300               1  \n",
       "3                      5             2630               1  \n",
       "4                      5             3000               1  \n",
       "5                      5             3000               1  \n",
       "6                      5             3000               1  \n",
       "7                      5             2420               0  \n",
       "8                      5             4000               1  \n",
       "9                      8             4230               1  \n",
       "10                     8             4230               1  \n",
       "11                    25             3600               1  \n",
       "12                    25             3600               1  \n",
       "13                     8             3300               1  \n",
       "14                    13             4000               1  \n",
       "15                    13             4000               1  \n",
       "16                    13             4000               1  \n",
       "17                    13             4000               1  \n",
       "18                    13             4230               1  \n",
       "19                    13             4230               1  "
      ]
     },
     "execution_count": 24,
     "metadata": {},
     "output_type": "execute_result"
    }
   ],
   "source": [
    "mobiles_data.head(20)"
   ]
  },
  {
   "cell_type": "code",
   "execution_count": 25,
   "metadata": {},
   "outputs": [
    {
     "data": {
      "text/html": [
       "<div>\n",
       "<style scoped>\n",
       "    .dataframe tbody tr th:only-of-type {\n",
       "        vertical-align: middle;\n",
       "    }\n",
       "\n",
       "    .dataframe tbody tr th {\n",
       "        vertical-align: top;\n",
       "    }\n",
       "\n",
       "    .dataframe thead th {\n",
       "        text-align: right;\n",
       "    }\n",
       "</style>\n",
       "<table border=\"1\" class=\"dataframe\">\n",
       "  <thead>\n",
       "    <tr style=\"text-align: right;\">\n",
       "      <th></th>\n",
       "    </tr>\n",
       "  </thead>\n",
       "  <tbody>\n",
       "    <tr>\n",
       "      <th>0</th>\n",
       "    </tr>\n",
       "    <tr>\n",
       "      <th>1</th>\n",
       "    </tr>\n",
       "  </tbody>\n",
       "</table>\n",
       "</div>"
      ],
      "text/plain": [
       "Empty DataFrame\n",
       "Columns: []\n",
       "Index: [0, 1]"
      ]
     },
     "execution_count": 25,
     "metadata": {},
     "output_type": "execute_result"
    }
   ],
   "source": [
    "#  finding agian  nan vaules\n",
    "mobiles_data.loc[:, mobiles_data.isnull().any()].head(2) \n",
    "# no nan values,now we have clean data set."
   ]
  },
  {
   "cell_type": "code",
   "execution_count": 26,
   "metadata": {},
   "outputs": [],
   "source": [
    " mobiles_data.to_csv('clean_mobiles_dataset.csv')"
   ]
  },
  {
   "cell_type": "code",
   "execution_count": 27,
   "metadata": {},
   "outputs": [
    {
     "data": {
      "text/plain": [
       "Index(['Price in Rupees', 'Ram', 'Rom', 'Expandable_GB/TB', 'Dual_sim',\n",
       "       'Screen_in_inch', 'Secondary_Camera(MP)', 'Battery_details',\n",
       "       'Warranty(Year)'],\n",
       "      dtype='object')"
      ]
     },
     "execution_count": 27,
     "metadata": {},
     "output_type": "execute_result"
    }
   ],
   "source": [
    "mobiles_data.columns"
   ]
  },
  {
   "cell_type": "code",
   "execution_count": 28,
   "metadata": {},
   "outputs": [
    {
     "data": {
      "text/plain": [
       "Index(['Price in Rupees', 'Ram', 'Rom', 'Expandable_GB/TB', 'Dual_sim',\n",
       "       'Screen_in_inch', 'Secondary_Camera(MP)', 'Battery_details',\n",
       "       'Warranty(Year)'],\n",
       "      dtype='object')"
      ]
     },
     "execution_count": 28,
     "metadata": {},
     "output_type": "execute_result"
    }
   ],
   "source": [
    "mobiles_data.columns"
   ]
  },
  {
   "cell_type": "code",
   "execution_count": 29,
   "metadata": {},
   "outputs": [],
   "source": [
    "# Linear Regression With One Variable"
   ]
  },
  {
   "cell_type": "code",
   "execution_count": 30,
   "metadata": {},
   "outputs": [
    {
     "data": {
      "text/plain": [
       "<matplotlib.collections.PathCollection at 0x7f56002b3f98>"
      ]
     },
     "execution_count": 30,
     "metadata": {},
     "output_type": "execute_result"
    },
    {
     "data": {
      "image/png": "[encoded data removed]",
      "text/plain": [
       "<Figure size 432x288 with 1 Axes>"
      ]
     },
     "metadata": {
      "needs_background": "light"
     },
     "output_type": "display_data"
    }
   ],
   "source": [
    "plt.xlabel('Ram')\n",
    "plt.ylabel('price')\n",
    "plt.scatter(mobiles_data['Ram'],mobiles_data['Price in Rupees'],color='red',marker='+')"
   ]
  },
  {
   "cell_type": "code",
   "execution_count": 31,
   "metadata": {},
   "outputs": [],
   "source": [
    "from sklearn import linear_model"
   ]
  },
  {
   "cell_type": "code",
   "execution_count": 35,
   "metadata": {},
   "outputs": [
    {
     "data": {
      "text/plain": [
       "LinearRegression(copy_X=True, fit_intercept=True, n_jobs=None, normalize=False)"
      ]
     },
     "execution_count": 35,
     "metadata": {},
     "output_type": "execute_result"
    }
   ],
   "source": [
    "# Create linear regression object\n",
    "lr_model = linear_model.LinearRegression()\n",
    "lr_model.fit(mobiles_data[['Ram']],mobiles_data['Price in Rupees'])"
   ]
  },
  {
   "cell_type": "code",
   "execution_count": 52,
   "metadata": {},
   "outputs": [],
   "source": [
    "# predicting price based on Ram feature.\n",
    "prediction_price=lr_model.predict([[4]])  "
   ]
  },
  {
   "cell_type": "code",
   "execution_count": 53,
   "metadata": {},
   "outputs": [
    {
     "data": {
      "text/plain": [
       "array([12742.77015073])"
      ]
     },
     "execution_count": 53,
     "metadata": {},
     "output_type": "execute_result"
    }
   ],
   "source": [
    "prediction_price"
   ]
  },
  {
   "cell_type": "code",
   "execution_count": 38,
   "metadata": {},
   "outputs": [
    {
     "data": {
      "text/plain": [
       "array([970.85825558])"
      ]
     },
     "execution_count": 38,
     "metadata": {},
     "output_type": "execute_result"
    }
   ],
   "source": [
    "lr_model.coef_"
   ]
  },
  {
   "cell_type": "code",
   "execution_count": 39,
   "metadata": {},
   "outputs": [
    {
     "data": {
      "text/plain": [
       "8859.337128409108"
      ]
     },
     "execution_count": 39,
     "metadata": {},
     "output_type": "execute_result"
    }
   ],
   "source": [
    "lr_model.intercept_"
   ]
  },
  {
   "cell_type": "code",
   "execution_count": 40,
   "metadata": {},
   "outputs": [],
   "source": [
    "# y = mx+b"
   ]
  },
  {
   "cell_type": "code",
   "execution_count": 41,
   "metadata": {},
   "outputs": [
    {
     "data": {
      "text/plain": [
       "11771.911895149107"
      ]
     },
     "execution_count": 41,
     "metadata": {},
     "output_type": "execute_result"
    }
   ],
   "source": [
    "970.85825558*3+8859.337128409108"
   ]
  },
  {
   "cell_type": "code",
   "execution_count": null,
   "metadata": {},
   "outputs": [],
   "source": []
  },
  {
   "cell_type": "code",
   "execution_count": 42,
   "metadata": {},
   "outputs": [],
   "source": [
    "# Save Model To a File Using Python Pickle\n",
    "import pickle"
   ]
  },
  {
   "cell_type": "code",
   "execution_count": 43,
   "metadata": {},
   "outputs": [],
   "source": [
    "with open('model_pickle','wb') as file:\n",
    "    pickle.dump(lr_model,file)"
   ]
  },
  {
   "cell_type": "code",
   "execution_count": 44,
   "metadata": {},
   "outputs": [],
   "source": [
    "# Load Saved Model\n",
    "\n",
    "with open('model_pickle','rb') as file:\n",
    "    mp = pickle.load(file)"
   ]
  },
  {
   "cell_type": "code",
   "execution_count": 45,
   "metadata": {},
   "outputs": [
    {
     "data": {
      "text/plain": [
       "array([11771.91189515])"
      ]
     },
     "execution_count": 45,
     "metadata": {},
     "output_type": "execute_result"
    }
   ],
   "source": [
    "mp.predict([[3]])"
   ]
  },
  {
   "cell_type": "code",
   "execution_count": 46,
   "metadata": {},
   "outputs": [
    {
     "data": {
      "text/plain": [
       "array([970.85825558])"
      ]
     },
     "execution_count": 46,
     "metadata": {},
     "output_type": "execute_result"
    }
   ],
   "source": [
    "mp.coef_"
   ]
  },
  {
   "cell_type": "code",
   "execution_count": 47,
   "metadata": {},
   "outputs": [],
   "source": [
    "# Save Trained Model Using joblib\n",
    "from sklearn.externals import joblib"
   ]
  },
  {
   "cell_type": "code",
   "execution_count": 48,
   "metadata": {},
   "outputs": [
    {
     "data": {
      "text/plain": [
       "['model_joblib']"
      ]
     },
     "execution_count": 48,
     "metadata": {},
     "output_type": "execute_result"
    }
   ],
   "source": [
    "joblib.dump(lr_model, 'model_joblib')"
   ]
  },
  {
   "cell_type": "code",
   "execution_count": 49,
   "metadata": {},
   "outputs": [],
   "source": [
    "#Load Saved Model\n",
    "mj = joblib.load('model_joblib')"
   ]
  },
  {
   "cell_type": "code",
   "execution_count": 54,
   "metadata": {},
   "outputs": [
    {
     "data": {
      "text/plain": [
       "array([12742.77015073])"
      ]
     },
     "execution_count": 54,
     "metadata": {},
     "output_type": "execute_result"
    }
   ],
   "source": [
    "mj.predict([[4]])"
   ]
  },
  {
   "cell_type": "code",
   "execution_count": null,
   "metadata": {},
   "outputs": [],
   "source": []
  }
 ],
 "metadata": {
  "kernelspec": {
   "display_name": "Python 3",
   "language": "python",
   "name": "python3"
  },
  "language_info": {
   "codemirror_mode": {
    "name": "ipython",
    "version": 3
   },
   "file_extension": ".py",
   "mimetype": "text/x-python",
   "name": "python",
   "nbconvert_exporter": "python",
   "pygments_lexer": "ipython3",
   "version": "3.6.8"
  }
 },
 "nbformat": 4,
 "nbformat_minor": 2
}
