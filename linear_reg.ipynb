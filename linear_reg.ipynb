{
 "cells": [
  {
   "cell_type": "code",
   "execution_count": 1,
   "metadata": {},
   "outputs": [],
   "source": [
    "import pandas as pd\n",
    "import matplotlib.pyplot as plt\n",
    "import numpy as np\n",
    "from sklearn.model_selection import train_test_split\n",
    "import seaborn as sns\n",
    "%matplotlib inline"
   ]
  },
  {
   "cell_type": "code",
   "execution_count": 2,
   "metadata": {},
   "outputs": [],
   "source": [
    "mobiles_data_info = pd.read_csv('final_mobile_data.csv')"
   ]
  },
  {
   "cell_type": "code",
   "execution_count": 3,
   "metadata": {},
   "outputs": [
    {
     "data": {
      "text/plain": [
       "Index(['Price_in_Rupees', 'Ram', 'Rom', 'Expandable_GB/TB', 'Screen_in_inch',\n",
       "       'Secondary_Camera(MP)', 'Battery_details', 'Warranty(Year)', 'Rating',\n",
       "       'Dual_sim_num'],\n",
       "      dtype='object')"
      ]
     },
     "execution_count": 3,
     "metadata": {},
     "output_type": "execute_result"
    }
   ],
   "source": [
    "#  mobiles_data_info.drop(mobiles_data_info.columns[8], axis=1, inplace=True)\n",
    "mobiles_data_info.columns"
   ]
  },
  {
   "cell_type": "code",
   "execution_count": 4,
   "metadata": {},
   "outputs": [
    {
     "data": {
      "text/plain": [
       "7999     42\n",
       "8999     36\n",
       "10999    27\n",
       "7990     25\n",
       "9999     23\n",
       "         ..\n",
       "8749      1\n",
       "5699      1\n",
       "9800      1\n",
       "11849     1\n",
       "11275     1\n",
       "Name: Price_in_Rupees, Length: 154, dtype: int64"
      ]
     },
     "execution_count": 4,
     "metadata": {},
     "output_type": "execute_result"
    }
   ],
   "source": [
    "mobiles_data_info[\"Price_in_Rupees\"].value_counts()"
   ]
  },
  {
   "cell_type": "code",
   "execution_count": 5,
   "metadata": {},
   "outputs": [
    {
     "data": {
      "text/plain": [
       "['Price_in_Rupees',\n",
       " 'Ram',\n",
       " 'Rom',\n",
       " 'Expandable_GB/TB',\n",
       " 'Screen_in_inch',\n",
       " 'Secondary_Camera(MP)',\n",
       " 'Battery_details',\n",
       " 'Warranty(Year)',\n",
       " 'Rating',\n",
       " 'Dual_sim_num']"
      ]
     },
     "execution_count": 5,
     "metadata": {},
     "output_type": "execute_result"
    }
   ],
   "source": [
    "column_names = mobiles_data_info.columns.tolist()\n",
    "column_names"
   ]
  },
  {
   "cell_type": "code",
   "execution_count": 6,
   "metadata": {},
   "outputs": [
    {
     "name": "stdout",
     "output_type": "stream",
     "text": [
      "<class 'pandas.core.frame.DataFrame'>\n",
      "RangeIndex: 696 entries, 0 to 695\n",
      "Data columns (total 10 columns):\n",
      "Price_in_Rupees         696 non-null int64\n",
      "Ram                     696 non-null int64\n",
      "Rom                     696 non-null int64\n",
      "Expandable_GB/TB        696 non-null int64\n",
      "Screen_in_inch          696 non-null float64\n",
      "Secondary_Camera(MP)    696 non-null int64\n",
      "Battery_details         696 non-null int64\n",
      "Warranty(Year)          696 non-null int64\n",
      "Rating                  696 non-null float64\n",
      "Dual_sim_num            696 non-null int64\n",
      "dtypes: float64(2), int64(8)\n",
      "memory usage: 54.5 KB\n"
     ]
    }
   ],
   "source": [
    "mobiles_data_info.info()"
   ]
  },
  {
   "cell_type": "code",
   "execution_count": 7,
   "metadata": {},
   "outputs": [
    {
     "data": {
      "text/html": [
       "<div>\n",
       "<style scoped>\n",
       "    .dataframe tbody tr th:only-of-type {\n",
       "        vertical-align: middle;\n",
       "    }\n",
       "\n",
       "    .dataframe tbody tr th {\n",
       "        vertical-align: top;\n",
       "    }\n",
       "\n",
       "    .dataframe thead th {\n",
       "        text-align: right;\n",
       "    }\n",
       "</style>\n",
       "<table border=\"1\" class=\"dataframe\">\n",
       "  <thead>\n",
       "    <tr style=\"text-align: right;\">\n",
       "      <th></th>\n",
       "      <th>Price_in_Rupees</th>\n",
       "      <th>Ram</th>\n",
       "      <th>Rom</th>\n",
       "      <th>Expandable_GB/TB</th>\n",
       "      <th>Screen_in_inch</th>\n",
       "      <th>Secondary_Camera(MP)</th>\n",
       "      <th>Battery_details</th>\n",
       "      <th>Warranty(Year)</th>\n",
       "      <th>Rating</th>\n",
       "      <th>Dual_sim_num</th>\n",
       "    </tr>\n",
       "  </thead>\n",
       "  <tbody>\n",
       "    <tr>\n",
       "      <th>count</th>\n",
       "      <td>696.000000</td>\n",
       "      <td>696.000000</td>\n",
       "      <td>696.000000</td>\n",
       "      <td>696.000000</td>\n",
       "      <td>696.000000</td>\n",
       "      <td>696.000000</td>\n",
       "      <td>696.000000</td>\n",
       "      <td>696.0</td>\n",
       "      <td>696.000000</td>\n",
       "      <td>696.0</td>\n",
       "    </tr>\n",
       "    <tr>\n",
       "      <th>mean</th>\n",
       "      <td>12890.630747</td>\n",
       "      <td>4.172414</td>\n",
       "      <td>49.719828</td>\n",
       "      <td>215.202586</td>\n",
       "      <td>5.822284</td>\n",
       "      <td>10.847701</td>\n",
       "      <td>3517.564655</td>\n",
       "      <td>1.0</td>\n",
       "      <td>4.274425</td>\n",
       "      <td>1.0</td>\n",
       "    </tr>\n",
       "    <tr>\n",
       "      <th>std</th>\n",
       "      <td>9477.931826</td>\n",
       "      <td>5.457924</td>\n",
       "      <td>35.397158</td>\n",
       "      <td>112.435679</td>\n",
       "      <td>0.572944</td>\n",
       "      <td>7.139500</td>\n",
       "      <td>748.647891</td>\n",
       "      <td>0.0</td>\n",
       "      <td>0.266133</td>\n",
       "      <td>0.0</td>\n",
       "    </tr>\n",
       "    <tr>\n",
       "      <th>min</th>\n",
       "      <td>599.000000</td>\n",
       "      <td>1.000000</td>\n",
       "      <td>4.000000</td>\n",
       "      <td>2.000000</td>\n",
       "      <td>1.800000</td>\n",
       "      <td>0.000000</td>\n",
       "      <td>850.000000</td>\n",
       "      <td>1.0</td>\n",
       "      <td>3.000000</td>\n",
       "      <td>1.0</td>\n",
       "    </tr>\n",
       "    <tr>\n",
       "      <th>25%</th>\n",
       "      <td>6999.000000</td>\n",
       "      <td>2.000000</td>\n",
       "      <td>32.000000</td>\n",
       "      <td>128.000000</td>\n",
       "      <td>5.450000</td>\n",
       "      <td>5.000000</td>\n",
       "      <td>3000.000000</td>\n",
       "      <td>1.0</td>\n",
       "      <td>4.100000</td>\n",
       "      <td>1.0</td>\n",
       "    </tr>\n",
       "    <tr>\n",
       "      <th>50%</th>\n",
       "      <td>9799.000000</td>\n",
       "      <td>3.000000</td>\n",
       "      <td>32.000000</td>\n",
       "      <td>256.000000</td>\n",
       "      <td>6.000000</td>\n",
       "      <td>8.000000</td>\n",
       "      <td>3500.000000</td>\n",
       "      <td>1.0</td>\n",
       "      <td>4.350000</td>\n",
       "      <td>1.0</td>\n",
       "    </tr>\n",
       "    <tr>\n",
       "      <th>75%</th>\n",
       "      <td>15490.000000</td>\n",
       "      <td>4.000000</td>\n",
       "      <td>64.000000</td>\n",
       "      <td>256.000000</td>\n",
       "      <td>6.270000</td>\n",
       "      <td>16.000000</td>\n",
       "      <td>4000.000000</td>\n",
       "      <td>1.0</td>\n",
       "      <td>4.400000</td>\n",
       "      <td>1.0</td>\n",
       "    </tr>\n",
       "    <tr>\n",
       "      <th>max</th>\n",
       "      <td>59999.000000</td>\n",
       "      <td>64.000000</td>\n",
       "      <td>256.000000</td>\n",
       "      <td>512.000000</td>\n",
       "      <td>6.700000</td>\n",
       "      <td>48.000000</td>\n",
       "      <td>5100.000000</td>\n",
       "      <td>1.0</td>\n",
       "      <td>5.000000</td>\n",
       "      <td>1.0</td>\n",
       "    </tr>\n",
       "  </tbody>\n",
       "</table>\n",
       "</div>"
      ],
      "text/plain": [
       "       Price_in_Rupees         Ram         Rom  Expandable_GB/TB  \\\n",
       "count       696.000000  696.000000  696.000000        696.000000   \n",
       "mean      12890.630747    4.172414   49.719828        215.202586   \n",
       "std        9477.931826    5.457924   35.397158        112.435679   \n",
       "min         599.000000    1.000000    4.000000          2.000000   \n",
       "25%        6999.000000    2.000000   32.000000        128.000000   \n",
       "50%        9799.000000    3.000000   32.000000        256.000000   \n",
       "75%       15490.000000    4.000000   64.000000        256.000000   \n",
       "max       59999.000000   64.000000  256.000000        512.000000   \n",
       "\n",
       "       Screen_in_inch  Secondary_Camera(MP)  Battery_details  Warranty(Year)  \\\n",
       "count      696.000000            696.000000       696.000000           696.0   \n",
       "mean         5.822284             10.847701      3517.564655             1.0   \n",
       "std          0.572944              7.139500       748.647891             0.0   \n",
       "min          1.800000              0.000000       850.000000             1.0   \n",
       "25%          5.450000              5.000000      3000.000000             1.0   \n",
       "50%          6.000000              8.000000      3500.000000             1.0   \n",
       "75%          6.270000             16.000000      4000.000000             1.0   \n",
       "max          6.700000             48.000000      5100.000000             1.0   \n",
       "\n",
       "           Rating  Dual_sim_num  \n",
       "count  696.000000         696.0  \n",
       "mean     4.274425           1.0  \n",
       "std      0.266133           0.0  \n",
       "min      3.000000           1.0  \n",
       "25%      4.100000           1.0  \n",
       "50%      4.350000           1.0  \n",
       "75%      4.400000           1.0  \n",
       "max      5.000000           1.0  "
      ]
     },
     "execution_count": 7,
     "metadata": {},
     "output_type": "execute_result"
    }
   ],
   "source": [
    "mobiles_data_info.describe()"
   ]
  },
  {
   "cell_type": "code",
   "execution_count": 8,
   "metadata": {},
   "outputs": [
    {
     "data": {
      "image/png": "[encoded data removed]",
      "text/plain": [
       "<Figure size 1440x1440 with 12 Axes>"
      ]
     },
     "metadata": {
      "needs_background": "light"
     },
     "output_type": "display_data"
    }
   ],
   "source": [
    "mobiles_data_info.hist(bins=50, figsize=(20, 20))\n",
    "plt.show()"
   ]
  },
  {
   "cell_type": "code",
   "execution_count": 9,
   "metadata": {},
   "outputs": [
    {
     "data": {
      "text/html": [
       "<div>\n",
       "<style scoped>\n",
       "    .dataframe tbody tr th:only-of-type {\n",
       "        vertical-align: middle;\n",
       "    }\n",
       "\n",
       "    .dataframe tbody tr th {\n",
       "        vertical-align: top;\n",
       "    }\n",
       "\n",
       "    .dataframe thead th {\n",
       "        text-align: right;\n",
       "    }\n",
       "</style>\n",
       "<table border=\"1\" class=\"dataframe\">\n",
       "  <thead>\n",
       "    <tr style=\"text-align: right;\">\n",
       "      <th></th>\n",
       "      <th>Price_in_Rupees</th>\n",
       "      <th>Ram</th>\n",
       "      <th>Rom</th>\n",
       "      <th>Expandable_GB/TB</th>\n",
       "      <th>Screen_in_inch</th>\n",
       "      <th>Secondary_Camera(MP)</th>\n",
       "      <th>Battery_details</th>\n",
       "      <th>Warranty(Year)</th>\n",
       "      <th>Rating</th>\n",
       "      <th>Dual_sim_num</th>\n",
       "    </tr>\n",
       "  </thead>\n",
       "  <tbody>\n",
       "    <tr>\n",
       "      <th>691</th>\n",
       "      <td>39999</td>\n",
       "      <td>3</td>\n",
       "      <td>32</td>\n",
       "      <td>128</td>\n",
       "      <td>5.2</td>\n",
       "      <td>8</td>\n",
       "      <td>3000</td>\n",
       "      <td>1</td>\n",
       "      <td>4.5</td>\n",
       "      <td>1</td>\n",
       "    </tr>\n",
       "    <tr>\n",
       "      <th>692</th>\n",
       "      <td>39999</td>\n",
       "      <td>3</td>\n",
       "      <td>32</td>\n",
       "      <td>128</td>\n",
       "      <td>5.2</td>\n",
       "      <td>8</td>\n",
       "      <td>3000</td>\n",
       "      <td>1</td>\n",
       "      <td>4.5</td>\n",
       "      <td>1</td>\n",
       "    </tr>\n",
       "    <tr>\n",
       "      <th>693</th>\n",
       "      <td>29990</td>\n",
       "      <td>8</td>\n",
       "      <td>128</td>\n",
       "      <td>256</td>\n",
       "      <td>6.4</td>\n",
       "      <td>25</td>\n",
       "      <td>3700</td>\n",
       "      <td>1</td>\n",
       "      <td>4.4</td>\n",
       "      <td>1</td>\n",
       "    </tr>\n",
       "    <tr>\n",
       "      <th>694</th>\n",
       "      <td>36990</td>\n",
       "      <td>6</td>\n",
       "      <td>64</td>\n",
       "      <td>256</td>\n",
       "      <td>6.3</td>\n",
       "      <td>8</td>\n",
       "      <td>3300</td>\n",
       "      <td>1</td>\n",
       "      <td>4.6</td>\n",
       "      <td>1</td>\n",
       "    </tr>\n",
       "    <tr>\n",
       "      <th>695</th>\n",
       "      <td>36990</td>\n",
       "      <td>6</td>\n",
       "      <td>64</td>\n",
       "      <td>256</td>\n",
       "      <td>6.3</td>\n",
       "      <td>8</td>\n",
       "      <td>3300</td>\n",
       "      <td>1</td>\n",
       "      <td>4.6</td>\n",
       "      <td>1</td>\n",
       "    </tr>\n",
       "  </tbody>\n",
       "</table>\n",
       "</div>"
      ],
      "text/plain": [
       "     Price_in_Rupees  Ram  Rom  Expandable_GB/TB  Screen_in_inch  \\\n",
       "691            39999    3   32               128             5.2   \n",
       "692            39999    3   32               128             5.2   \n",
       "693            29990    8  128               256             6.4   \n",
       "694            36990    6   64               256             6.3   \n",
       "695            36990    6   64               256             6.3   \n",
       "\n",
       "     Secondary_Camera(MP)  Battery_details  Warranty(Year)  Rating  \\\n",
       "691                     8             3000               1     4.5   \n",
       "692                     8             3000               1     4.5   \n",
       "693                    25             3700               1     4.4   \n",
       "694                     8             3300               1     4.6   \n",
       "695                     8             3300               1     4.6   \n",
       "\n",
       "     Dual_sim_num  \n",
       "691             1  \n",
       "692             1  \n",
       "693             1  \n",
       "694             1  \n",
       "695             1  "
      ]
     },
     "execution_count": 9,
     "metadata": {},
     "output_type": "execute_result"
    }
   ],
   "source": [
    "mobiles_data_info.tail()"
   ]
  },
  {
   "cell_type": "code",
   "execution_count": 10,
   "metadata": {},
   "outputs": [
    {
     "data": {
      "text/plain": [
       "Index(['Price_in_Rupees', 'Ram', 'Rom', 'Expandable_GB/TB', 'Screen_in_inch',\n",
       "       'Secondary_Camera(MP)', 'Battery_details', 'Warranty(Year)', 'Rating',\n",
       "       'Dual_sim_num'],\n",
       "      dtype='object')"
      ]
     },
     "execution_count": 10,
     "metadata": {},
     "output_type": "execute_result"
    }
   ],
   "source": [
    "mobiles_data_info.columns"
   ]
  },
  {
   "cell_type": "code",
   "execution_count": 11,
   "metadata": {},
   "outputs": [],
   "source": [
    "x = mobiles_data_info[['Ram','Rom','Expandable_GB/TB','Screen_in_inch',\n",
    "                       'Secondary_Camera(MP)','Battery_details','Warranty(Year)','Rating','Dual_sim_num']].values\n",
    "y = mobiles_data_info.Price_in_Rupees.values"
   ]
  },
  {
   "cell_type": "code",
   "execution_count": 12,
   "metadata": {},
   "outputs": [],
   "source": [
    "# mobiles_data_info.drop(mobiles_data_info.columns[0], axis=1, inplace=True)"
   ]
  },
  {
   "cell_type": "code",
   "execution_count": 13,
   "metadata": {},
   "outputs": [
    {
     "data": {
      "text/html": [
       "<div>\n",
       "<style scoped>\n",
       "    .dataframe tbody tr th:only-of-type {\n",
       "        vertical-align: middle;\n",
       "    }\n",
       "\n",
       "    .dataframe tbody tr th {\n",
       "        vertical-align: top;\n",
       "    }\n",
       "\n",
       "    .dataframe thead th {\n",
       "        text-align: right;\n",
       "    }\n",
       "</style>\n",
       "<table border=\"1\" class=\"dataframe\">\n",
       "  <thead>\n",
       "    <tr style=\"text-align: right;\">\n",
       "      <th></th>\n",
       "      <th>Price_in_Rupees</th>\n",
       "      <th>Ram</th>\n",
       "      <th>Rom</th>\n",
       "      <th>Expandable_GB/TB</th>\n",
       "      <th>Screen_in_inch</th>\n",
       "      <th>Secondary_Camera(MP)</th>\n",
       "      <th>Battery_details</th>\n",
       "      <th>Warranty(Year)</th>\n",
       "      <th>Rating</th>\n",
       "      <th>Dual_sim_num</th>\n",
       "    </tr>\n",
       "  </thead>\n",
       "  <tbody>\n",
       "    <tr>\n",
       "      <th>0</th>\n",
       "      <td>5999</td>\n",
       "      <td>2</td>\n",
       "      <td>16</td>\n",
       "      <td>256</td>\n",
       "      <td>6.1</td>\n",
       "      <td>5</td>\n",
       "      <td>4000</td>\n",
       "      <td>1</td>\n",
       "      <td>4.5</td>\n",
       "      <td>1</td>\n",
       "    </tr>\n",
       "    <tr>\n",
       "      <th>1</th>\n",
       "      <td>5999</td>\n",
       "      <td>2</td>\n",
       "      <td>16</td>\n",
       "      <td>256</td>\n",
       "      <td>6.1</td>\n",
       "      <td>5</td>\n",
       "      <td>4000</td>\n",
       "      <td>1</td>\n",
       "      <td>4.5</td>\n",
       "      <td>1</td>\n",
       "    </tr>\n",
       "    <tr>\n",
       "      <th>2</th>\n",
       "      <td>8990</td>\n",
       "      <td>3</td>\n",
       "      <td>64</td>\n",
       "      <td>256</td>\n",
       "      <td>5.5</td>\n",
       "      <td>8</td>\n",
       "      <td>3300</td>\n",
       "      <td>1</td>\n",
       "      <td>4.3</td>\n",
       "      <td>1</td>\n",
       "    </tr>\n",
       "    <tr>\n",
       "      <th>3</th>\n",
       "      <td>10000</td>\n",
       "      <td>2</td>\n",
       "      <td>16</td>\n",
       "      <td>128</td>\n",
       "      <td>5.0</td>\n",
       "      <td>5</td>\n",
       "      <td>2630</td>\n",
       "      <td>1</td>\n",
       "      <td>4.2</td>\n",
       "      <td>1</td>\n",
       "    </tr>\n",
       "    <tr>\n",
       "      <th>4</th>\n",
       "      <td>10000</td>\n",
       "      <td>3</td>\n",
       "      <td>16</td>\n",
       "      <td>256</td>\n",
       "      <td>5.2</td>\n",
       "      <td>5</td>\n",
       "      <td>3000</td>\n",
       "      <td>1</td>\n",
       "      <td>4.2</td>\n",
       "      <td>1</td>\n",
       "    </tr>\n",
       "  </tbody>\n",
       "</table>\n",
       "</div>"
      ],
      "text/plain": [
       "   Price_in_Rupees  Ram  Rom  Expandable_GB/TB  Screen_in_inch  \\\n",
       "0             5999    2   16               256             6.1   \n",
       "1             5999    2   16               256             6.1   \n",
       "2             8990    3   64               256             5.5   \n",
       "3            10000    2   16               128             5.0   \n",
       "4            10000    3   16               256             5.2   \n",
       "\n",
       "   Secondary_Camera(MP)  Battery_details  Warranty(Year)  Rating  Dual_sim_num  \n",
       "0                     5             4000               1     4.5             1  \n",
       "1                     5             4000               1     4.5             1  \n",
       "2                     8             3300               1     4.3             1  \n",
       "3                     5             2630               1     4.2             1  \n",
       "4                     5             3000               1     4.2             1  "
      ]
     },
     "execution_count": 13,
     "metadata": {},
     "output_type": "execute_result"
    }
   ],
   "source": [
    "mobiles_data_info.head()"
   ]
  },
  {
   "cell_type": "code",
   "execution_count": 14,
   "metadata": {},
   "outputs": [
    {
     "data": {
      "text/plain": [
       "Price_in_Rupees         False\n",
       "Ram                     False\n",
       "Rom                     False\n",
       "Expandable_GB/TB        False\n",
       "Screen_in_inch          False\n",
       "Secondary_Camera(MP)    False\n",
       "Battery_details         False\n",
       "Warranty(Year)          False\n",
       "Rating                  False\n",
       "Dual_sim_num            False\n",
       "dtype: bool"
      ]
     },
     "execution_count": 14,
     "metadata": {},
     "output_type": "execute_result"
    }
   ],
   "source": [
    "mobiles_data_info.isnull().any()"
   ]
  },
  {
   "cell_type": "code",
   "execution_count": 15,
   "metadata": {},
   "outputs": [
    {
     "data": {
      "text/html": [
       "<div>\n",
       "<style scoped>\n",
       "    .dataframe tbody tr th:only-of-type {\n",
       "        vertical-align: middle;\n",
       "    }\n",
       "\n",
       "    .dataframe tbody tr th {\n",
       "        vertical-align: top;\n",
       "    }\n",
       "\n",
       "    .dataframe thead th {\n",
       "        text-align: right;\n",
       "    }\n",
       "</style>\n",
       "<table border=\"1\" class=\"dataframe\">\n",
       "  <thead>\n",
       "    <tr style=\"text-align: right;\">\n",
       "      <th></th>\n",
       "      <th>Price_in_Rupees</th>\n",
       "      <th>Ram</th>\n",
       "      <th>Rom</th>\n",
       "      <th>Expandable_GB/TB</th>\n",
       "      <th>Screen_in_inch</th>\n",
       "      <th>Secondary_Camera(MP)</th>\n",
       "      <th>Battery_details</th>\n",
       "      <th>Warranty(Year)</th>\n",
       "      <th>Rating</th>\n",
       "      <th>Dual_sim_num</th>\n",
       "    </tr>\n",
       "  </thead>\n",
       "  <tbody>\n",
       "    <tr>\n",
       "      <th>0</th>\n",
       "      <td>5999</td>\n",
       "      <td>2</td>\n",
       "      <td>16</td>\n",
       "      <td>256</td>\n",
       "      <td>6.1</td>\n",
       "      <td>5</td>\n",
       "      <td>4000</td>\n",
       "      <td>1</td>\n",
       "      <td>4.5</td>\n",
       "      <td>1</td>\n",
       "    </tr>\n",
       "    <tr>\n",
       "      <th>1</th>\n",
       "      <td>5999</td>\n",
       "      <td>2</td>\n",
       "      <td>16</td>\n",
       "      <td>256</td>\n",
       "      <td>6.1</td>\n",
       "      <td>5</td>\n",
       "      <td>4000</td>\n",
       "      <td>1</td>\n",
       "      <td>4.5</td>\n",
       "      <td>1</td>\n",
       "    </tr>\n",
       "    <tr>\n",
       "      <th>2</th>\n",
       "      <td>8990</td>\n",
       "      <td>3</td>\n",
       "      <td>64</td>\n",
       "      <td>256</td>\n",
       "      <td>5.5</td>\n",
       "      <td>8</td>\n",
       "      <td>3300</td>\n",
       "      <td>1</td>\n",
       "      <td>4.3</td>\n",
       "      <td>1</td>\n",
       "    </tr>\n",
       "    <tr>\n",
       "      <th>3</th>\n",
       "      <td>10000</td>\n",
       "      <td>2</td>\n",
       "      <td>16</td>\n",
       "      <td>128</td>\n",
       "      <td>5.0</td>\n",
       "      <td>5</td>\n",
       "      <td>2630</td>\n",
       "      <td>1</td>\n",
       "      <td>4.2</td>\n",
       "      <td>1</td>\n",
       "    </tr>\n",
       "    <tr>\n",
       "      <th>4</th>\n",
       "      <td>10000</td>\n",
       "      <td>3</td>\n",
       "      <td>16</td>\n",
       "      <td>256</td>\n",
       "      <td>5.2</td>\n",
       "      <td>5</td>\n",
       "      <td>3000</td>\n",
       "      <td>1</td>\n",
       "      <td>4.2</td>\n",
       "      <td>1</td>\n",
       "    </tr>\n",
       "    <tr>\n",
       "      <th>5</th>\n",
       "      <td>9800</td>\n",
       "      <td>3</td>\n",
       "      <td>16</td>\n",
       "      <td>256</td>\n",
       "      <td>5.2</td>\n",
       "      <td>5</td>\n",
       "      <td>3000</td>\n",
       "      <td>1</td>\n",
       "      <td>4.2</td>\n",
       "      <td>1</td>\n",
       "    </tr>\n",
       "    <tr>\n",
       "      <th>6</th>\n",
       "      <td>9799</td>\n",
       "      <td>3</td>\n",
       "      <td>16</td>\n",
       "      <td>256</td>\n",
       "      <td>5.2</td>\n",
       "      <td>5</td>\n",
       "      <td>3000</td>\n",
       "      <td>1</td>\n",
       "      <td>4.4</td>\n",
       "      <td>1</td>\n",
       "    </tr>\n",
       "    <tr>\n",
       "      <th>7</th>\n",
       "      <td>10000</td>\n",
       "      <td>1</td>\n",
       "      <td>16</td>\n",
       "      <td>32</td>\n",
       "      <td>5.0</td>\n",
       "      <td>5</td>\n",
       "      <td>2420</td>\n",
       "      <td>1</td>\n",
       "      <td>3.8</td>\n",
       "      <td>1</td>\n",
       "    </tr>\n",
       "    <tr>\n",
       "      <th>8</th>\n",
       "      <td>7990</td>\n",
       "      <td>2</td>\n",
       "      <td>32</td>\n",
       "      <td>256</td>\n",
       "      <td>6.1</td>\n",
       "      <td>5</td>\n",
       "      <td>4000</td>\n",
       "      <td>1</td>\n",
       "      <td>4.4</td>\n",
       "      <td>1</td>\n",
       "    </tr>\n",
       "    <tr>\n",
       "      <th>9</th>\n",
       "      <td>10990</td>\n",
       "      <td>4</td>\n",
       "      <td>64</td>\n",
       "      <td>256</td>\n",
       "      <td>6.2</td>\n",
       "      <td>8</td>\n",
       "      <td>4230</td>\n",
       "      <td>1</td>\n",
       "      <td>4.3</td>\n",
       "      <td>1</td>\n",
       "    </tr>\n",
       "  </tbody>\n",
       "</table>\n",
       "</div>"
      ],
      "text/plain": [
       "   Price_in_Rupees  Ram  Rom  Expandable_GB/TB  Screen_in_inch  \\\n",
       "0             5999    2   16               256             6.1   \n",
       "1             5999    2   16               256             6.1   \n",
       "2             8990    3   64               256             5.5   \n",
       "3            10000    2   16               128             5.0   \n",
       "4            10000    3   16               256             5.2   \n",
       "5             9800    3   16               256             5.2   \n",
       "6             9799    3   16               256             5.2   \n",
       "7            10000    1   16                32             5.0   \n",
       "8             7990    2   32               256             6.1   \n",
       "9            10990    4   64               256             6.2   \n",
       "\n",
       "   Secondary_Camera(MP)  Battery_details  Warranty(Year)  Rating  Dual_sim_num  \n",
       "0                     5             4000               1     4.5             1  \n",
       "1                     5             4000               1     4.5             1  \n",
       "2                     8             3300               1     4.3             1  \n",
       "3                     5             2630               1     4.2             1  \n",
       "4                     5             3000               1     4.2             1  \n",
       "5                     5             3000               1     4.2             1  \n",
       "6                     5             3000               1     4.4             1  \n",
       "7                     5             2420               1     3.8             1  \n",
       "8                     5             4000               1     4.4             1  \n",
       "9                     8             4230               1     4.3             1  "
      ]
     },
     "execution_count": 15,
     "metadata": {},
     "output_type": "execute_result"
    }
   ],
   "source": [
    "mobiles_data_info.head(10)"
   ]
  },
  {
   "cell_type": "code",
   "execution_count": 16,
   "metadata": {},
   "outputs": [
    {
     "data": {
      "text/plain": [
       "<matplotlib.axes._subplots.AxesSubplot at 0x7f8a710a5208>"
      ]
     },
     "execution_count": 16,
     "metadata": {},
     "output_type": "execute_result"
    },
    {
     "data": {
      "image/png": "[encoded data removed]",
      "text/plain": [
       "<Figure size 1080x720 with 1 Axes>"
      ]
     },
     "metadata": {
      "needs_background": "light"
     },
     "output_type": "display_data"
    }
   ],
   "source": [
    "plt.figure(figsize=(15,10))\n",
    "plt.tight_layout()\n",
    "sns.distplot(mobiles_data_info['Price_in_Rupees'])"
   ]
  },
  {
   "cell_type": "code",
   "execution_count": 17,
   "metadata": {},
   "outputs": [],
   "source": [
    "from sklearn.model_selection import train_test_split"
   ]
  },
  {
   "cell_type": "code",
   "execution_count": 18,
   "metadata": {},
   "outputs": [],
   "source": [
    "X_train,X_test,y_train,y_test = train_test_split(x,y ,test_size=0.2,random_state=2)"
   ]
  },
  {
   "cell_type": "code",
   "execution_count": 19,
   "metadata": {},
   "outputs": [
    {
     "data": {
      "text/plain": [
       "(556, 9)"
      ]
     },
     "execution_count": 19,
     "metadata": {},
     "output_type": "execute_result"
    }
   ],
   "source": [
    "X_train.shape"
   ]
  },
  {
   "cell_type": "code",
   "execution_count": 20,
   "metadata": {},
   "outputs": [
    {
     "data": {
      "text/plain": [
       "(140, 9)"
      ]
     },
     "execution_count": 20,
     "metadata": {},
     "output_type": "execute_result"
    }
   ],
   "source": [
    "X_test.shape"
   ]
  },
  {
   "cell_type": "code",
   "execution_count": 21,
   "metadata": {},
   "outputs": [],
   "source": [
    "from sklearn.linear_model import LinearRegression"
   ]
  },
  {
   "cell_type": "code",
   "execution_count": 22,
   "metadata": {},
   "outputs": [],
   "source": [
    "lr_model = LinearRegression()"
   ]
  },
  {
   "cell_type": "code",
   "execution_count": 23,
   "metadata": {},
   "outputs": [
    {
     "data": {
      "text/plain": [
       "LinearRegression(copy_X=True, fit_intercept=True, n_jobs=None, normalize=False)"
      ]
     },
     "execution_count": 23,
     "metadata": {},
     "output_type": "execute_result"
    }
   ],
   "source": [
    "lr_model.fit(X_train,y_train)"
   ]
  },
  {
   "cell_type": "code",
   "execution_count": 24,
   "metadata": {},
   "outputs": [],
   "source": [
    "prediction=lr_model.predict(X_test)"
   ]
  },
  {
   "cell_type": "code",
   "execution_count": 25,
   "metadata": {},
   "outputs": [],
   "source": [
    "df = pd.DataFrame({'Actual': y_test, 'Predicted': prediction})"
   ]
  },
  {
   "cell_type": "code",
   "execution_count": 26,
   "metadata": {},
   "outputs": [],
   "source": [
    "df1=df.head(31)"
   ]
  },
  {
   "cell_type": "code",
   "execution_count": 27,
   "metadata": {},
   "outputs": [
    {
     "data": {
      "text/html": [
       "<div>\n",
       "<style scoped>\n",
       "    .dataframe tbody tr th:only-of-type {\n",
       "        vertical-align: middle;\n",
       "    }\n",
       "\n",
       "    .dataframe tbody tr th {\n",
       "        vertical-align: top;\n",
       "    }\n",
       "\n",
       "    .dataframe thead th {\n",
       "        text-align: right;\n",
       "    }\n",
       "</style>\n",
       "<table border=\"1\" class=\"dataframe\">\n",
       "  <thead>\n",
       "    <tr style=\"text-align: right;\">\n",
       "      <th></th>\n",
       "      <th>Actual</th>\n",
       "      <th>Predicted</th>\n",
       "    </tr>\n",
       "  </thead>\n",
       "  <tbody>\n",
       "    <tr>\n",
       "      <th>0</th>\n",
       "      <td>11990</td>\n",
       "      <td>13371.763084</td>\n",
       "    </tr>\n",
       "    <tr>\n",
       "      <th>1</th>\n",
       "      <td>4499</td>\n",
       "      <td>4460.141940</td>\n",
       "    </tr>\n",
       "    <tr>\n",
       "      <th>2</th>\n",
       "      <td>16999</td>\n",
       "      <td>25444.280831</td>\n",
       "    </tr>\n",
       "    <tr>\n",
       "      <th>3</th>\n",
       "      <td>4499</td>\n",
       "      <td>7033.572695</td>\n",
       "    </tr>\n",
       "    <tr>\n",
       "      <th>4</th>\n",
       "      <td>10490</td>\n",
       "      <td>16586.550376</td>\n",
       "    </tr>\n",
       "    <tr>\n",
       "      <th>5</th>\n",
       "      <td>7999</td>\n",
       "      <td>8677.852515</td>\n",
       "    </tr>\n",
       "    <tr>\n",
       "      <th>6</th>\n",
       "      <td>6799</td>\n",
       "      <td>10868.850848</td>\n",
       "    </tr>\n",
       "    <tr>\n",
       "      <th>7</th>\n",
       "      <td>14990</td>\n",
       "      <td>16446.135722</td>\n",
       "    </tr>\n",
       "    <tr>\n",
       "      <th>8</th>\n",
       "      <td>7990</td>\n",
       "      <td>9243.844037</td>\n",
       "    </tr>\n",
       "    <tr>\n",
       "      <th>9</th>\n",
       "      <td>7990</td>\n",
       "      <td>8385.917406</td>\n",
       "    </tr>\n",
       "    <tr>\n",
       "      <th>10</th>\n",
       "      <td>7999</td>\n",
       "      <td>8919.326719</td>\n",
       "    </tr>\n",
       "    <tr>\n",
       "      <th>11</th>\n",
       "      <td>29990</td>\n",
       "      <td>26162.169347</td>\n",
       "    </tr>\n",
       "    <tr>\n",
       "      <th>12</th>\n",
       "      <td>16299</td>\n",
       "      <td>13211.419773</td>\n",
       "    </tr>\n",
       "    <tr>\n",
       "      <th>13</th>\n",
       "      <td>14990</td>\n",
       "      <td>16446.135722</td>\n",
       "    </tr>\n",
       "    <tr>\n",
       "      <th>14</th>\n",
       "      <td>20990</td>\n",
       "      <td>17352.543711</td>\n",
       "    </tr>\n",
       "    <tr>\n",
       "      <th>15</th>\n",
       "      <td>7999</td>\n",
       "      <td>8919.326719</td>\n",
       "    </tr>\n",
       "    <tr>\n",
       "      <th>16</th>\n",
       "      <td>5499</td>\n",
       "      <td>7884.932705</td>\n",
       "    </tr>\n",
       "    <tr>\n",
       "      <th>17</th>\n",
       "      <td>10999</td>\n",
       "      <td>14676.475000</td>\n",
       "    </tr>\n",
       "    <tr>\n",
       "      <th>18</th>\n",
       "      <td>6999</td>\n",
       "      <td>8345.225609</td>\n",
       "    </tr>\n",
       "    <tr>\n",
       "      <th>19</th>\n",
       "      <td>5999</td>\n",
       "      <td>8252.650432</td>\n",
       "    </tr>\n",
       "    <tr>\n",
       "      <th>20</th>\n",
       "      <td>7399</td>\n",
       "      <td>8067.088202</td>\n",
       "    </tr>\n",
       "    <tr>\n",
       "      <th>21</th>\n",
       "      <td>10490</td>\n",
       "      <td>16586.550376</td>\n",
       "    </tr>\n",
       "    <tr>\n",
       "      <th>22</th>\n",
       "      <td>14990</td>\n",
       "      <td>16446.135722</td>\n",
       "    </tr>\n",
       "    <tr>\n",
       "      <th>23</th>\n",
       "      <td>13999</td>\n",
       "      <td>15797.557873</td>\n",
       "    </tr>\n",
       "    <tr>\n",
       "      <th>24</th>\n",
       "      <td>10999</td>\n",
       "      <td>22669.990229</td>\n",
       "    </tr>\n",
       "    <tr>\n",
       "      <th>25</th>\n",
       "      <td>5290</td>\n",
       "      <td>6233.590956</td>\n",
       "    </tr>\n",
       "    <tr>\n",
       "      <th>26</th>\n",
       "      <td>4799</td>\n",
       "      <td>8280.545576</td>\n",
       "    </tr>\n",
       "    <tr>\n",
       "      <th>27</th>\n",
       "      <td>29799</td>\n",
       "      <td>32298.908726</td>\n",
       "    </tr>\n",
       "    <tr>\n",
       "      <th>28</th>\n",
       "      <td>15990</td>\n",
       "      <td>20002.835082</td>\n",
       "    </tr>\n",
       "    <tr>\n",
       "      <th>29</th>\n",
       "      <td>36990</td>\n",
       "      <td>18186.467847</td>\n",
       "    </tr>\n",
       "    <tr>\n",
       "      <th>30</th>\n",
       "      <td>10990</td>\n",
       "      <td>13826.827672</td>\n",
       "    </tr>\n",
       "  </tbody>\n",
       "</table>\n",
       "</div>"
      ],
      "text/plain": [
       "    Actual     Predicted\n",
       "0    11990  13371.763084\n",
       "1     4499   4460.141940\n",
       "2    16999  25444.280831\n",
       "3     4499   7033.572695\n",
       "4    10490  16586.550376\n",
       "5     7999   8677.852515\n",
       "6     6799  10868.850848\n",
       "7    14990  16446.135722\n",
       "8     7990   9243.844037\n",
       "9     7990   8385.917406\n",
       "10    7999   8919.326719\n",
       "11   29990  26162.169347\n",
       "12   16299  13211.419773\n",
       "13   14990  16446.135722\n",
       "14   20990  17352.543711\n",
       "15    7999   8919.326719\n",
       "16    5499   7884.932705\n",
       "17   10999  14676.475000\n",
       "18    6999   8345.225609\n",
       "19    5999   8252.650432\n",
       "20    7399   8067.088202\n",
       "21   10490  16586.550376\n",
       "22   14990  16446.135722\n",
       "23   13999  15797.557873\n",
       "24   10999  22669.990229\n",
       "25    5290   6233.590956\n",
       "26    4799   8280.545576\n",
       "27   29799  32298.908726\n",
       "28   15990  20002.835082\n",
       "29   36990  18186.467847\n",
       "30   10990  13826.827672"
      ]
     },
     "execution_count": 27,
     "metadata": {},
     "output_type": "execute_result"
    }
   ],
   "source": [
    "df1.head(31)"
   ]
  },
  {
   "cell_type": "code",
   "execution_count": 28,
   "metadata": {
    "scrolled": true
   },
   "outputs": [
    {
     "data": {
      "image/png": "[encoded data removed]",
      "text/plain": [
       "<Figure size 1080x720 with 1 Axes>"
      ]
     },
     "metadata": {
      "needs_background": "light"
     },
     "output_type": "display_data"
    }
   ],
   "source": [
    "df1.plot(kind='bar',figsize=(15,10))\n",
    "plt.grid(linewidth='0.5', color='green')\n",
    "plt.grid(linewidth='0.5', color='blue')\n",
    "plt.show()"
   ]
  },
  {
   "cell_type": "code",
   "execution_count": 29,
   "metadata": {},
   "outputs": [
    {
     "data": {
      "image/png": "[encoded data removed]",
      "text/plain": [
       "<Figure size 1080x360 with 2 Axes>"
      ]
     },
     "metadata": {
      "needs_background": "light"
     },
     "output_type": "display_data"
    }
   ],
   "source": [
    "df1.hist(bins=50, figsize=(15, 5))\n",
    "plt.show()"
   ]
  },
  {
   "cell_type": "code",
   "execution_count": 30,
   "metadata": {},
   "outputs": [
    {
     "data": {
      "text/plain": [
       "(140,)"
      ]
     },
     "execution_count": 30,
     "metadata": {},
     "output_type": "execute_result"
    }
   ],
   "source": [
    "prediction.shape"
   ]
  },
  {
   "cell_type": "code",
   "execution_count": 31,
   "metadata": {},
   "outputs": [
    {
     "data": {
      "text/plain": [
       "(140,)"
      ]
     },
     "execution_count": 31,
     "metadata": {},
     "output_type": "execute_result"
    }
   ],
   "source": [
    "y_test.shape"
   ]
  },
  {
   "cell_type": "code",
   "execution_count": 32,
   "metadata": {},
   "outputs": [
    {
     "name": "stdout",
     "output_type": "stream",
     "text": [
      "Train result: 0.5394231933336981\n",
      "Test result: 0.6296486710527542\n"
     ]
    }
   ],
   "source": [
    "print(\"Train result:\", lr_model.score(X_train, y_train))\n",
    "print(\"Test result:\", lr_model.score(X_test, y_test))"
   ]
  },
  {
   "cell_type": "code",
   "execution_count": 33,
   "metadata": {},
   "outputs": [
    {
     "name": "stdout",
     "output_type": "stream",
     "text": [
      "62.964867105275424 %\n"
     ]
    }
   ],
   "source": [
    "accuracy = lr_model.score(X_test,y_test)\n",
    "print(accuracy*100,'%')"
   ]
  },
  {
   "cell_type": "code",
   "execution_count": 34,
   "metadata": {},
   "outputs": [],
   "source": [
    "from sklearn import metrics"
   ]
  },
  {
   "cell_type": "code",
   "execution_count": 35,
   "metadata": {},
   "outputs": [
    {
     "name": "stdout",
     "output_type": "stream",
     "text": [
      "Mean Absolute Error: 3695.491255744947\n",
      "Mean Squared Error: 29035534.860767584\n",
      "Root Mean Squared Error: 5388.463126046942\n"
     ]
    }
   ],
   "source": [
    "print('Mean Absolute Error:', metrics.mean_absolute_error(y_test, prediction))  \n",
    "print('Mean Squared Error:', metrics.mean_squared_error(y_test, prediction))  \n",
    "print('Root Mean Squared Error:', np.sqrt(metrics.mean_squared_error(y_test, prediction))) "
   ]
  },
  {
   "cell_type": "code",
   "execution_count": 36,
   "metadata": {},
   "outputs": [
    {
     "data": {
      "text/plain": [
       "0.6296486710527542"
      ]
     },
     "execution_count": 36,
     "metadata": {},
     "output_type": "execute_result"
    }
   ],
   "source": [
    "metrics.r2_score(y_test,prediction)"
   ]
  },
  {
   "cell_type": "code",
   "execution_count": 37,
   "metadata": {},
   "outputs": [
    {
     "data": {
      "text/plain": [
       "(140, 9)"
      ]
     },
     "execution_count": 37,
     "metadata": {},
     "output_type": "execute_result"
    }
   ],
   "source": [
    "X_test.shape"
   ]
  },
  {
   "cell_type": "code",
   "execution_count": 38,
   "metadata": {},
   "outputs": [
    {
     "data": {
      "text/plain": [
       "(140,)"
      ]
     },
     "execution_count": 38,
     "metadata": {},
     "output_type": "execute_result"
    }
   ],
   "source": [
    "y_test.shape"
   ]
  },
  {
   "cell_type": "code",
   "execution_count": 39,
   "metadata": {},
   "outputs": [],
   "source": [
    "# plt.scatter(X_test, y_test,  color='gray')\n",
    "# plt.plot(X_test, prediction, color='red', linewidth=2)\n",
    "# plt.show()"
   ]
  },
  {
   "cell_type": "code",
   "execution_count": 40,
   "metadata": {},
   "outputs": [],
   "source": [
    "# from sklearn.preprocessing import LabelEncoder\n",
    "\n",
    "# lb_make = LabelEncoder()\n",
    "# mobiles_data_info[\"Secondary_Camera(MP)_code\"] = lb_make.fit_transform(mobiles_data_info[\"Secondary_Camera(MP)\"])\n",
    "# mobiles_data_info[[\"Secondary_Camera(MP)\", \"Secondary_Camera(MP)_code\"]].head(1)"
   ]
  },
  {
   "cell_type": "code",
   "execution_count": 986,
   "metadata": {},
   "outputs": [],
   "source": [
    "# mobiles_data_info.head(20)"
   ]
  },
  {
   "cell_type": "code",
   "execution_count": 982,
   "metadata": {},
   "outputs": [],
   "source": [
    "mob=pd.get_dummies(mobiles_data_info, columns=[\"Price_in_Rupees\"])"
   ]
  },
  {
   "cell_type": "code",
   "execution_count": 974,
   "metadata": {},
   "outputs": [],
   "source": [
    "# mob.to_csv('one_hot_encoding.csv',index=False)"
   ]
  },
  {
   "cell_type": "code",
   "execution_count": 987,
   "metadata": {},
   "outputs": [],
   "source": [
    "# mob.head(29)"
   ]
  },
  {
   "cell_type": "code",
   "execution_count": null,
   "metadata": {},
   "outputs": [],
   "source": []
  },
  {
   "cell_type": "code",
   "execution_count": 41,
   "metadata": {},
   "outputs": [],
   "source": []
  }
 ],
 "metadata": {
  "kernelspec": {
   "display_name": "Python 3",
   "language": "python",
   "name": "python3"
  },
  "language_info": {
   "codemirror_mode": {
    "name": "ipython",
    "version": 3
   },
   "file_extension": ".py",
   "mimetype": "text/x-python",
   "name": "python",
   "nbconvert_exporter": "python",
   "pygments_lexer": "ipython3",
   "version": "3.6.8"
  }
 },
 "nbformat": 4,
 "nbformat_minor": 2
}
