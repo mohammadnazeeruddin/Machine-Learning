{
 "cells": [
  {
   "cell_type": "code",
   "execution_count": 1,
   "metadata": {},
   "outputs": [],
   "source": [
    "import pandas as pd\n",
    "import numpy as np"
   ]
  },
  {
   "cell_type": "code",
   "execution_count": 2,
   "metadata": {},
   "outputs": [],
   "source": [
    "df = pd.read_csv('mob_data.csv')"
   ]
  },
  {
   "cell_type": "code",
   "execution_count": 3,
   "metadata": {},
   "outputs": [
    {
     "data": {
      "text/html": [
       "<div>\n",
       "<style scoped>\n",
       "    .dataframe tbody tr th:only-of-type {\n",
       "        vertical-align: middle;\n",
       "    }\n",
       "\n",
       "    .dataframe tbody tr th {\n",
       "        vertical-align: top;\n",
       "    }\n",
       "\n",
       "    .dataframe thead th {\n",
       "        text-align: right;\n",
       "    }\n",
       "</style>\n",
       "<table border=\"1\" class=\"dataframe\">\n",
       "  <thead>\n",
       "    <tr style=\"text-align: right;\">\n",
       "      <th></th>\n",
       "      <th>Price_in_Rupees</th>\n",
       "      <th>Off(%)</th>\n",
       "      <th>Ram</th>\n",
       "      <th>Rom</th>\n",
       "      <th>Expandable_GB/TB</th>\n",
       "      <th>Screen_in_inch</th>\n",
       "      <th>Secondary_Camera(MP)</th>\n",
       "      <th>Battery_details</th>\n",
       "      <th>Warranty(Year)</th>\n",
       "      <th>Rating</th>\n",
       "      <th>Dual_sim_num</th>\n",
       "    </tr>\n",
       "  </thead>\n",
       "  <tbody>\n",
       "    <tr>\n",
       "      <th>0</th>\n",
       "      <td>5999</td>\n",
       "      <td>14</td>\n",
       "      <td>2</td>\n",
       "      <td>16</td>\n",
       "      <td>256</td>\n",
       "      <td>6.1</td>\n",
       "      <td>5</td>\n",
       "      <td>4000</td>\n",
       "      <td>1</td>\n",
       "      <td>4.5</td>\n",
       "      <td>1</td>\n",
       "    </tr>\n",
       "    <tr>\n",
       "      <th>1</th>\n",
       "      <td>5999</td>\n",
       "      <td>14</td>\n",
       "      <td>2</td>\n",
       "      <td>16</td>\n",
       "      <td>256</td>\n",
       "      <td>6.1</td>\n",
       "      <td>5</td>\n",
       "      <td>4000</td>\n",
       "      <td>1</td>\n",
       "      <td>4.5</td>\n",
       "      <td>1</td>\n",
       "    </tr>\n",
       "    <tr>\n",
       "      <th>2</th>\n",
       "      <td>8990</td>\n",
       "      <td>49</td>\n",
       "      <td>3</td>\n",
       "      <td>64</td>\n",
       "      <td>256</td>\n",
       "      <td>5.5</td>\n",
       "      <td>8</td>\n",
       "      <td>3300</td>\n",
       "      <td>1</td>\n",
       "      <td>4.3</td>\n",
       "      <td>1</td>\n",
       "    </tr>\n",
       "    <tr>\n",
       "      <th>3</th>\n",
       "      <td>10000</td>\n",
       "      <td>10</td>\n",
       "      <td>2</td>\n",
       "      <td>16</td>\n",
       "      <td>128</td>\n",
       "      <td>5.0</td>\n",
       "      <td>5</td>\n",
       "      <td>2630</td>\n",
       "      <td>1</td>\n",
       "      <td>4.2</td>\n",
       "      <td>1</td>\n",
       "    </tr>\n",
       "    <tr>\n",
       "      <th>4</th>\n",
       "      <td>10000</td>\n",
       "      <td>10</td>\n",
       "      <td>3</td>\n",
       "      <td>16</td>\n",
       "      <td>256</td>\n",
       "      <td>5.2</td>\n",
       "      <td>5</td>\n",
       "      <td>3000</td>\n",
       "      <td>1</td>\n",
       "      <td>4.2</td>\n",
       "      <td>1</td>\n",
       "    </tr>\n",
       "  </tbody>\n",
       "</table>\n",
       "</div>"
      ],
      "text/plain": [
       "   Price_in_Rupees  Off(%)  Ram  Rom  Expandable_GB/TB  Screen_in_inch  \\\n",
       "0             5999      14    2   16               256             6.1   \n",
       "1             5999      14    2   16               256             6.1   \n",
       "2             8990      49    3   64               256             5.5   \n",
       "3            10000      10    2   16               128             5.0   \n",
       "4            10000      10    3   16               256             5.2   \n",
       "\n",
       "   Secondary_Camera(MP)  Battery_details  Warranty(Year)  Rating  Dual_sim_num  \n",
       "0                     5             4000               1     4.5             1  \n",
       "1                     5             4000               1     4.5             1  \n",
       "2                     8             3300               1     4.3             1  \n",
       "3                     5             2630               1     4.2             1  \n",
       "4                     5             3000               1     4.2             1  "
      ]
     },
     "execution_count": 3,
     "metadata": {},
     "output_type": "execute_result"
    }
   ],
   "source": [
    "df.head()"
   ]
  },
  {
   "cell_type": "code",
   "execution_count": 4,
   "metadata": {},
   "outputs": [],
   "source": [
    "# import sklearn.preprocessing"
   ]
  },
  {
   "cell_type": "code",
   "execution_count": 5,
   "metadata": {},
   "outputs": [],
   "source": [
    "# pp.Binarizer?"
   ]
  },
  {
   "cell_type": "code",
   "execution_count": 6,
   "metadata": {},
   "outputs": [],
   "source": [
    "from sklearn.preprocessing import LabelEncoder\n",
    "\n",
    "price_lb = LabelEncoder()\n",
    "ram_lb = LabelEncoder()\n",
    "Rom_lb = LabelEncoder()\n",
    "Expandable_lb = LabelEncoder()\n",
    "Screen_in_inch_lb = LabelEncoder()\n",
    "Secondary_Camera_lb = LabelEncoder()\n",
    "Battery_details_lb= LabelEncoder()\n",
    "Warranty_lb= LabelEncoder()\n",
    "Rating_lb= LabelEncoder()\n",
    "Dual_sim_num_lb= LabelEncoder()\n",
    "\n",
    "df['price_encoded'] = price_lb.fit_transform(df.Price_in_Rupees)\n",
    "df['Ram_encoded'] = ram_lb.fit_transform(df.Ram)\n",
    "df['Rom_encoded'] = Rom_lb.fit_transform(df.Rom)\n",
    "df['Expand_encoded'] = Expandable_lb.fit_transform(df['Expandable_GB/TB'])\n",
    "df['Screen_encoded'] = Screen_in_inch_lb.fit_transform(df.Screen_in_inch)\n",
    "df['Secondary_Camera_encoded'] = Secondary_Camera_lb.fit_transform(df['Secondary_Camera(MP)'])\n",
    "df['Battery_encoded'] = Battery_details_lb.fit_transform(df.Battery_details)\n",
    "df['Warranty_encoded'] = Warranty_lb.fit_transform(df['Warranty(Year)'])\n",
    "df['Rating_encoded'] = Rating_lb.fit_transform(df.Rating)\n",
    "df['Dual_sim_encoded'] = Dual_sim_num_lb.fit_transform(df.Dual_sim_num)"
   ]
  },
  {
   "cell_type": "code",
   "execution_count": 7,
   "metadata": {},
   "outputs": [
    {
     "data": {
      "text/html": [
       "<div>\n",
       "<style scoped>\n",
       "    .dataframe tbody tr th:only-of-type {\n",
       "        vertical-align: middle;\n",
       "    }\n",
       "\n",
       "    .dataframe tbody tr th {\n",
       "        vertical-align: top;\n",
       "    }\n",
       "\n",
       "    .dataframe thead th {\n",
       "        text-align: right;\n",
       "    }\n",
       "</style>\n",
       "<table border=\"1\" class=\"dataframe\">\n",
       "  <thead>\n",
       "    <tr style=\"text-align: right;\">\n",
       "      <th></th>\n",
       "      <th>Price_in_Rupees</th>\n",
       "      <th>Off(%)</th>\n",
       "      <th>Ram</th>\n",
       "      <th>Rom</th>\n",
       "      <th>Expandable_GB/TB</th>\n",
       "      <th>Screen_in_inch</th>\n",
       "      <th>Secondary_Camera(MP)</th>\n",
       "      <th>Battery_details</th>\n",
       "      <th>Warranty(Year)</th>\n",
       "      <th>Rating</th>\n",
       "      <th>...</th>\n",
       "      <th>price_encoded</th>\n",
       "      <th>Ram_encoded</th>\n",
       "      <th>Rom_encoded</th>\n",
       "      <th>Expand_encoded</th>\n",
       "      <th>Screen_encoded</th>\n",
       "      <th>Secondary_Camera_encoded</th>\n",
       "      <th>Battery_encoded</th>\n",
       "      <th>Warranty_encoded</th>\n",
       "      <th>Rating_encoded</th>\n",
       "      <th>Dual_sim_encoded</th>\n",
       "    </tr>\n",
       "  </thead>\n",
       "  <tbody>\n",
       "    <tr>\n",
       "      <th>0</th>\n",
       "      <td>5999</td>\n",
       "      <td>14</td>\n",
       "      <td>2</td>\n",
       "      <td>16</td>\n",
       "      <td>256</td>\n",
       "      <td>6.1</td>\n",
       "      <td>5</td>\n",
       "      <td>4000</td>\n",
       "      <td>1</td>\n",
       "      <td>4.5</td>\n",
       "      <td>...</td>\n",
       "      <td>40</td>\n",
       "      <td>1</td>\n",
       "      <td>2</td>\n",
       "      <td>6</td>\n",
       "      <td>19</td>\n",
       "      <td>3</td>\n",
       "      <td>41</td>\n",
       "      <td>0</td>\n",
       "      <td>12</td>\n",
       "      <td>0</td>\n",
       "    </tr>\n",
       "    <tr>\n",
       "      <th>1</th>\n",
       "      <td>5999</td>\n",
       "      <td>14</td>\n",
       "      <td>2</td>\n",
       "      <td>16</td>\n",
       "      <td>256</td>\n",
       "      <td>6.1</td>\n",
       "      <td>5</td>\n",
       "      <td>4000</td>\n",
       "      <td>1</td>\n",
       "      <td>4.5</td>\n",
       "      <td>...</td>\n",
       "      <td>40</td>\n",
       "      <td>1</td>\n",
       "      <td>2</td>\n",
       "      <td>6</td>\n",
       "      <td>19</td>\n",
       "      <td>3</td>\n",
       "      <td>41</td>\n",
       "      <td>0</td>\n",
       "      <td>12</td>\n",
       "      <td>0</td>\n",
       "    </tr>\n",
       "    <tr>\n",
       "      <th>2</th>\n",
       "      <td>8990</td>\n",
       "      <td>49</td>\n",
       "      <td>3</td>\n",
       "      <td>64</td>\n",
       "      <td>256</td>\n",
       "      <td>5.5</td>\n",
       "      <td>8</td>\n",
       "      <td>3300</td>\n",
       "      <td>1</td>\n",
       "      <td>4.3</td>\n",
       "      <td>...</td>\n",
       "      <td>71</td>\n",
       "      <td>2</td>\n",
       "      <td>5</td>\n",
       "      <td>6</td>\n",
       "      <td>9</td>\n",
       "      <td>4</td>\n",
       "      <td>31</td>\n",
       "      <td>0</td>\n",
       "      <td>10</td>\n",
       "      <td>0</td>\n",
       "    </tr>\n",
       "    <tr>\n",
       "      <th>3</th>\n",
       "      <td>10000</td>\n",
       "      <td>10</td>\n",
       "      <td>2</td>\n",
       "      <td>16</td>\n",
       "      <td>128</td>\n",
       "      <td>5.0</td>\n",
       "      <td>5</td>\n",
       "      <td>2630</td>\n",
       "      <td>1</td>\n",
       "      <td>4.2</td>\n",
       "      <td>...</td>\n",
       "      <td>81</td>\n",
       "      <td>1</td>\n",
       "      <td>2</td>\n",
       "      <td>5</td>\n",
       "      <td>5</td>\n",
       "      <td>3</td>\n",
       "      <td>16</td>\n",
       "      <td>0</td>\n",
       "      <td>9</td>\n",
       "      <td>0</td>\n",
       "    </tr>\n",
       "    <tr>\n",
       "      <th>4</th>\n",
       "      <td>10000</td>\n",
       "      <td>10</td>\n",
       "      <td>3</td>\n",
       "      <td>16</td>\n",
       "      <td>256</td>\n",
       "      <td>5.2</td>\n",
       "      <td>5</td>\n",
       "      <td>3000</td>\n",
       "      <td>1</td>\n",
       "      <td>4.2</td>\n",
       "      <td>...</td>\n",
       "      <td>81</td>\n",
       "      <td>2</td>\n",
       "      <td>2</td>\n",
       "      <td>6</td>\n",
       "      <td>6</td>\n",
       "      <td>3</td>\n",
       "      <td>22</td>\n",
       "      <td>0</td>\n",
       "      <td>9</td>\n",
       "      <td>0</td>\n",
       "    </tr>\n",
       "  </tbody>\n",
       "</table>\n",
       "<p>5 rows × 21 columns</p>\n",
       "</div>"
      ],
      "text/plain": [
       "   Price_in_Rupees  Off(%)  Ram  Rom  Expandable_GB/TB  Screen_in_inch  \\\n",
       "0             5999      14    2   16               256             6.1   \n",
       "1             5999      14    2   16               256             6.1   \n",
       "2             8990      49    3   64               256             5.5   \n",
       "3            10000      10    2   16               128             5.0   \n",
       "4            10000      10    3   16               256             5.2   \n",
       "\n",
       "   Secondary_Camera(MP)  Battery_details  Warranty(Year)  Rating  ...  \\\n",
       "0                     5             4000               1     4.5  ...   \n",
       "1                     5             4000               1     4.5  ...   \n",
       "2                     8             3300               1     4.3  ...   \n",
       "3                     5             2630               1     4.2  ...   \n",
       "4                     5             3000               1     4.2  ...   \n",
       "\n",
       "   price_encoded  Ram_encoded  Rom_encoded  Expand_encoded  Screen_encoded  \\\n",
       "0             40            1            2               6              19   \n",
       "1             40            1            2               6              19   \n",
       "2             71            2            5               6               9   \n",
       "3             81            1            2               5               5   \n",
       "4             81            2            2               6               6   \n",
       "\n",
       "   Secondary_Camera_encoded  Battery_encoded  Warranty_encoded  \\\n",
       "0                         3               41                 0   \n",
       "1                         3               41                 0   \n",
       "2                         4               31                 0   \n",
       "3                         3               16                 0   \n",
       "4                         3               22                 0   \n",
       "\n",
       "   Rating_encoded  Dual_sim_encoded  \n",
       "0              12                 0  \n",
       "1              12                 0  \n",
       "2              10                 0  \n",
       "3               9                 0  \n",
       "4               9                 0  \n",
       "\n",
       "[5 rows x 21 columns]"
      ]
     },
     "execution_count": 7,
     "metadata": {},
     "output_type": "execute_result"
    }
   ],
   "source": [
    "df.head()"
   ]
  },
  {
   "cell_type": "code",
   "execution_count": 8,
   "metadata": {},
   "outputs": [
    {
     "data": {
      "text/plain": [
       "0    5999\n",
       "1    5999\n",
       "Name: Price_in_Rupees, dtype: int64"
      ]
     },
     "execution_count": 8,
     "metadata": {},
     "output_type": "execute_result"
    }
   ],
   "source": [
    "df.Price_in_Rupees[0:2]"
   ]
  },
  {
   "cell_type": "code",
   "execution_count": 9,
   "metadata": {},
   "outputs": [
    {
     "data": {
      "text/plain": [
       "0    40\n",
       "1    40\n",
       "Name: price_encoded, dtype: int64"
      ]
     },
     "execution_count": 9,
     "metadata": {},
     "output_type": "execute_result"
    }
   ],
   "source": [
    "df.price_encoded[0:2] # After Label Encodig"
   ]
  },
  {
   "cell_type": "code",
   "execution_count": 10,
   "metadata": {},
   "outputs": [
    {
     "data": {
      "text/html": [
       "<div>\n",
       "<style scoped>\n",
       "    .dataframe tbody tr th:only-of-type {\n",
       "        vertical-align: middle;\n",
       "    }\n",
       "\n",
       "    .dataframe tbody tr th {\n",
       "        vertical-align: top;\n",
       "    }\n",
       "\n",
       "    .dataframe thead th {\n",
       "        text-align: right;\n",
       "    }\n",
       "</style>\n",
       "<table border=\"1\" class=\"dataframe\">\n",
       "  <thead>\n",
       "    <tr style=\"text-align: right;\">\n",
       "      <th></th>\n",
       "      <th>Price_in_Rupees</th>\n",
       "      <th>Off(%)</th>\n",
       "      <th>Ram</th>\n",
       "      <th>Rom</th>\n",
       "      <th>Expandable_GB/TB</th>\n",
       "      <th>Screen_in_inch</th>\n",
       "      <th>Secondary_Camera(MP)</th>\n",
       "      <th>Battery_details</th>\n",
       "      <th>Warranty(Year)</th>\n",
       "      <th>Rating</th>\n",
       "      <th>...</th>\n",
       "      <th>price_encoded</th>\n",
       "      <th>Ram_encoded</th>\n",
       "      <th>Rom_encoded</th>\n",
       "      <th>Expand_encoded</th>\n",
       "      <th>Screen_encoded</th>\n",
       "      <th>Secondary_Camera_encoded</th>\n",
       "      <th>Battery_encoded</th>\n",
       "      <th>Warranty_encoded</th>\n",
       "      <th>Rating_encoded</th>\n",
       "      <th>Dual_sim_encoded</th>\n",
       "    </tr>\n",
       "  </thead>\n",
       "  <tbody>\n",
       "    <tr>\n",
       "      <th>0</th>\n",
       "      <td>5999</td>\n",
       "      <td>14</td>\n",
       "      <td>2</td>\n",
       "      <td>16</td>\n",
       "      <td>256</td>\n",
       "      <td>6.1</td>\n",
       "      <td>5</td>\n",
       "      <td>4000</td>\n",
       "      <td>1</td>\n",
       "      <td>4.5</td>\n",
       "      <td>...</td>\n",
       "      <td>40</td>\n",
       "      <td>1</td>\n",
       "      <td>2</td>\n",
       "      <td>6</td>\n",
       "      <td>19</td>\n",
       "      <td>3</td>\n",
       "      <td>41</td>\n",
       "      <td>0</td>\n",
       "      <td>12</td>\n",
       "      <td>0</td>\n",
       "    </tr>\n",
       "    <tr>\n",
       "      <th>1</th>\n",
       "      <td>5999</td>\n",
       "      <td>14</td>\n",
       "      <td>2</td>\n",
       "      <td>16</td>\n",
       "      <td>256</td>\n",
       "      <td>6.1</td>\n",
       "      <td>5</td>\n",
       "      <td>4000</td>\n",
       "      <td>1</td>\n",
       "      <td>4.5</td>\n",
       "      <td>...</td>\n",
       "      <td>40</td>\n",
       "      <td>1</td>\n",
       "      <td>2</td>\n",
       "      <td>6</td>\n",
       "      <td>19</td>\n",
       "      <td>3</td>\n",
       "      <td>41</td>\n",
       "      <td>0</td>\n",
       "      <td>12</td>\n",
       "      <td>0</td>\n",
       "    </tr>\n",
       "    <tr>\n",
       "      <th>2</th>\n",
       "      <td>8990</td>\n",
       "      <td>49</td>\n",
       "      <td>3</td>\n",
       "      <td>64</td>\n",
       "      <td>256</td>\n",
       "      <td>5.5</td>\n",
       "      <td>8</td>\n",
       "      <td>3300</td>\n",
       "      <td>1</td>\n",
       "      <td>4.3</td>\n",
       "      <td>...</td>\n",
       "      <td>71</td>\n",
       "      <td>2</td>\n",
       "      <td>5</td>\n",
       "      <td>6</td>\n",
       "      <td>9</td>\n",
       "      <td>4</td>\n",
       "      <td>31</td>\n",
       "      <td>0</td>\n",
       "      <td>10</td>\n",
       "      <td>0</td>\n",
       "    </tr>\n",
       "    <tr>\n",
       "      <th>3</th>\n",
       "      <td>10000</td>\n",
       "      <td>10</td>\n",
       "      <td>2</td>\n",
       "      <td>16</td>\n",
       "      <td>128</td>\n",
       "      <td>5.0</td>\n",
       "      <td>5</td>\n",
       "      <td>2630</td>\n",
       "      <td>1</td>\n",
       "      <td>4.2</td>\n",
       "      <td>...</td>\n",
       "      <td>81</td>\n",
       "      <td>1</td>\n",
       "      <td>2</td>\n",
       "      <td>5</td>\n",
       "      <td>5</td>\n",
       "      <td>3</td>\n",
       "      <td>16</td>\n",
       "      <td>0</td>\n",
       "      <td>9</td>\n",
       "      <td>0</td>\n",
       "    </tr>\n",
       "    <tr>\n",
       "      <th>4</th>\n",
       "      <td>10000</td>\n",
       "      <td>10</td>\n",
       "      <td>3</td>\n",
       "      <td>16</td>\n",
       "      <td>256</td>\n",
       "      <td>5.2</td>\n",
       "      <td>5</td>\n",
       "      <td>3000</td>\n",
       "      <td>1</td>\n",
       "      <td>4.2</td>\n",
       "      <td>...</td>\n",
       "      <td>81</td>\n",
       "      <td>2</td>\n",
       "      <td>2</td>\n",
       "      <td>6</td>\n",
       "      <td>6</td>\n",
       "      <td>3</td>\n",
       "      <td>22</td>\n",
       "      <td>0</td>\n",
       "      <td>9</td>\n",
       "      <td>0</td>\n",
       "    </tr>\n",
       "  </tbody>\n",
       "</table>\n",
       "<p>5 rows × 21 columns</p>\n",
       "</div>"
      ],
      "text/plain": [
       "   Price_in_Rupees  Off(%)  Ram  Rom  Expandable_GB/TB  Screen_in_inch  \\\n",
       "0             5999      14    2   16               256             6.1   \n",
       "1             5999      14    2   16               256             6.1   \n",
       "2             8990      49    3   64               256             5.5   \n",
       "3            10000      10    2   16               128             5.0   \n",
       "4            10000      10    3   16               256             5.2   \n",
       "\n",
       "   Secondary_Camera(MP)  Battery_details  Warranty(Year)  Rating  ...  \\\n",
       "0                     5             4000               1     4.5  ...   \n",
       "1                     5             4000               1     4.5  ...   \n",
       "2                     8             3300               1     4.3  ...   \n",
       "3                     5             2630               1     4.2  ...   \n",
       "4                     5             3000               1     4.2  ...   \n",
       "\n",
       "   price_encoded  Ram_encoded  Rom_encoded  Expand_encoded  Screen_encoded  \\\n",
       "0             40            1            2               6              19   \n",
       "1             40            1            2               6              19   \n",
       "2             71            2            5               6               9   \n",
       "3             81            1            2               5               5   \n",
       "4             81            2            2               6               6   \n",
       "\n",
       "   Secondary_Camera_encoded  Battery_encoded  Warranty_encoded  \\\n",
       "0                         3               41                 0   \n",
       "1                         3               41                 0   \n",
       "2                         4               31                 0   \n",
       "3                         3               16                 0   \n",
       "4                         3               22                 0   \n",
       "\n",
       "   Rating_encoded  Dual_sim_encoded  \n",
       "0              12                 0  \n",
       "1              12                 0  \n",
       "2              10                 0  \n",
       "3               9                 0  \n",
       "4               9                 0  \n",
       "\n",
       "[5 rows x 21 columns]"
      ]
     },
     "execution_count": 10,
     "metadata": {},
     "output_type": "execute_result"
    }
   ],
   "source": [
    "df.head() # All Columns After Label Encoding "
   ]
  },
  {
   "cell_type": "code",
   "execution_count": 11,
   "metadata": {},
   "outputs": [],
   "source": [
    "a = df[['Ram','Rom','Expandable_GB/TB','Screen_in_inch','Secondary_Camera(MP)',\n",
    "         'Battery_details','Warranty(Year)','Rating','Dual_sim_num']]\n",
    "b = df.Price_in_Rupees"
   ]
  },
  {
   "cell_type": "code",
   "execution_count": 12,
   "metadata": {},
   "outputs": [
    {
     "data": {
      "text/plain": [
       "(696, 9)"
      ]
     },
     "execution_count": 12,
     "metadata": {},
     "output_type": "execute_result"
    }
   ],
   "source": [
    "a.shape"
   ]
  },
  {
   "cell_type": "code",
   "execution_count": 13,
   "metadata": {},
   "outputs": [
    {
     "data": {
      "text/plain": [
       "(696,)"
      ]
     },
     "execution_count": 13,
     "metadata": {},
     "output_type": "execute_result"
    }
   ],
   "source": [
    "b.shape"
   ]
  },
  {
   "cell_type": "code",
   "execution_count": 14,
   "metadata": {},
   "outputs": [],
   "source": [
    "from sklearn.model_selection import train_test_split"
   ]
  },
  {
   "cell_type": "code",
   "execution_count": 15,
   "metadata": {},
   "outputs": [],
   "source": [
    "X_train_,X_test_,y_train_,y_test_ = train_test_split(a,b,test_size=0.20,random_state=2)"
   ]
  },
  {
   "cell_type": "code",
   "execution_count": 16,
   "metadata": {},
   "outputs": [
    {
     "data": {
      "text/plain": [
       "(140,)"
      ]
     },
     "execution_count": 16,
     "metadata": {},
     "output_type": "execute_result"
    }
   ],
   "source": [
    "y_test_.shape"
   ]
  },
  {
   "cell_type": "code",
   "execution_count": 17,
   "metadata": {},
   "outputs": [],
   "source": [
    "# from sklearn.preprocessing import OneHotEncoder\n",
    "# price_ohe = OneHotEncoder()\n",
    "# ram_ohe = OneHotEncoder()\n",
    "# Xp = price_ohe.fit_transform(mob.price_encoded.values.reshape(-1,1)).toarray()\n",
    "# Xr = ram_ohe.fit_transform(mob.Ram_encoded.values.reshape(-1,1)).toarray()"
   ]
  },
  {
   "cell_type": "code",
   "execution_count": 18,
   "metadata": {},
   "outputs": [],
   "source": [
    "# mobOneHot = pd.DataFrame(Xp,columns = [\"price_\"+str(int(i)) for i in range(Xp.shape[1])])\n",
    "# mob = pd.concat([mob, mobOneHot], axis=1)\n",
    "\n",
    "# dfOneHot = pd.DataFrame(Xm, columns = [\"Make\"+str(int(i)) for i in range(X.shape[1])])\n",
    "# df = pd.concat([df, dfOneHot], axis=1)"
   ]
  },
  {
   "cell_type": "code",
   "execution_count": 19,
   "metadata": {},
   "outputs": [],
   "source": [
    "c=df['Price_in_Rupees']"
   ]
  },
  {
   "cell_type": "code",
   "execution_count": 20,
   "metadata": {},
   "outputs": [],
   "source": [
    "d=df['price_encoded']"
   ]
  },
  {
   "cell_type": "code",
   "execution_count": 21,
   "metadata": {},
   "outputs": [
    {
     "data": {
      "text/plain": [
       "Index(['Price_in_Rupees', 'Off(%)', 'Ram', 'Rom', 'Expandable_GB/TB',\n",
       "       'Screen_in_inch', 'Secondary_Camera(MP)', 'Battery_details',\n",
       "       'Warranty(Year)', 'Rating', 'Dual_sim_num', 'price_encoded',\n",
       "       'Ram_encoded', 'Rom_encoded', 'Expand_encoded', 'Screen_encoded',\n",
       "       'Secondary_Camera_encoded', 'Battery_encoded', 'Warranty_encoded',\n",
       "       'Rating_encoded', 'Dual_sim_encoded'],\n",
       "      dtype='object')"
      ]
     },
     "execution_count": 21,
     "metadata": {},
     "output_type": "execute_result"
    }
   ],
   "source": [
    "df.columns"
   ]
  },
  {
   "cell_type": "code",
   "execution_count": 22,
   "metadata": {},
   "outputs": [],
   "source": [
    "df=df.drop(['Price_in_Rupees','Off(%)','Rom','Ram','Expandable_GB/TB','Screen_in_inch','Secondary_Camera(MP)','Battery_details','Warranty(Year)','Rating','Dual_sim_num'],axis='columns')"
   ]
  },
  {
   "cell_type": "code",
   "execution_count": 23,
   "metadata": {},
   "outputs": [
    {
     "data": {
      "text/html": [
       "<div>\n",
       "<style scoped>\n",
       "    .dataframe tbody tr th:only-of-type {\n",
       "        vertical-align: middle;\n",
       "    }\n",
       "\n",
       "    .dataframe tbody tr th {\n",
       "        vertical-align: top;\n",
       "    }\n",
       "\n",
       "    .dataframe thead th {\n",
       "        text-align: right;\n",
       "    }\n",
       "</style>\n",
       "<table border=\"1\" class=\"dataframe\">\n",
       "  <thead>\n",
       "    <tr style=\"text-align: right;\">\n",
       "      <th></th>\n",
       "      <th>price_encoded</th>\n",
       "      <th>Ram_encoded</th>\n",
       "      <th>Rom_encoded</th>\n",
       "      <th>Expand_encoded</th>\n",
       "      <th>Screen_encoded</th>\n",
       "      <th>Secondary_Camera_encoded</th>\n",
       "      <th>Battery_encoded</th>\n",
       "      <th>Warranty_encoded</th>\n",
       "      <th>Rating_encoded</th>\n",
       "      <th>Dual_sim_encoded</th>\n",
       "    </tr>\n",
       "  </thead>\n",
       "  <tbody>\n",
       "    <tr>\n",
       "      <th>0</th>\n",
       "      <td>40</td>\n",
       "      <td>1</td>\n",
       "      <td>2</td>\n",
       "      <td>6</td>\n",
       "      <td>19</td>\n",
       "      <td>3</td>\n",
       "      <td>41</td>\n",
       "      <td>0</td>\n",
       "      <td>12</td>\n",
       "      <td>0</td>\n",
       "    </tr>\n",
       "    <tr>\n",
       "      <th>1</th>\n",
       "      <td>40</td>\n",
       "      <td>1</td>\n",
       "      <td>2</td>\n",
       "      <td>6</td>\n",
       "      <td>19</td>\n",
       "      <td>3</td>\n",
       "      <td>41</td>\n",
       "      <td>0</td>\n",
       "      <td>12</td>\n",
       "      <td>0</td>\n",
       "    </tr>\n",
       "    <tr>\n",
       "      <th>2</th>\n",
       "      <td>71</td>\n",
       "      <td>2</td>\n",
       "      <td>5</td>\n",
       "      <td>6</td>\n",
       "      <td>9</td>\n",
       "      <td>4</td>\n",
       "      <td>31</td>\n",
       "      <td>0</td>\n",
       "      <td>10</td>\n",
       "      <td>0</td>\n",
       "    </tr>\n",
       "    <tr>\n",
       "      <th>3</th>\n",
       "      <td>81</td>\n",
       "      <td>1</td>\n",
       "      <td>2</td>\n",
       "      <td>5</td>\n",
       "      <td>5</td>\n",
       "      <td>3</td>\n",
       "      <td>16</td>\n",
       "      <td>0</td>\n",
       "      <td>9</td>\n",
       "      <td>0</td>\n",
       "    </tr>\n",
       "    <tr>\n",
       "      <th>4</th>\n",
       "      <td>81</td>\n",
       "      <td>2</td>\n",
       "      <td>2</td>\n",
       "      <td>6</td>\n",
       "      <td>6</td>\n",
       "      <td>3</td>\n",
       "      <td>22</td>\n",
       "      <td>0</td>\n",
       "      <td>9</td>\n",
       "      <td>0</td>\n",
       "    </tr>\n",
       "  </tbody>\n",
       "</table>\n",
       "</div>"
      ],
      "text/plain": [
       "   price_encoded  Ram_encoded  Rom_encoded  Expand_encoded  Screen_encoded  \\\n",
       "0             40            1            2               6              19   \n",
       "1             40            1            2               6              19   \n",
       "2             71            2            5               6               9   \n",
       "3             81            1            2               5               5   \n",
       "4             81            2            2               6               6   \n",
       "\n",
       "   Secondary_Camera_encoded  Battery_encoded  Warranty_encoded  \\\n",
       "0                         3               41                 0   \n",
       "1                         3               41                 0   \n",
       "2                         4               31                 0   \n",
       "3                         3               16                 0   \n",
       "4                         3               22                 0   \n",
       "\n",
       "   Rating_encoded  Dual_sim_encoded  \n",
       "0              12                 0  \n",
       "1              12                 0  \n",
       "2              10                 0  \n",
       "3               9                 0  \n",
       "4               9                 0  "
      ]
     },
     "execution_count": 23,
     "metadata": {},
     "output_type": "execute_result"
    }
   ],
   "source": [
    "df.head()"
   ]
  },
  {
   "cell_type": "code",
   "execution_count": 24,
   "metadata": {},
   "outputs": [],
   "source": [
    "x = df[['Ram_encoded','Rom_encoded','Expand_encoded','Screen_encoded','Secondary_Camera_encoded',\n",
    "         'Battery_encoded','Warranty_encoded','Rating_encoded','Dual_sim_encoded']]"
   ]
  },
  {
   "cell_type": "code",
   "execution_count": 25,
   "metadata": {},
   "outputs": [],
   "source": [
    "y = df.price_encoded"
   ]
  },
  {
   "cell_type": "code",
   "execution_count": 26,
   "metadata": {},
   "outputs": [
    {
     "data": {
      "text/html": [
       "<div>\n",
       "<style scoped>\n",
       "    .dataframe tbody tr th:only-of-type {\n",
       "        vertical-align: middle;\n",
       "    }\n",
       "\n",
       "    .dataframe tbody tr th {\n",
       "        vertical-align: top;\n",
       "    }\n",
       "\n",
       "    .dataframe thead th {\n",
       "        text-align: right;\n",
       "    }\n",
       "</style>\n",
       "<table border=\"1\" class=\"dataframe\">\n",
       "  <thead>\n",
       "    <tr style=\"text-align: right;\">\n",
       "      <th></th>\n",
       "      <th>Ram_encoded</th>\n",
       "      <th>Rom_encoded</th>\n",
       "      <th>Expand_encoded</th>\n",
       "      <th>Screen_encoded</th>\n",
       "      <th>Secondary_Camera_encoded</th>\n",
       "      <th>Battery_encoded</th>\n",
       "      <th>Warranty_encoded</th>\n",
       "      <th>Rating_encoded</th>\n",
       "      <th>Dual_sim_encoded</th>\n",
       "    </tr>\n",
       "  </thead>\n",
       "  <tbody>\n",
       "    <tr>\n",
       "      <th>0</th>\n",
       "      <td>1</td>\n",
       "      <td>2</td>\n",
       "      <td>6</td>\n",
       "      <td>19</td>\n",
       "      <td>3</td>\n",
       "      <td>41</td>\n",
       "      <td>0</td>\n",
       "      <td>12</td>\n",
       "      <td>0</td>\n",
       "    </tr>\n",
       "    <tr>\n",
       "      <th>1</th>\n",
       "      <td>1</td>\n",
       "      <td>2</td>\n",
       "      <td>6</td>\n",
       "      <td>19</td>\n",
       "      <td>3</td>\n",
       "      <td>41</td>\n",
       "      <td>0</td>\n",
       "      <td>12</td>\n",
       "      <td>0</td>\n",
       "    </tr>\n",
       "    <tr>\n",
       "      <th>2</th>\n",
       "      <td>2</td>\n",
       "      <td>5</td>\n",
       "      <td>6</td>\n",
       "      <td>9</td>\n",
       "      <td>4</td>\n",
       "      <td>31</td>\n",
       "      <td>0</td>\n",
       "      <td>10</td>\n",
       "      <td>0</td>\n",
       "    </tr>\n",
       "    <tr>\n",
       "      <th>3</th>\n",
       "      <td>1</td>\n",
       "      <td>2</td>\n",
       "      <td>5</td>\n",
       "      <td>5</td>\n",
       "      <td>3</td>\n",
       "      <td>16</td>\n",
       "      <td>0</td>\n",
       "      <td>9</td>\n",
       "      <td>0</td>\n",
       "    </tr>\n",
       "    <tr>\n",
       "      <th>4</th>\n",
       "      <td>2</td>\n",
       "      <td>2</td>\n",
       "      <td>6</td>\n",
       "      <td>6</td>\n",
       "      <td>3</td>\n",
       "      <td>22</td>\n",
       "      <td>0</td>\n",
       "      <td>9</td>\n",
       "      <td>0</td>\n",
       "    </tr>\n",
       "  </tbody>\n",
       "</table>\n",
       "</div>"
      ],
      "text/plain": [
       "   Ram_encoded  Rom_encoded  Expand_encoded  Screen_encoded  \\\n",
       "0            1            2               6              19   \n",
       "1            1            2               6              19   \n",
       "2            2            5               6               9   \n",
       "3            1            2               5               5   \n",
       "4            2            2               6               6   \n",
       "\n",
       "   Secondary_Camera_encoded  Battery_encoded  Warranty_encoded  \\\n",
       "0                         3               41                 0   \n",
       "1                         3               41                 0   \n",
       "2                         4               31                 0   \n",
       "3                         3               16                 0   \n",
       "4                         3               22                 0   \n",
       "\n",
       "   Rating_encoded  Dual_sim_encoded  \n",
       "0              12                 0  \n",
       "1              12                 0  \n",
       "2              10                 0  \n",
       "3               9                 0  \n",
       "4               9                 0  "
      ]
     },
     "execution_count": 26,
     "metadata": {},
     "output_type": "execute_result"
    }
   ],
   "source": [
    "df.drop(['price_encoded'],axis=1).head()"
   ]
  },
  {
   "cell_type": "code",
   "execution_count": 27,
   "metadata": {},
   "outputs": [],
   "source": [
    "import seaborn as sns"
   ]
  },
  {
   "cell_type": "code",
   "execution_count": 28,
   "metadata": {},
   "outputs": [
    {
     "data": {
      "image/png": "[encoded data removed]",
      "text/plain": [
       "<Figure size 438.5x360 with 1 Axes>"
      ]
     },
     "metadata": {
      "needs_background": "light"
     },
     "output_type": "display_data"
    }
   ],
   "source": [
    "g = sns.lmplot(x=\"Ram_encoded\", y=\"price_encoded\", hue=\"Ram_encoded\",data=df, palette=\"Set1\")"
   ]
  },
  {
   "cell_type": "code",
   "execution_count": 29,
   "metadata": {},
   "outputs": [
    {
     "data": {
      "text/plain": [
       "((696,), (696, 9))"
      ]
     },
     "execution_count": 29,
     "metadata": {},
     "output_type": "execute_result"
    }
   ],
   "source": [
    "y.shape, x.shape"
   ]
  },
  {
   "cell_type": "code",
   "execution_count": 30,
   "metadata": {},
   "outputs": [],
   "source": [
    "from sklearn.model_selection import train_test_split"
   ]
  },
  {
   "cell_type": "code",
   "execution_count": 31,
   "metadata": {},
   "outputs": [],
   "source": [
    "X_train,X_test,y_train,y_test = train_test_split(x, y, test_size=0.20,random_state=2)"
   ]
  },
  {
   "cell_type": "code",
   "execution_count": 32,
   "metadata": {},
   "outputs": [
    {
     "data": {
      "text/plain": [
       "(140,)"
      ]
     },
     "execution_count": 32,
     "metadata": {},
     "output_type": "execute_result"
    }
   ],
   "source": [
    "y_test.shape"
   ]
  },
  {
   "cell_type": "code",
   "execution_count": 33,
   "metadata": {},
   "outputs": [],
   "source": [
    "from sklearn.linear_model import LinearRegression"
   ]
  },
  {
   "cell_type": "code",
   "execution_count": 34,
   "metadata": {},
   "outputs": [],
   "source": [
    "lr_model = LinearRegression()"
   ]
  },
  {
   "cell_type": "code",
   "execution_count": 35,
   "metadata": {},
   "outputs": [
    {
     "data": {
      "text/plain": [
       "LinearRegression(copy_X=True, fit_intercept=True, n_jobs=None, normalize=False)"
      ]
     },
     "execution_count": 35,
     "metadata": {},
     "output_type": "execute_result"
    }
   ],
   "source": [
    "lr_model.fit(X_train,y_train)"
   ]
  },
  {
   "cell_type": "code",
   "execution_count": 36,
   "metadata": {},
   "outputs": [],
   "source": [
    "prediction_price=lr_model.predict(X_test)"
   ]
  },
  {
   "cell_type": "code",
   "execution_count": 37,
   "metadata": {},
   "outputs": [],
   "source": [
    "# print(\"Train result:\", lr_model.score(X_train, y_train))\n",
    "# print(\"Test result:\", lr_model.score(X_test, y_test))"
   ]
  },
  {
   "cell_type": "code",
   "execution_count": 38,
   "metadata": {},
   "outputs": [
    {
     "name": "stdout",
     "output_type": "stream",
     "text": [
      "ACCURACY: 78.15 %\n"
     ]
    }
   ],
   "source": [
    "accuracy = lr_model.score(X_test,y_test)*100\n",
    "accuracy =  np.around(accuracy, decimals=2)\n",
    "print(\"ACCURACY:\",accuracy,\"%\")"
   ]
  },
  {
   "cell_type": "code",
   "execution_count": 39,
   "metadata": {},
   "outputs": [],
   "source": [
    "from sklearn import metrics"
   ]
  },
  {
   "cell_type": "code",
   "execution_count": 40,
   "metadata": {},
   "outputs": [
    {
     "data": {
      "text/plain": [
       "0.7815452656945625"
      ]
     },
     "execution_count": 40,
     "metadata": {},
     "output_type": "execute_result"
    }
   ],
   "source": [
    "metrics.r2_score(y_test,prediction_price)"
   ]
  },
  {
   "cell_type": "code",
   "execution_count": 41,
   "metadata": {},
   "outputs": [],
   "source": [
    "# comp = pd.DataFrame({\"Actual_price\":y_test_,\"Actual_price_encoded\":y_test,\"predicted_price\":prediction_price})"
   ]
  },
  {
   "cell_type": "code",
   "execution_count": 42,
   "metadata": {},
   "outputs": [],
   "source": [
    "# act_and_pred=comp.head(51)"
   ]
  },
  {
   "cell_type": "code",
   "execution_count": 43,
   "metadata": {},
   "outputs": [],
   "source": [
    "# act_and_pred=np.around(act_and_pred, decimals=0)"
   ]
  },
  {
   "cell_type": "code",
   "execution_count": null,
   "metadata": {},
   "outputs": [],
   "source": [
    "y_test.shape"
   ]
  },
  {
   "cell_type": "code",
   "execution_count": null,
   "metadata": {},
   "outputs": [],
   "source": [
    "# act_and_pred.head(10)"
   ]
  },
  {
   "cell_type": "code",
   "execution_count": 49,
   "metadata": {},
   "outputs": [],
   "source": [
    "compar = pd.DataFrame({\"Actual_price_(encoded)\":y_test,\"predicted_price\":prediction_price})"
   ]
  },
  {
   "cell_type": "code",
   "execution_count": 50,
   "metadata": {},
   "outputs": [],
   "source": [
    "act_and_pred2=compar.head(100)"
   ]
  },
  {
   "cell_type": "code",
   "execution_count": 51,
   "metadata": {},
   "outputs": [
    {
     "data": {
      "text/html": [
       "<div>\n",
       "<style scoped>\n",
       "    .dataframe tbody tr th:only-of-type {\n",
       "        vertical-align: middle;\n",
       "    }\n",
       "\n",
       "    .dataframe tbody tr th {\n",
       "        vertical-align: top;\n",
       "    }\n",
       "\n",
       "    .dataframe thead th {\n",
       "        text-align: right;\n",
       "    }\n",
       "</style>\n",
       "<table border=\"1\" class=\"dataframe\">\n",
       "  <thead>\n",
       "    <tr style=\"text-align: right;\">\n",
       "      <th></th>\n",
       "      <th>Actual_price_(encoded)</th>\n",
       "      <th>predicted_price</th>\n",
       "    </tr>\n",
       "  </thead>\n",
       "  <tbody>\n",
       "    <tr>\n",
       "      <th>89</th>\n",
       "      <td>91</td>\n",
       "      <td>93.001219</td>\n",
       "    </tr>\n",
       "    <tr>\n",
       "      <th>176</th>\n",
       "      <td>25</td>\n",
       "      <td>22.274441</td>\n",
       "    </tr>\n",
       "    <tr>\n",
       "      <th>37</th>\n",
       "      <td>111</td>\n",
       "      <td>124.434770</td>\n",
       "    </tr>\n",
       "  </tbody>\n",
       "</table>\n",
       "</div>"
      ],
      "text/plain": [
       "     Actual_price_(encoded)  predicted_price\n",
       "89                       91        93.001219\n",
       "176                      25        22.274441\n",
       "37                      111       124.434770"
      ]
     },
     "execution_count": 51,
     "metadata": {},
     "output_type": "execute_result"
    }
   ],
   "source": [
    "act_and_pred2.head(3)"
   ]
  },
  {
   "cell_type": "code",
   "execution_count": 52,
   "metadata": {},
   "outputs": [],
   "source": [
    "# act_and_pred2.to_csv('final_output.csv')"
   ]
  },
  {
   "cell_type": "code",
   "execution_count": 53,
   "metadata": {},
   "outputs": [
    {
     "data": {
      "image/png": "[encoded data removed]",
      "text/plain": [
       "<Figure size 1080x720 with 1 Axes>"
      ]
     },
     "metadata": {
      "needs_background": "light"
     },
     "output_type": "display_data"
    }
   ],
   "source": [
    "import matplotlib.pyplot as plt\n",
    "act_and_pred2.plot(kind='bar',figsize=(15,10))\n",
    "# plt.grid(linewidth='0.5', color='green')\n",
    "# plt.grid(linewidth='0.5', color='blue')\n",
    "plt.show()"
   ]
  },
  {
   "cell_type": "code",
   "execution_count": 54,
   "metadata": {},
   "outputs": [],
   "source": [
    "# act_and_pred2.hist(bins=50, figsize=(15, 5))\n",
    "# plt.show()"
   ]
  },
  {
   "cell_type": "code",
   "execution_count": 55,
   "metadata": {},
   "outputs": [
    {
     "name": "stdout",
     "output_type": "stream",
     "text": [
      "Mean Absolute Error: 11.828262494003226\n",
      "Mean Squared Error: 265.52352635007315\n",
      "Root Mean Squared Error: 16.29489264616595\n"
     ]
    }
   ],
   "source": [
    "print('Mean Absolute Error:', metrics.mean_absolute_error(y_test, prediction_price))  \n",
    "print('Mean Squared Error:', metrics.mean_squared_error(y_test, prediction_price))  \n",
    "print('Root Mean Squared Error:', np.sqrt(metrics.mean_squared_error(y_test, prediction_price))) "
   ]
  },
  {
   "cell_type": "code",
   "execution_count": 56,
   "metadata": {},
   "outputs": [
    {
     "data": {
      "text/plain": [
       "0.08426851098195985"
      ]
     },
     "execution_count": 56,
     "metadata": {},
     "output_type": "execute_result"
    }
   ],
   "source": [
    "metrics.mean_squared_log_error(y_test,prediction_price)"
   ]
  },
  {
   "cell_type": "code",
   "execution_count": 57,
   "metadata": {},
   "outputs": [
    {
     "data": {
      "text/plain": [
       "8.340373570095668"
      ]
     },
     "execution_count": 57,
     "metadata": {},
     "output_type": "execute_result"
    }
   ],
   "source": [
    "metrics.median_absolute_error(y_test,prediction_price)"
   ]
  },
  {
   "cell_type": "code",
   "execution_count": 58,
   "metadata": {},
   "outputs": [
    {
     "data": {
      "text/plain": [
       "0.7818822638509084"
      ]
     },
     "execution_count": 58,
     "metadata": {},
     "output_type": "execute_result"
    }
   ],
   "source": [
    "metrics.explained_variance_score(y_test,prediction_price)     "
   ]
  },
  {
   "cell_type": "code",
   "execution_count": 59,
   "metadata": {},
   "outputs": [],
   "source": [
    "df_2=pd.DataFrame(act_and_pred2)"
   ]
  },
  {
   "cell_type": "code",
   "execution_count": 60,
   "metadata": {},
   "outputs": [
    {
     "data": {
      "text/plain": [
       "<matplotlib.axes._subplots.AxesSubplot at 0x7f12ed0a2080>"
      ]
     },
     "execution_count": 60,
     "metadata": {},
     "output_type": "execute_result"
    },
    {
     "data": {
      "image/png": "[encoded data removed]",
      "text/plain": [
       "<Figure size 432x288 with 1 Axes>"
      ]
     },
     "metadata": {
      "needs_background": "light"
     },
     "output_type": "display_data"
    }
   ],
   "source": [
    "sns.scatterplot(x=\"Actual_price_(encoded)\", y=\"predicted_price\",data=df_2,palette=\"set2\")"
   ]
  },
  {
   "cell_type": "code",
   "execution_count": 61,
   "metadata": {},
   "outputs": [],
   "source": [
    "#y = m1*Ram+ m2*Rom+ m3*Expandable +m4*Screen +m5*Secondary_Camera +m6*Battery+m7*Warranty......+b"
   ]
  },
  {
   "cell_type": "code",
   "execution_count": 62,
   "metadata": {},
   "outputs": [
    {
     "data": {
      "text/plain": [
       "<seaborn.axisgrid.FacetGrid at 0x7f12ecc50128>"
      ]
     },
     "execution_count": 62,
     "metadata": {},
     "output_type": "execute_result"
    },
    {
     "data": {
      "image/png": "[encoded data removed]",
      "text/plain": [
       "<Figure size 432x432 with 1 Axes>"
      ]
     },
     "metadata": {
      "needs_background": "light"
     },
     "output_type": "display_data"
    }
   ],
   "source": [
    "sns.lmplot(x=\"Actual_price_(encoded)\", y=\"predicted_price\",data=df_2,palette=\"set1\",height=6)"
   ]
  },
  {
   "cell_type": "code",
   "execution_count": 63,
   "metadata": {},
   "outputs": [
    {
     "data": {
      "text/plain": [
       "array([ 9.80263447,  8.49374169, -2.78474221,  0.51293224,  1.1177527 ,\n",
       "       -0.13397062,  0.        ,  2.61437022,  0.        ])"
      ]
     },
     "execution_count": 63,
     "metadata": {},
     "output_type": "execute_result"
    }
   ],
   "source": [
    "lr_model.coef_"
   ]
  },
  {
   "cell_type": "code",
   "execution_count": 81,
   "metadata": {},
   "outputs": [
    {
     "name": "stdout",
     "output_type": "stream",
     "text": [
      "('price_encoded', 9.80263446889356)\n",
      "('Ram_encoded', 8.493741694113469)\n",
      "('Rom_encoded', -2.784742213322507)\n",
      "('Expand_encoded', 0.5129322429512131)\n",
      "('Screen_encoded', 1.1177526974795704)\n",
      "('Secondary_Camera_encoded', -0.13397062212917543)\n",
      "('Battery_encoded', 0.0)\n",
      "('Warranty_encoded', 2.61437021501654)\n",
      "('Rating_encoded', 0.0)\n"
     ]
    }
   ],
   "source": [
    "for coef in zip(df, lr_model.coef_):\n",
    "    print(coef)"
   ]
  },
  {
   "cell_type": "code",
   "execution_count": 82,
   "metadata": {},
   "outputs": [
    {
     "data": {
      "text/plain": [
       "2.0964871285278264"
      ]
     },
     "execution_count": 82,
     "metadata": {},
     "output_type": "execute_result"
    }
   ],
   "source": [
    "lr_model.intercept_"
   ]
  },
  {
   "cell_type": "code",
   "execution_count": 65,
   "metadata": {},
   "outputs": [
    {
     "data": {
      "text/plain": [
       "78.54002519852783"
      ]
     },
     "execution_count": 65,
     "metadata": {},
     "output_type": "execute_result"
    }
   ],
   "source": [
    "9.80263447*2+ 8.49374169*5+(-2.78474221*6)+0.51293224*9+1.1177527*4+( -0.13397062*31)+  0*0+ 2.61437022*10+0*0+2.0964871285278264"
   ]
  },
  {
   "cell_type": "code",
   "execution_count": 66,
   "metadata": {},
   "outputs": [
    {
     "data": {
      "text/html": [
       "<div>\n",
       "<style scoped>\n",
       "    .dataframe tbody tr th:only-of-type {\n",
       "        vertical-align: middle;\n",
       "    }\n",
       "\n",
       "    .dataframe tbody tr th {\n",
       "        vertical-align: top;\n",
       "    }\n",
       "\n",
       "    .dataframe thead th {\n",
       "        text-align: right;\n",
       "    }\n",
       "</style>\n",
       "<table border=\"1\" class=\"dataframe\">\n",
       "  <thead>\n",
       "    <tr style=\"text-align: right;\">\n",
       "      <th></th>\n",
       "      <th>price_encoded</th>\n",
       "      <th>Ram_encoded</th>\n",
       "      <th>Rom_encoded</th>\n",
       "      <th>Expand_encoded</th>\n",
       "      <th>Screen_encoded</th>\n",
       "      <th>Secondary_Camera_encoded</th>\n",
       "      <th>Battery_encoded</th>\n",
       "      <th>Warranty_encoded</th>\n",
       "      <th>Rating_encoded</th>\n",
       "      <th>Dual_sim_encoded</th>\n",
       "    </tr>\n",
       "  </thead>\n",
       "  <tbody>\n",
       "    <tr>\n",
       "      <th>0</th>\n",
       "      <td>40</td>\n",
       "      <td>1</td>\n",
       "      <td>2</td>\n",
       "      <td>6</td>\n",
       "      <td>19</td>\n",
       "      <td>3</td>\n",
       "      <td>41</td>\n",
       "      <td>0</td>\n",
       "      <td>12</td>\n",
       "      <td>0</td>\n",
       "    </tr>\n",
       "    <tr>\n",
       "      <th>1</th>\n",
       "      <td>40</td>\n",
       "      <td>1</td>\n",
       "      <td>2</td>\n",
       "      <td>6</td>\n",
       "      <td>19</td>\n",
       "      <td>3</td>\n",
       "      <td>41</td>\n",
       "      <td>0</td>\n",
       "      <td>12</td>\n",
       "      <td>0</td>\n",
       "    </tr>\n",
       "    <tr>\n",
       "      <th>2</th>\n",
       "      <td>71</td>\n",
       "      <td>2</td>\n",
       "      <td>5</td>\n",
       "      <td>6</td>\n",
       "      <td>9</td>\n",
       "      <td>4</td>\n",
       "      <td>31</td>\n",
       "      <td>0</td>\n",
       "      <td>10</td>\n",
       "      <td>0</td>\n",
       "    </tr>\n",
       "    <tr>\n",
       "      <th>3</th>\n",
       "      <td>81</td>\n",
       "      <td>1</td>\n",
       "      <td>2</td>\n",
       "      <td>5</td>\n",
       "      <td>5</td>\n",
       "      <td>3</td>\n",
       "      <td>16</td>\n",
       "      <td>0</td>\n",
       "      <td>9</td>\n",
       "      <td>0</td>\n",
       "    </tr>\n",
       "  </tbody>\n",
       "</table>\n",
       "</div>"
      ],
      "text/plain": [
       "   price_encoded  Ram_encoded  Rom_encoded  Expand_encoded  Screen_encoded  \\\n",
       "0             40            1            2               6              19   \n",
       "1             40            1            2               6              19   \n",
       "2             71            2            5               6               9   \n",
       "3             81            1            2               5               5   \n",
       "\n",
       "   Secondary_Camera_encoded  Battery_encoded  Warranty_encoded  \\\n",
       "0                         3               41                 0   \n",
       "1                         3               41                 0   \n",
       "2                         4               31                 0   \n",
       "3                         3               16                 0   \n",
       "\n",
       "   Rating_encoded  Dual_sim_encoded  \n",
       "0              12                 0  \n",
       "1              12                 0  \n",
       "2              10                 0  \n",
       "3               9                 0  "
      ]
     },
     "execution_count": 66,
     "metadata": {},
     "output_type": "execute_result"
    }
   ],
   "source": [
    "df.head(4)"
   ]
  },
  {
   "cell_type": "code",
   "execution_count": null,
   "metadata": {},
   "outputs": [],
   "source": []
  },
  {
   "cell_type": "code",
   "execution_count": null,
   "metadata": {},
   "outputs": [],
   "source": []
  },
  {
   "cell_type": "code",
   "execution_count": null,
   "metadata": {},
   "outputs": [],
   "source": []
  }
 ],
 "metadata": {
  "kernelspec": {
   "display_name": "Python 3",
   "language": "python",
   "name": "python3"
  },
  "language_info": {
   "codemirror_mode": {
    "name": "ipython",
    "version": 3
   },
   "file_extension": ".py",
   "mimetype": "text/x-python",
   "name": "python",
   "nbconvert_exporter": "python",
   "pygments_lexer": "ipython3",
   "version": "3.6.8"
  }
 },
 "nbformat": 4,
 "nbformat_minor": 2
}
